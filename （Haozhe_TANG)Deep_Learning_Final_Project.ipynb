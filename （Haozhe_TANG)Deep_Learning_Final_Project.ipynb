{
 "cells": [
  {
   "cell_type": "markdown",
   "id": "6a055d7a",
   "metadata": {},
   "source": [
    "<i>This notebook is made by Haozhe TANG on 24, April for the final project of Deep Learning.</i>"
   ]
  },
  {
   "cell_type": "markdown",
   "id": "182ef915",
   "metadata": {
    "heading_collapsed": true
   },
   "source": [
    "# Import packages"
   ]
  },
  {
   "cell_type": "code",
   "execution_count": 1,
   "id": "4d8d16af",
   "metadata": {
    "hidden": true
   },
   "outputs": [],
   "source": [
    "#Basic packages\n",
    "import numpy as np\n",
    "import pandas as pd\n",
    "import matplotlib.pyplot as plt\n",
    "import math\n",
    "import seaborn as sns\n",
    "import pathlib\n",
    "\n",
    "#Tensorflow\n",
    "import tensorflow as tf\n",
    "\n",
    "#Sklearn\n",
    "from sklearn.model_selection import train_test_split\n",
    "from sklearn.metrics import (accuracy_score, \n",
    "                             f1_score, \n",
    "                             confusion_matrix, \n",
    "                             classification_report)\n"
   ]
  },
  {
   "cell_type": "markdown",
   "id": "2b2ac8f8",
   "metadata": {
    "heading_collapsed": true
   },
   "source": [
    "# 1. Data Proprocessing"
   ]
  },
  {
   "cell_type": "markdown",
   "id": "96bc99a2",
   "metadata": {
    "heading_collapsed": true,
    "hidden": true
   },
   "source": [
    "## 1.1 Data import and discovery"
   ]
  },
  {
   "cell_type": "code",
   "execution_count": 2,
   "id": "2bb4fc80",
   "metadata": {
    "hidden": true
   },
   "outputs": [
    {
     "data": {
      "text/html": [
       "<div>\n",
       "<style scoped>\n",
       "    .dataframe tbody tr th:only-of-type {\n",
       "        vertical-align: middle;\n",
       "    }\n",
       "\n",
       "    .dataframe tbody tr th {\n",
       "        vertical-align: top;\n",
       "    }\n",
       "\n",
       "    .dataframe thead th {\n",
       "        text-align: right;\n",
       "    }\n",
       "</style>\n",
       "<table border=\"1\" class=\"dataframe\">\n",
       "  <thead>\n",
       "    <tr style=\"text-align: right;\">\n",
       "      <th></th>\n",
       "      <th>pixel0</th>\n",
       "      <th>pixel1</th>\n",
       "      <th>pixel2</th>\n",
       "      <th>pixel3</th>\n",
       "      <th>pixel4</th>\n",
       "      <th>pixel5</th>\n",
       "      <th>pixel6</th>\n",
       "      <th>pixel7</th>\n",
       "      <th>pixel8</th>\n",
       "      <th>pixel9</th>\n",
       "      <th>...</th>\n",
       "      <th>pixel2491</th>\n",
       "      <th>pixel2492</th>\n",
       "      <th>pixel2493</th>\n",
       "      <th>pixel2494</th>\n",
       "      <th>pixel2495</th>\n",
       "      <th>pixel2496</th>\n",
       "      <th>pixel2497</th>\n",
       "      <th>pixel2498</th>\n",
       "      <th>pixel2499</th>\n",
       "      <th>Rice_type</th>\n",
       "    </tr>\n",
       "  </thead>\n",
       "  <tbody>\n",
       "    <tr>\n",
       "      <th>0</th>\n",
       "      <td>0</td>\n",
       "      <td>0</td>\n",
       "      <td>0</td>\n",
       "      <td>0</td>\n",
       "      <td>0</td>\n",
       "      <td>0</td>\n",
       "      <td>0</td>\n",
       "      <td>0</td>\n",
       "      <td>0</td>\n",
       "      <td>0</td>\n",
       "      <td>...</td>\n",
       "      <td>2</td>\n",
       "      <td>2</td>\n",
       "      <td>2</td>\n",
       "      <td>2</td>\n",
       "      <td>2</td>\n",
       "      <td>0</td>\n",
       "      <td>0</td>\n",
       "      <td>0</td>\n",
       "      <td>0</td>\n",
       "      <td>Basmati</td>\n",
       "    </tr>\n",
       "    <tr>\n",
       "      <th>1</th>\n",
       "      <td>0</td>\n",
       "      <td>0</td>\n",
       "      <td>0</td>\n",
       "      <td>0</td>\n",
       "      <td>0</td>\n",
       "      <td>0</td>\n",
       "      <td>0</td>\n",
       "      <td>0</td>\n",
       "      <td>0</td>\n",
       "      <td>0</td>\n",
       "      <td>...</td>\n",
       "      <td>2</td>\n",
       "      <td>2</td>\n",
       "      <td>2</td>\n",
       "      <td>2</td>\n",
       "      <td>2</td>\n",
       "      <td>0</td>\n",
       "      <td>0</td>\n",
       "      <td>0</td>\n",
       "      <td>0</td>\n",
       "      <td>Basmati</td>\n",
       "    </tr>\n",
       "    <tr>\n",
       "      <th>2</th>\n",
       "      <td>0</td>\n",
       "      <td>0</td>\n",
       "      <td>0</td>\n",
       "      <td>0</td>\n",
       "      <td>0</td>\n",
       "      <td>0</td>\n",
       "      <td>0</td>\n",
       "      <td>0</td>\n",
       "      <td>0</td>\n",
       "      <td>0</td>\n",
       "      <td>...</td>\n",
       "      <td>2</td>\n",
       "      <td>2</td>\n",
       "      <td>2</td>\n",
       "      <td>2</td>\n",
       "      <td>2</td>\n",
       "      <td>0</td>\n",
       "      <td>0</td>\n",
       "      <td>0</td>\n",
       "      <td>0</td>\n",
       "      <td>Basmati</td>\n",
       "    </tr>\n",
       "    <tr>\n",
       "      <th>3</th>\n",
       "      <td>0</td>\n",
       "      <td>0</td>\n",
       "      <td>0</td>\n",
       "      <td>0</td>\n",
       "      <td>0</td>\n",
       "      <td>0</td>\n",
       "      <td>0</td>\n",
       "      <td>0</td>\n",
       "      <td>0</td>\n",
       "      <td>0</td>\n",
       "      <td>...</td>\n",
       "      <td>2</td>\n",
       "      <td>2</td>\n",
       "      <td>2</td>\n",
       "      <td>2</td>\n",
       "      <td>2</td>\n",
       "      <td>0</td>\n",
       "      <td>0</td>\n",
       "      <td>0</td>\n",
       "      <td>0</td>\n",
       "      <td>Basmati</td>\n",
       "    </tr>\n",
       "    <tr>\n",
       "      <th>4</th>\n",
       "      <td>0</td>\n",
       "      <td>0</td>\n",
       "      <td>0</td>\n",
       "      <td>0</td>\n",
       "      <td>0</td>\n",
       "      <td>0</td>\n",
       "      <td>0</td>\n",
       "      <td>0</td>\n",
       "      <td>0</td>\n",
       "      <td>0</td>\n",
       "      <td>...</td>\n",
       "      <td>2</td>\n",
       "      <td>2</td>\n",
       "      <td>2</td>\n",
       "      <td>2</td>\n",
       "      <td>2</td>\n",
       "      <td>0</td>\n",
       "      <td>0</td>\n",
       "      <td>0</td>\n",
       "      <td>0</td>\n",
       "      <td>Basmati</td>\n",
       "    </tr>\n",
       "  </tbody>\n",
       "</table>\n",
       "<p>5 rows × 2501 columns</p>\n",
       "</div>"
      ],
      "text/plain": [
       "   pixel0  pixel1  pixel2  pixel3  pixel4  pixel5  pixel6  pixel7  pixel8  \\\n",
       "0       0       0       0       0       0       0       0       0       0   \n",
       "1       0       0       0       0       0       0       0       0       0   \n",
       "2       0       0       0       0       0       0       0       0       0   \n",
       "3       0       0       0       0       0       0       0       0       0   \n",
       "4       0       0       0       0       0       0       0       0       0   \n",
       "\n",
       "   pixel9  ...  pixel2491  pixel2492  pixel2493  pixel2494  pixel2495  \\\n",
       "0       0  ...          2          2          2          2          2   \n",
       "1       0  ...          2          2          2          2          2   \n",
       "2       0  ...          2          2          2          2          2   \n",
       "3       0  ...          2          2          2          2          2   \n",
       "4       0  ...          2          2          2          2          2   \n",
       "\n",
       "   pixel2496  pixel2497  pixel2498  pixel2499  Rice_type  \n",
       "0          0          0          0          0    Basmati  \n",
       "1          0          0          0          0    Basmati  \n",
       "2          0          0          0          0    Basmati  \n",
       "3          0          0          0          0    Basmati  \n",
       "4          0          0          0          0    Basmati  \n",
       "\n",
       "[5 rows x 2501 columns]"
      ]
     },
     "execution_count": 2,
     "metadata": {},
     "output_type": "execute_result"
    }
   ],
   "source": [
    "df = pd.read_csv('rice_dataset_simplified.csv')\n",
    "df.head()"
   ]
  },
  {
   "cell_type": "markdown",
   "id": "bd1e723c",
   "metadata": {
    "hidden": true
   },
   "source": [
    "**Null value check: this dataset does not have any null values.**"
   ]
  },
  {
   "cell_type": "code",
   "execution_count": 3,
   "id": "94ec0637",
   "metadata": {
    "hidden": true,
    "scrolled": false
   },
   "outputs": [
    {
     "data": {
      "text/plain": [
       "0"
      ]
     },
     "execution_count": 3,
     "metadata": {},
     "output_type": "execute_result"
    }
   ],
   "source": [
    "sum(df.isna().sum() > 0)"
   ]
  },
  {
   "cell_type": "markdown",
   "id": "be10292e",
   "metadata": {
    "hidden": true
   },
   "source": [
    "**Duplicate check: this dataset does not have any duplicates.**"
   ]
  },
  {
   "cell_type": "code",
   "execution_count": 4,
   "id": "a321fa43",
   "metadata": {
    "hidden": true
   },
   "outputs": [
    {
     "data": {
      "text/plain": [
       "0"
      ]
     },
     "execution_count": 4,
     "metadata": {},
     "output_type": "execute_result"
    }
   ],
   "source": [
    "sum(df.duplicated())"
   ]
  },
  {
   "cell_type": "markdown",
   "id": "ccb20b61",
   "metadata": {
    "hidden": true
   },
   "source": [
    "**Label outliers check: the target of this dataset is equally splitted**"
   ]
  },
  {
   "cell_type": "code",
   "execution_count": 5,
   "id": "c666955b",
   "metadata": {
    "hidden": true,
    "scrolled": false
   },
   "outputs": [
    {
     "data": {
      "text/plain": [
       "Basmati      1000\n",
       "Arborio      1000\n",
       "Ipsala       1000\n",
       "Jasmine      1000\n",
       "Karacadag    1000\n",
       "Name: Rice_type, dtype: int64"
      ]
     },
     "execution_count": 5,
     "metadata": {},
     "output_type": "execute_result"
    }
   ],
   "source": [
    "#Label outliers check\n",
    "df['Rice_type'].value_counts()"
   ]
  },
  {
   "cell_type": "markdown",
   "id": "79589eed",
   "metadata": {
    "hidden": true
   },
   "source": [
    "**Features outliers check: did not find any outliers in feature columns**"
   ]
  },
  {
   "cell_type": "code",
   "execution_count": 6,
   "id": "022bd8e8",
   "metadata": {
    "hidden": true
   },
   "outputs": [],
   "source": [
    "#Features outliers check\n",
    "if ((df.iloc[:, :-1] > 255).any == True):\n",
    "    print('Outlier')"
   ]
  },
  {
   "cell_type": "markdown",
   "id": "c233099c",
   "metadata": {
    "heading_collapsed": true,
    "hidden": true
   },
   "source": [
    "## 1.2 Image preview"
   ]
  },
  {
   "cell_type": "code",
   "execution_count": 7,
   "id": "b475be63",
   "metadata": {
    "hidden": true
   },
   "outputs": [
    {
     "data": {
      "image/png": "[encoded data removed]",
      "text/plain": [
       "<Figure size 1440x1440 with 16 Axes>"
      ]
     },
     "metadata": {
      "needs_background": "light"
     },
     "output_type": "display_data"
    }
   ],
   "source": [
    "fig, axs = plt.subplots(4,4,figsize=(20,20))\n",
    "fig.suptitle('Some rice photos in gray from the dataset.', fontsize=20)\n",
    "samples = df.sample(n=16)\n",
    "imgs = samples.iloc[:, :-1].to_numpy().astype(np.int64)\n",
    "labels = samples.iloc[:, -1].to_numpy()\n",
    "\n",
    "for img, label, ax in zip(imgs, labels, axs.flatten()):\n",
    "    ax.imshow(img.reshape(50, 50), cmap='gray')\n",
    "    ax.set_title(label, fontsize=20)\n",
    "    ax.axis('off')\n",
    "    \n",
    "plt.show()"
   ]
  },
  {
   "cell_type": "code",
   "execution_count": 8,
   "id": "ab2c11bc",
   "metadata": {
    "hidden": true,
    "scrolled": true
   },
   "outputs": [
    {
     "data": {
      "image/png": "[encoded data removed]",
      "text/plain": [
       "<Figure size 1440x360 with 5 Axes>"
      ]
     },
     "metadata": {
      "needs_background": "light"
     },
     "output_type": "display_data"
    }
   ],
   "source": [
    "# Preview these five kinds of rices.\n",
    "fig, axs = plt.subplots(1, 5, figsize=(20, 5))\n",
    "fig.suptitle('Rice types', fontsize=20)\n",
    "type_name = ['Basmati', 'Arborio', 'Karacadag', 'Jasmine', \"Ipsala\"]\n",
    "\n",
    "for ax, label in zip(axs.flatten(), type_name):\n",
    "    img = df[df['Rice_type'] == label].iloc[0, :-1].to_numpy().astype(np.int64)\n",
    "    ax.imshow(img.reshape(50, 50), cmap='gray')\n",
    "    ax.set_title(label, fontsize=20)\n",
    "    ax.axis('off')\n",
    "\n",
    "plt.show()"
   ]
  },
  {
   "cell_type": "markdown",
   "id": "d3390172",
   "metadata": {
    "heading_collapsed": true,
    "hidden": true
   },
   "source": [
    "## 1.3 Preprocessing"
   ]
  },
  {
   "cell_type": "markdown",
   "id": "c5fbe96d",
   "metadata": {
    "heading_collapsed": true,
    "hidden": true
   },
   "source": [
    "### 1.3.1 Label Proprocessing"
   ]
  },
  {
   "cell_type": "markdown",
   "id": "f2514e26",
   "metadata": {
    "hidden": true
   },
   "source": [
    "As this is a **classification question**, we decide to mapping the label of the dataset into numbers."
   ]
  },
  {
   "cell_type": "code",
   "execution_count": 9,
   "id": "4ef140af",
   "metadata": {
    "hidden": true
   },
   "outputs": [
    {
     "data": {
      "text/plain": [
       "Basmati      1000\n",
       "Arborio      1000\n",
       "Ipsala       1000\n",
       "Jasmine      1000\n",
       "Karacadag    1000\n",
       "Name: Rice_type, dtype: int64"
      ]
     },
     "execution_count": 9,
     "metadata": {},
     "output_type": "execute_result"
    }
   ],
   "source": [
    "df.iloc[:, -1].value_counts()"
   ]
  },
  {
   "cell_type": "code",
   "execution_count": 10,
   "id": "5c490feb",
   "metadata": {
    "hidden": true,
    "scrolled": true
   },
   "outputs": [
    {
     "data": {
      "text/html": [
       "<div>\n",
       "<style scoped>\n",
       "    .dataframe tbody tr th:only-of-type {\n",
       "        vertical-align: middle;\n",
       "    }\n",
       "\n",
       "    .dataframe tbody tr th {\n",
       "        vertical-align: top;\n",
       "    }\n",
       "\n",
       "    .dataframe thead th {\n",
       "        text-align: right;\n",
       "    }\n",
       "</style>\n",
       "<table border=\"1\" class=\"dataframe\">\n",
       "  <thead>\n",
       "    <tr style=\"text-align: right;\">\n",
       "      <th></th>\n",
       "      <th>pixel0</th>\n",
       "      <th>pixel1</th>\n",
       "      <th>pixel2</th>\n",
       "      <th>pixel3</th>\n",
       "      <th>pixel4</th>\n",
       "      <th>pixel5</th>\n",
       "      <th>pixel6</th>\n",
       "      <th>pixel7</th>\n",
       "      <th>pixel8</th>\n",
       "      <th>pixel9</th>\n",
       "      <th>...</th>\n",
       "      <th>pixel2491</th>\n",
       "      <th>pixel2492</th>\n",
       "      <th>pixel2493</th>\n",
       "      <th>pixel2494</th>\n",
       "      <th>pixel2495</th>\n",
       "      <th>pixel2496</th>\n",
       "      <th>pixel2497</th>\n",
       "      <th>pixel2498</th>\n",
       "      <th>pixel2499</th>\n",
       "      <th>Rice_type</th>\n",
       "    </tr>\n",
       "  </thead>\n",
       "  <tbody>\n",
       "    <tr>\n",
       "      <th>0</th>\n",
       "      <td>0</td>\n",
       "      <td>0</td>\n",
       "      <td>0</td>\n",
       "      <td>0</td>\n",
       "      <td>0</td>\n",
       "      <td>0</td>\n",
       "      <td>0</td>\n",
       "      <td>0</td>\n",
       "      <td>0</td>\n",
       "      <td>0</td>\n",
       "      <td>...</td>\n",
       "      <td>2</td>\n",
       "      <td>2</td>\n",
       "      <td>2</td>\n",
       "      <td>2</td>\n",
       "      <td>2</td>\n",
       "      <td>0</td>\n",
       "      <td>0</td>\n",
       "      <td>0</td>\n",
       "      <td>0</td>\n",
       "      <td>0</td>\n",
       "    </tr>\n",
       "    <tr>\n",
       "      <th>1</th>\n",
       "      <td>0</td>\n",
       "      <td>0</td>\n",
       "      <td>0</td>\n",
       "      <td>0</td>\n",
       "      <td>0</td>\n",
       "      <td>0</td>\n",
       "      <td>0</td>\n",
       "      <td>0</td>\n",
       "      <td>0</td>\n",
       "      <td>0</td>\n",
       "      <td>...</td>\n",
       "      <td>2</td>\n",
       "      <td>2</td>\n",
       "      <td>2</td>\n",
       "      <td>2</td>\n",
       "      <td>2</td>\n",
       "      <td>0</td>\n",
       "      <td>0</td>\n",
       "      <td>0</td>\n",
       "      <td>0</td>\n",
       "      <td>0</td>\n",
       "    </tr>\n",
       "    <tr>\n",
       "      <th>2</th>\n",
       "      <td>0</td>\n",
       "      <td>0</td>\n",
       "      <td>0</td>\n",
       "      <td>0</td>\n",
       "      <td>0</td>\n",
       "      <td>0</td>\n",
       "      <td>0</td>\n",
       "      <td>0</td>\n",
       "      <td>0</td>\n",
       "      <td>0</td>\n",
       "      <td>...</td>\n",
       "      <td>2</td>\n",
       "      <td>2</td>\n",
       "      <td>2</td>\n",
       "      <td>2</td>\n",
       "      <td>2</td>\n",
       "      <td>0</td>\n",
       "      <td>0</td>\n",
       "      <td>0</td>\n",
       "      <td>0</td>\n",
       "      <td>0</td>\n",
       "    </tr>\n",
       "    <tr>\n",
       "      <th>3</th>\n",
       "      <td>0</td>\n",
       "      <td>0</td>\n",
       "      <td>0</td>\n",
       "      <td>0</td>\n",
       "      <td>0</td>\n",
       "      <td>0</td>\n",
       "      <td>0</td>\n",
       "      <td>0</td>\n",
       "      <td>0</td>\n",
       "      <td>0</td>\n",
       "      <td>...</td>\n",
       "      <td>2</td>\n",
       "      <td>2</td>\n",
       "      <td>2</td>\n",
       "      <td>2</td>\n",
       "      <td>2</td>\n",
       "      <td>0</td>\n",
       "      <td>0</td>\n",
       "      <td>0</td>\n",
       "      <td>0</td>\n",
       "      <td>0</td>\n",
       "    </tr>\n",
       "    <tr>\n",
       "      <th>4</th>\n",
       "      <td>0</td>\n",
       "      <td>0</td>\n",
       "      <td>0</td>\n",
       "      <td>0</td>\n",
       "      <td>0</td>\n",
       "      <td>0</td>\n",
       "      <td>0</td>\n",
       "      <td>0</td>\n",
       "      <td>0</td>\n",
       "      <td>0</td>\n",
       "      <td>...</td>\n",
       "      <td>2</td>\n",
       "      <td>2</td>\n",
       "      <td>2</td>\n",
       "      <td>2</td>\n",
       "      <td>2</td>\n",
       "      <td>0</td>\n",
       "      <td>0</td>\n",
       "      <td>0</td>\n",
       "      <td>0</td>\n",
       "      <td>0</td>\n",
       "    </tr>\n",
       "  </tbody>\n",
       "</table>\n",
       "<p>5 rows × 2501 columns</p>\n",
       "</div>"
      ],
      "text/plain": [
       "   pixel0  pixel1  pixel2  pixel3  pixel4  pixel5  pixel6  pixel7  pixel8  \\\n",
       "0       0       0       0       0       0       0       0       0       0   \n",
       "1       0       0       0       0       0       0       0       0       0   \n",
       "2       0       0       0       0       0       0       0       0       0   \n",
       "3       0       0       0       0       0       0       0       0       0   \n",
       "4       0       0       0       0       0       0       0       0       0   \n",
       "\n",
       "   pixel9  ...  pixel2491  pixel2492  pixel2493  pixel2494  pixel2495  \\\n",
       "0       0  ...          2          2          2          2          2   \n",
       "1       0  ...          2          2          2          2          2   \n",
       "2       0  ...          2          2          2          2          2   \n",
       "3       0  ...          2          2          2          2          2   \n",
       "4       0  ...          2          2          2          2          2   \n",
       "\n",
       "   pixel2496  pixel2497  pixel2498  pixel2499  Rice_type  \n",
       "0          0          0          0          0          0  \n",
       "1          0          0          0          0          0  \n",
       "2          0          0          0          0          0  \n",
       "3          0          0          0          0          0  \n",
       "4          0          0          0          0          0  \n",
       "\n",
       "[5 rows x 2501 columns]"
      ]
     },
     "execution_count": 10,
     "metadata": {},
     "output_type": "execute_result"
    }
   ],
   "source": [
    "df.iloc[:, -1] = df.iloc[:, -1].map({\n",
    "    'Basmati': 0,\n",
    "    \"Arborio\": 1,\n",
    "    \"Karacadag\": 2,\n",
    "    \"Jasmine\": 3,\n",
    "    \"Ipsala\": 4\n",
    "})\n",
    "df.head()\n",
    "#Or we could use sklearn.preprocessing.LabelEncoder()"
   ]
  },
  {
   "cell_type": "markdown",
   "id": "b51c0606",
   "metadata": {
    "heading_collapsed": true,
    "hidden": true
   },
   "source": [
    "### 1.3.2 Features preprocessing"
   ]
  },
  {
   "cell_type": "markdown",
   "id": "9a5e9178",
   "metadata": {
    "hidden": true
   },
   "source": [
    "As all features are pixels in the **50x50** images and this dataset does not has any outliers - we decide to divide all values by 255 to do the **normalization process** to all pixel values."
   ]
  },
  {
   "cell_type": "code",
   "execution_count": 11,
   "id": "daf904b6",
   "metadata": {
    "hidden": true
   },
   "outputs": [
    {
     "data": {
      "text/html": [
       "<div>\n",
       "<style scoped>\n",
       "    .dataframe tbody tr th:only-of-type {\n",
       "        vertical-align: middle;\n",
       "    }\n",
       "\n",
       "    .dataframe tbody tr th {\n",
       "        vertical-align: top;\n",
       "    }\n",
       "\n",
       "    .dataframe thead th {\n",
       "        text-align: right;\n",
       "    }\n",
       "</style>\n",
       "<table border=\"1\" class=\"dataframe\">\n",
       "  <thead>\n",
       "    <tr style=\"text-align: right;\">\n",
       "      <th></th>\n",
       "      <th>pixel0</th>\n",
       "      <th>pixel1</th>\n",
       "      <th>pixel2</th>\n",
       "      <th>pixel3</th>\n",
       "      <th>pixel4</th>\n",
       "      <th>pixel5</th>\n",
       "      <th>pixel6</th>\n",
       "      <th>pixel7</th>\n",
       "      <th>pixel8</th>\n",
       "      <th>pixel9</th>\n",
       "      <th>...</th>\n",
       "      <th>pixel2491</th>\n",
       "      <th>pixel2492</th>\n",
       "      <th>pixel2493</th>\n",
       "      <th>pixel2494</th>\n",
       "      <th>pixel2495</th>\n",
       "      <th>pixel2496</th>\n",
       "      <th>pixel2497</th>\n",
       "      <th>pixel2498</th>\n",
       "      <th>pixel2499</th>\n",
       "      <th>Rice_type</th>\n",
       "    </tr>\n",
       "  </thead>\n",
       "  <tbody>\n",
       "    <tr>\n",
       "      <th>0</th>\n",
       "      <td>0.0</td>\n",
       "      <td>0.0</td>\n",
       "      <td>0.0</td>\n",
       "      <td>0.0</td>\n",
       "      <td>0.0</td>\n",
       "      <td>0.0</td>\n",
       "      <td>0.0</td>\n",
       "      <td>0.0</td>\n",
       "      <td>0.0</td>\n",
       "      <td>0.0</td>\n",
       "      <td>...</td>\n",
       "      <td>0.007843</td>\n",
       "      <td>0.007843</td>\n",
       "      <td>0.007843</td>\n",
       "      <td>0.007843</td>\n",
       "      <td>0.007843</td>\n",
       "      <td>0.0</td>\n",
       "      <td>0.0</td>\n",
       "      <td>0.0</td>\n",
       "      <td>0.0</td>\n",
       "      <td>0</td>\n",
       "    </tr>\n",
       "    <tr>\n",
       "      <th>1</th>\n",
       "      <td>0.0</td>\n",
       "      <td>0.0</td>\n",
       "      <td>0.0</td>\n",
       "      <td>0.0</td>\n",
       "      <td>0.0</td>\n",
       "      <td>0.0</td>\n",
       "      <td>0.0</td>\n",
       "      <td>0.0</td>\n",
       "      <td>0.0</td>\n",
       "      <td>0.0</td>\n",
       "      <td>...</td>\n",
       "      <td>0.007843</td>\n",
       "      <td>0.007843</td>\n",
       "      <td>0.007843</td>\n",
       "      <td>0.007843</td>\n",
       "      <td>0.007843</td>\n",
       "      <td>0.0</td>\n",
       "      <td>0.0</td>\n",
       "      <td>0.0</td>\n",
       "      <td>0.0</td>\n",
       "      <td>0</td>\n",
       "    </tr>\n",
       "    <tr>\n",
       "      <th>2</th>\n",
       "      <td>0.0</td>\n",
       "      <td>0.0</td>\n",
       "      <td>0.0</td>\n",
       "      <td>0.0</td>\n",
       "      <td>0.0</td>\n",
       "      <td>0.0</td>\n",
       "      <td>0.0</td>\n",
       "      <td>0.0</td>\n",
       "      <td>0.0</td>\n",
       "      <td>0.0</td>\n",
       "      <td>...</td>\n",
       "      <td>0.007843</td>\n",
       "      <td>0.007843</td>\n",
       "      <td>0.007843</td>\n",
       "      <td>0.007843</td>\n",
       "      <td>0.007843</td>\n",
       "      <td>0.0</td>\n",
       "      <td>0.0</td>\n",
       "      <td>0.0</td>\n",
       "      <td>0.0</td>\n",
       "      <td>0</td>\n",
       "    </tr>\n",
       "    <tr>\n",
       "      <th>3</th>\n",
       "      <td>0.0</td>\n",
       "      <td>0.0</td>\n",
       "      <td>0.0</td>\n",
       "      <td>0.0</td>\n",
       "      <td>0.0</td>\n",
       "      <td>0.0</td>\n",
       "      <td>0.0</td>\n",
       "      <td>0.0</td>\n",
       "      <td>0.0</td>\n",
       "      <td>0.0</td>\n",
       "      <td>...</td>\n",
       "      <td>0.007843</td>\n",
       "      <td>0.007843</td>\n",
       "      <td>0.007843</td>\n",
       "      <td>0.007843</td>\n",
       "      <td>0.007843</td>\n",
       "      <td>0.0</td>\n",
       "      <td>0.0</td>\n",
       "      <td>0.0</td>\n",
       "      <td>0.0</td>\n",
       "      <td>0</td>\n",
       "    </tr>\n",
       "    <tr>\n",
       "      <th>4</th>\n",
       "      <td>0.0</td>\n",
       "      <td>0.0</td>\n",
       "      <td>0.0</td>\n",
       "      <td>0.0</td>\n",
       "      <td>0.0</td>\n",
       "      <td>0.0</td>\n",
       "      <td>0.0</td>\n",
       "      <td>0.0</td>\n",
       "      <td>0.0</td>\n",
       "      <td>0.0</td>\n",
       "      <td>...</td>\n",
       "      <td>0.007843</td>\n",
       "      <td>0.007843</td>\n",
       "      <td>0.007843</td>\n",
       "      <td>0.007843</td>\n",
       "      <td>0.007843</td>\n",
       "      <td>0.0</td>\n",
       "      <td>0.0</td>\n",
       "      <td>0.0</td>\n",
       "      <td>0.0</td>\n",
       "      <td>0</td>\n",
       "    </tr>\n",
       "  </tbody>\n",
       "</table>\n",
       "<p>5 rows × 2501 columns</p>\n",
       "</div>"
      ],
      "text/plain": [
       "   pixel0  pixel1  pixel2  pixel3  pixel4  pixel5  pixel6  pixel7  pixel8  \\\n",
       "0     0.0     0.0     0.0     0.0     0.0     0.0     0.0     0.0     0.0   \n",
       "1     0.0     0.0     0.0     0.0     0.0     0.0     0.0     0.0     0.0   \n",
       "2     0.0     0.0     0.0     0.0     0.0     0.0     0.0     0.0     0.0   \n",
       "3     0.0     0.0     0.0     0.0     0.0     0.0     0.0     0.0     0.0   \n",
       "4     0.0     0.0     0.0     0.0     0.0     0.0     0.0     0.0     0.0   \n",
       "\n",
       "   pixel9  ...  pixel2491  pixel2492  pixel2493  pixel2494  pixel2495  \\\n",
       "0     0.0  ...   0.007843   0.007843   0.007843   0.007843   0.007843   \n",
       "1     0.0  ...   0.007843   0.007843   0.007843   0.007843   0.007843   \n",
       "2     0.0  ...   0.007843   0.007843   0.007843   0.007843   0.007843   \n",
       "3     0.0  ...   0.007843   0.007843   0.007843   0.007843   0.007843   \n",
       "4     0.0  ...   0.007843   0.007843   0.007843   0.007843   0.007843   \n",
       "\n",
       "   pixel2496  pixel2497  pixel2498  pixel2499  Rice_type  \n",
       "0        0.0        0.0        0.0        0.0          0  \n",
       "1        0.0        0.0        0.0        0.0          0  \n",
       "2        0.0        0.0        0.0        0.0          0  \n",
       "3        0.0        0.0        0.0        0.0          0  \n",
       "4        0.0        0.0        0.0        0.0          0  \n",
       "\n",
       "[5 rows x 2501 columns]"
      ]
     },
     "execution_count": 11,
     "metadata": {},
     "output_type": "execute_result"
    }
   ],
   "source": [
    "df.iloc[:, :-1] = df.iloc[:, :-1] / 255\n",
    "df.head()"
   ]
  },
  {
   "cell_type": "markdown",
   "id": "60d9e8d2",
   "metadata": {
    "heading_collapsed": true
   },
   "source": [
    "# 2. Dataset splitting"
   ]
  },
  {
   "cell_type": "code",
   "execution_count": 12,
   "id": "3732337c",
   "metadata": {
    "hidden": true
   },
   "outputs": [],
   "source": [
    "#Split features and label\n",
    "X, y = df.iloc[:, :-1], df.iloc[:, -1]"
   ]
  },
  {
   "cell_type": "markdown",
   "id": "eb4d3f7c",
   "metadata": {
    "hidden": true
   },
   "source": [
    "In this case, the dataset will be splitted into three parts and the ratio of each part is as follows:\n",
    "<li>70% for training set;</li>\n",
    "<li>10% for validation set;</li>\n",
    "<li>20% for testing set.</li>"
   ]
  },
  {
   "cell_type": "code",
   "execution_count": 13,
   "id": "16e61148",
   "metadata": {
    "hidden": true
   },
   "outputs": [],
   "source": [
    "#Split dataset into training, validation and testing datasets.\n",
    "X_train, X_test, y_train, y_test = train_test_split(X, \n",
    "                                                    y, \n",
    "                                                    train_size= 0.7,\n",
    "                                                    stratify=y,\n",
    "                                                   random_state=42)\n",
    "\n",
    "X_val, X_test, y_val, y_test = train_test_split(X_test,\n",
    "                                               y_test,\n",
    "                                               train_size= 1/3,\n",
    "                                               stratify=y_test,\n",
    "                                               random_state=42)"
   ]
  },
  {
   "cell_type": "code",
   "execution_count": 14,
   "id": "eb916c59",
   "metadata": {
    "hidden": true,
    "scrolled": true
   },
   "outputs": [
    {
     "name": "stdout",
     "output_type": "stream",
     "text": [
      "(3500, 2500)\n",
      "(500, 2500)\n",
      "(1000, 2500)\n"
     ]
    }
   ],
   "source": [
    "print(X_train.shape)\n",
    "print(X_val.shape)\n",
    "print(X_test.shape)"
   ]
  },
  {
   "cell_type": "markdown",
   "id": "56cee938",
   "metadata": {
    "heading_collapsed": true
   },
   "source": [
    "# 3. MLP model"
   ]
  },
  {
   "cell_type": "markdown",
   "id": "0765d44f",
   "metadata": {
    "hidden": true
   },
   "source": [
    "After analysing the structure of the dataset, we found that this task **is not a binary classification task** - so that we can not choose **\"sigmoid\"** as the activation function. Instead, we choose **\"softmax\"** as the activation function."
   ]
  },
  {
   "cell_type": "markdown",
   "id": "5779eabb",
   "metadata": {
    "heading_collapsed": true,
    "hidden": true
   },
   "source": [
    "## 3.1 Basic model"
   ]
  },
  {
   "cell_type": "markdown",
   "id": "1cd2b644",
   "metadata": {
    "hidden": true
   },
   "source": [
    "For the first trial, we will use the following structure as the basic model of MLP:\n",
    "<li><font color='blue'>One dense layer with 8 units and the activation function is 'relu'</li>\n",
    "<li><font color='blue'>Another dense layer with 8 units and the activation function is 'relu'</li>\n",
    "<li><font color='blue'>Final desnse layer (Output) with 5 units(5 catogories for label) and the activation function is 'softmax'</li>"
   ]
  },
  {
   "cell_type": "markdown",
   "id": "efe8e2a3",
   "metadata": {
    "heading_collapsed": true,
    "hidden": true
   },
   "source": [
    "### 3.1.1 Model building"
   ]
  },
  {
   "cell_type": "code",
   "execution_count": 15,
   "id": "23ac12d6",
   "metadata": {
    "hidden": true
   },
   "outputs": [
    {
     "name": "stderr",
     "output_type": "stream",
     "text": [
      "2023-04-30 12:03:13.203285: I tensorflow/core/platform/cpu_feature_guard.cc:193] This TensorFlow binary is optimized with oneAPI Deep Neural Network Library (oneDNN) to use the following CPU instructions in performance-critical operations:  SSE4.1 SSE4.2\n",
      "To enable them in other operations, rebuild TensorFlow with the appropriate compiler flags.\n"
     ]
    }
   ],
   "source": [
    "tf.keras.backend.clear_session()\n",
    "\n",
    "model_mlp = tf.keras.Sequential()\n",
    "\n",
    "model_mlp.add(tf.keras.layers.Input(shape=(2500)))\n",
    "model_mlp.add(tf.keras.layers.Dense(units=8, activation='relu'))\n",
    "model_mlp.add(tf.keras.layers.Dense(units=8, activation='relu'))              \n",
    "model_mlp.add(tf.keras.layers.Dense(units=5, activation='softmax'))"
   ]
  },
  {
   "cell_type": "code",
   "execution_count": 16,
   "id": "f5661a1f",
   "metadata": {
    "hidden": true,
    "scrolled": false
   },
   "outputs": [
    {
     "name": "stdout",
     "output_type": "stream",
     "text": [
      "Model: \"sequential\"\n",
      "_________________________________________________________________\n",
      " Layer (type)                Output Shape              Param #   \n",
      "=================================================================\n",
      " dense (Dense)               (None, 8)                 20008     \n",
      "                                                                 \n",
      " dense_1 (Dense)             (None, 8)                 72        \n",
      "                                                                 \n",
      " dense_2 (Dense)             (None, 5)                 45        \n",
      "                                                                 \n",
      "=================================================================\n",
      "Total params: 20,125\n",
      "Trainable params: 20,125\n",
      "Non-trainable params: 0\n",
      "_________________________________________________________________\n"
     ]
    }
   ],
   "source": [
    "model_mlp.summary()"
   ]
  },
  {
   "cell_type": "code",
   "execution_count": 17,
   "id": "696fe0ee",
   "metadata": {
    "hidden": true,
    "scrolled": true
   },
   "outputs": [
    {
     "data": {
      "image/png": "[encoded data removed]",
      "text/plain": [
       "<IPython.core.display.Image object>"
      ]
     },
     "execution_count": 17,
     "metadata": {},
     "output_type": "execute_result"
    }
   ],
   "source": [
    "tf.keras.utils.plot_model(model_mlp)"
   ]
  },
  {
   "cell_type": "markdown",
   "id": "75a38282",
   "metadata": {
    "heading_collapsed": true,
    "hidden": true
   },
   "source": [
    "### 3.1.2 Model compile and training"
   ]
  },
  {
   "cell_type": "code",
   "execution_count": 18,
   "id": "0361092e",
   "metadata": {
    "hidden": true
   },
   "outputs": [],
   "source": [
    "model_mlp.compile(loss=tf.keras.losses.SparseCategoricalCrossentropy(),\n",
    "             optimizer=tf.keras.optimizers.Adam(learning_rate=0.01),\n",
    "             metrics=['accuracy'])"
   ]
  },
  {
   "cell_type": "code",
   "execution_count": 19,
   "id": "93f2f7fc",
   "metadata": {
    "hidden": true,
    "scrolled": true
   },
   "outputs": [
    {
     "name": "stdout",
     "output_type": "stream",
     "text": [
      "Epoch 1/30\n",
      "219/219 [==============================] - 1s 2ms/step - loss: 0.9615 - accuracy: 0.5323 - val_loss: 0.7457 - val_accuracy: 0.6400\n",
      "Epoch 2/30\n",
      "219/219 [==============================] - 0s 1ms/step - loss: 0.6529 - accuracy: 0.7189 - val_loss: 0.5212 - val_accuracy: 0.8180\n",
      "Epoch 3/30\n",
      "219/219 [==============================] - 0s 1ms/step - loss: 0.4503 - accuracy: 0.8191 - val_loss: 0.4215 - val_accuracy: 0.8360\n",
      "Epoch 4/30\n",
      "219/219 [==============================] - 0s 1ms/step - loss: 0.3913 - accuracy: 0.8366 - val_loss: 0.3552 - val_accuracy: 0.8640\n",
      "Epoch 5/30\n",
      "219/219 [==============================] - 0s 1ms/step - loss: 0.3343 - accuracy: 0.8783 - val_loss: 0.2815 - val_accuracy: 0.9080\n",
      "Epoch 6/30\n",
      "219/219 [==============================] - 0s 1ms/step - loss: 0.3190 - accuracy: 0.8829 - val_loss: 0.3290 - val_accuracy: 0.8760\n",
      "Epoch 7/30\n",
      "219/219 [==============================] - 0s 1ms/step - loss: 0.3223 - accuracy: 0.8786 - val_loss: 0.2883 - val_accuracy: 0.9140\n",
      "Epoch 8/30\n",
      "219/219 [==============================] - 0s 1ms/step - loss: 0.2828 - accuracy: 0.9020 - val_loss: 0.2325 - val_accuracy: 0.9360\n",
      "Epoch 9/30\n",
      "219/219 [==============================] - 0s 1ms/step - loss: 0.2674 - accuracy: 0.9057 - val_loss: 0.3105 - val_accuracy: 0.8940\n",
      "Epoch 10/30\n",
      "219/219 [==============================] - 0s 1ms/step - loss: 0.2489 - accuracy: 0.9174 - val_loss: 0.2950 - val_accuracy: 0.8900\n",
      "Epoch 11/30\n",
      "219/219 [==============================] - 0s 1ms/step - loss: 0.2506 - accuracy: 0.9160 - val_loss: 0.2547 - val_accuracy: 0.9220\n",
      "Epoch 12/30\n",
      "219/219 [==============================] - 0s 1ms/step - loss: 0.2449 - accuracy: 0.9180 - val_loss: 0.2970 - val_accuracy: 0.8880\n",
      "Epoch 13/30\n",
      "219/219 [==============================] - 0s 1ms/step - loss: 0.2381 - accuracy: 0.9220 - val_loss: 0.2880 - val_accuracy: 0.8820\n",
      "Epoch 14/30\n",
      "219/219 [==============================] - 0s 1ms/step - loss: 0.2380 - accuracy: 0.9206 - val_loss: 0.2279 - val_accuracy: 0.9260\n",
      "Epoch 15/30\n",
      "219/219 [==============================] - 0s 1ms/step - loss: 0.2430 - accuracy: 0.9160 - val_loss: 0.2177 - val_accuracy: 0.9380\n",
      "Epoch 16/30\n",
      "219/219 [==============================] - 0s 1ms/step - loss: 0.2242 - accuracy: 0.9243 - val_loss: 0.2970 - val_accuracy: 0.9040\n",
      "Epoch 17/30\n",
      "219/219 [==============================] - 0s 1ms/step - loss: 0.2275 - accuracy: 0.9223 - val_loss: 0.3181 - val_accuracy: 0.8860\n",
      "Epoch 18/30\n",
      "219/219 [==============================] - 0s 1ms/step - loss: 0.2295 - accuracy: 0.9260 - val_loss: 0.2228 - val_accuracy: 0.9200\n",
      "Epoch 19/30\n",
      "219/219 [==============================] - 0s 1ms/step - loss: 0.2217 - accuracy: 0.9277 - val_loss: 0.3149 - val_accuracy: 0.9000\n",
      "Epoch 20/30\n",
      "219/219 [==============================] - 0s 1ms/step - loss: 0.2242 - accuracy: 0.9229 - val_loss: 0.3964 - val_accuracy: 0.8720\n",
      "Epoch 21/30\n",
      "219/219 [==============================] - 0s 1ms/step - loss: 0.2072 - accuracy: 0.9351 - val_loss: 0.2454 - val_accuracy: 0.9140\n",
      "Epoch 22/30\n",
      "219/219 [==============================] - 0s 1ms/step - loss: 0.2209 - accuracy: 0.9266 - val_loss: 0.2237 - val_accuracy: 0.9180\n",
      "Epoch 23/30\n",
      "219/219 [==============================] - 0s 1ms/step - loss: 0.1872 - accuracy: 0.9409 - val_loss: 0.3097 - val_accuracy: 0.8900\n",
      "Epoch 24/30\n",
      "219/219 [==============================] - 0s 1ms/step - loss: 0.2195 - accuracy: 0.9277 - val_loss: 0.2024 - val_accuracy: 0.9440\n",
      "Epoch 25/30\n",
      "219/219 [==============================] - 0s 1ms/step - loss: 0.2113 - accuracy: 0.9306 - val_loss: 0.2145 - val_accuracy: 0.9240\n",
      "Epoch 26/30\n",
      "219/219 [==============================] - 0s 1ms/step - loss: 0.2004 - accuracy: 0.9360 - val_loss: 0.3753 - val_accuracy: 0.8660\n",
      "Epoch 27/30\n",
      "219/219 [==============================] - 0s 1ms/step - loss: 0.1951 - accuracy: 0.9391 - val_loss: 0.2174 - val_accuracy: 0.9400\n",
      "Epoch 28/30\n",
      "219/219 [==============================] - 0s 1ms/step - loss: 0.1870 - accuracy: 0.9429 - val_loss: 0.2274 - val_accuracy: 0.9220\n",
      "Epoch 29/30\n",
      "219/219 [==============================] - 0s 1ms/step - loss: 0.2099 - accuracy: 0.9311 - val_loss: 0.2540 - val_accuracy: 0.9100\n",
      "Epoch 30/30\n",
      "219/219 [==============================] - 0s 1ms/step - loss: 0.1940 - accuracy: 0.9431 - val_loss: 0.2700 - val_accuracy: 0.9100\n"
     ]
    }
   ],
   "source": [
    "model_mlp_his = model_mlp.fit(X_train,\n",
    "                             y_train,\n",
    "                             epochs=30,\n",
    "                             batch_size=16,\n",
    "                             validation_data=(X_val, y_val)\n",
    "                             )"
   ]
  },
  {
   "cell_type": "code",
   "execution_count": 20,
   "id": "89caedf7",
   "metadata": {
    "hidden": true
   },
   "outputs": [
    {
     "data": {
      "text/plain": [
       "{'loss': [0.9614990949630737,\n",
       "  0.652941882610321,\n",
       "  0.45028313994407654,\n",
       "  0.39128151535987854,\n",
       "  0.334349125623703,\n",
       "  0.3189660310745239,\n",
       "  0.3222927153110504,\n",
       "  0.28277307748794556,\n",
       "  0.26735275983810425,\n",
       "  0.24885791540145874,\n",
       "  0.25057876110076904,\n",
       "  0.2448621690273285,\n",
       "  0.23805244266986847,\n",
       "  0.23799346387386322,\n",
       "  0.24302539229393005,\n",
       "  0.22423024475574493,\n",
       "  0.22746621072292328,\n",
       "  0.22954913973808289,\n",
       "  0.22171111404895782,\n",
       "  0.22416268289089203,\n",
       "  0.20723754167556763,\n",
       "  0.2208826243877411,\n",
       "  0.1872144639492035,\n",
       "  0.2194809764623642,\n",
       "  0.21134036779403687,\n",
       "  0.20042525231838226,\n",
       "  0.19509243965148926,\n",
       "  0.18695345520973206,\n",
       "  0.20986612141132355,\n",
       "  0.19401150941848755],\n",
       " 'accuracy': [0.5322856903076172,\n",
       "  0.7188571691513062,\n",
       "  0.8191428780555725,\n",
       "  0.836571455001831,\n",
       "  0.8782857060432434,\n",
       "  0.8828571438789368,\n",
       "  0.8785714507102966,\n",
       "  0.9020000100135803,\n",
       "  0.9057142734527588,\n",
       "  0.9174285531044006,\n",
       "  0.9160000085830688,\n",
       "  0.9179999828338623,\n",
       "  0.921999990940094,\n",
       "  0.9205714464187622,\n",
       "  0.9160000085830688,\n",
       "  0.9242857098579407,\n",
       "  0.9222857356071472,\n",
       "  0.9259999990463257,\n",
       "  0.9277142882347107,\n",
       "  0.9228571653366089,\n",
       "  0.9351428747177124,\n",
       "  0.9265714287757874,\n",
       "  0.9408571720123291,\n",
       "  0.9277142882347107,\n",
       "  0.930571436882019,\n",
       "  0.9359999895095825,\n",
       "  0.9391428828239441,\n",
       "  0.9428571462631226,\n",
       "  0.9311428666114807,\n",
       "  0.943142831325531],\n",
       " 'val_loss': [0.7457215785980225,\n",
       "  0.5211865901947021,\n",
       "  0.42153316736221313,\n",
       "  0.355215460062027,\n",
       "  0.281520813703537,\n",
       "  0.3289736211299896,\n",
       "  0.2883342504501343,\n",
       "  0.23253373801708221,\n",
       "  0.3104824721813202,\n",
       "  0.295023649930954,\n",
       "  0.25469812750816345,\n",
       "  0.29701197147369385,\n",
       "  0.28803837299346924,\n",
       "  0.22790534794330597,\n",
       "  0.21765843033790588,\n",
       "  0.2969953119754791,\n",
       "  0.3180854618549347,\n",
       "  0.22281070053577423,\n",
       "  0.31489166617393494,\n",
       "  0.39644989371299744,\n",
       "  0.24540604650974274,\n",
       "  0.2237491011619568,\n",
       "  0.30968204140663147,\n",
       "  0.20237115025520325,\n",
       "  0.21446727216243744,\n",
       "  0.37533628940582275,\n",
       "  0.2174326628446579,\n",
       "  0.22736890614032745,\n",
       "  0.25397789478302,\n",
       "  0.2699602544307709],\n",
       " 'val_accuracy': [0.6399999856948853,\n",
       "  0.8180000185966492,\n",
       "  0.8360000252723694,\n",
       "  0.8640000224113464,\n",
       "  0.9079999923706055,\n",
       "  0.8759999871253967,\n",
       "  0.9139999747276306,\n",
       "  0.9359999895095825,\n",
       "  0.8939999938011169,\n",
       "  0.8899999856948853,\n",
       "  0.921999990940094,\n",
       "  0.8880000114440918,\n",
       "  0.8820000290870667,\n",
       "  0.9259999990463257,\n",
       "  0.9380000233650208,\n",
       "  0.9039999842643738,\n",
       "  0.8859999775886536,\n",
       "  0.9200000166893005,\n",
       "  0.8999999761581421,\n",
       "  0.871999979019165,\n",
       "  0.9139999747276306,\n",
       "  0.9179999828338623,\n",
       "  0.8899999856948853,\n",
       "  0.9440000057220459,\n",
       "  0.9240000247955322,\n",
       "  0.8659999966621399,\n",
       "  0.9399999976158142,\n",
       "  0.921999990940094,\n",
       "  0.9100000262260437,\n",
       "  0.9100000262260437]}"
      ]
     },
     "execution_count": 20,
     "metadata": {},
     "output_type": "execute_result"
    }
   ],
   "source": [
    "model_mlp_his.history"
   ]
  },
  {
   "cell_type": "code",
   "execution_count": 21,
   "id": "f5d9653f",
   "metadata": {
    "hidden": true,
    "scrolled": true
   },
   "outputs": [
    {
     "data": {
      "image/png": "[encoded data removed]",
      "text/plain": [
       "<Figure size 1080x576 with 2 Axes>"
      ]
     },
     "metadata": {
      "needs_background": "light"
     },
     "output_type": "display_data"
    }
   ],
   "source": [
    "fig, ax = plt.subplots(1,2,figsize=(15,8))\n",
    "\n",
    "ax[0].plot(model_mlp_his.history['loss'], label='Loss')\n",
    "ax[0].plot(model_mlp_his.history['val_loss'], label='Validation Loss')\n",
    "ax[0].set_xlabel('Epoch', fontsize=15)\n",
    "ax[0].set_ylabel('Loss', fontsize=15)\n",
    "ax[0].set_title('Loss', fontsize=15)\n",
    "ax[0].legend(loc='best', fontsize=15)\n",
    "\n",
    "ax[1].plot(model_mlp_his.history['accuracy'], label='Accuracy')\n",
    "ax[1].plot(model_mlp_his.history['val_accuracy'], label='Validation Accuracy')\n",
    "ax[1].set_xlabel('Epoch', fontsize=15)\n",
    "ax[1].set_ylabel('Accuracy', fontsize=15)\n",
    "ax[1].set_title('Accuracy', fontsize=15)\n",
    "ax[1].legend(loc='best', fontsize=15)\n",
    "\n",
    "plt.show()"
   ]
  },
  {
   "cell_type": "markdown",
   "id": "11fb9fe1",
   "metadata": {
    "hidden": true
   },
   "source": [
    "As we can see from the learning curve, this model fits well on the training set, but not very stable for validation set - so we need to adjust the structure and compling method."
   ]
  },
  {
   "cell_type": "markdown",
   "id": "854331c3",
   "metadata": {
    "heading_collapsed": true,
    "hidden": true
   },
   "source": [
    "### 3.1.3 Model evaluation and prediction"
   ]
  },
  {
   "cell_type": "code",
   "execution_count": 22,
   "id": "e818d8ab",
   "metadata": {
    "hidden": true
   },
   "outputs": [
    {
     "name": "stdout",
     "output_type": "stream",
     "text": [
      "32/32 [==============================] - 0s 855us/step - loss: 0.3569 - accuracy: 0.8790\n"
     ]
    },
    {
     "data": {
      "text/plain": [
       "[0.3569144308567047, 0.8790000081062317]"
      ]
     },
     "execution_count": 22,
     "metadata": {},
     "output_type": "execute_result"
    }
   ],
   "source": [
    "model_mlp.evaluate(X_test, y_test)"
   ]
  },
  {
   "cell_type": "code",
   "execution_count": 23,
   "id": "0fef7d7b",
   "metadata": {
    "hidden": true,
    "scrolled": true
   },
   "outputs": [
    {
     "name": "stdout",
     "output_type": "stream",
     "text": [
      "32/32 [==============================] - 0s 729us/step\n"
     ]
    }
   ],
   "source": [
    "y_mlp_pred = model_mlp.predict(X_test)\n",
    "y_mlp_pred = np.argmax(y_mlp_pred, axis=1)"
   ]
  },
  {
   "cell_type": "code",
   "execution_count": 24,
   "id": "6c86ca25",
   "metadata": {
    "hidden": true,
    "scrolled": true
   },
   "outputs": [
    {
     "name": "stdout",
     "output_type": "stream",
     "text": [
      "              precision    recall  f1-score   support\n",
      "\n",
      "     Basmati       0.98      0.96      0.97       200\n",
      "     Arborio       0.91      0.67      0.77       200\n",
      "   Karacadag       0.80      0.96      0.87       200\n",
      "     Jasmine       0.75      0.81      0.78       200\n",
      "      Ipsala       0.99      0.99      0.99       200\n",
      "\n",
      "    accuracy                           0.88      1000\n",
      "   macro avg       0.89      0.88      0.88      1000\n",
      "weighted avg       0.89      0.88      0.88      1000\n",
      "\n"
     ]
    }
   ],
   "source": [
    "report_mlp = classification_report(y_test, y_mlp_pred, target_names=type_name)\n",
    "print(report_mlp)"
   ]
  },
  {
   "cell_type": "markdown",
   "id": "fe96e2af",
   "metadata": {
    "hidden": true
   },
   "source": [
    "In the next part, we will improve the model by adding more layers and control the number of units in each hidden layer."
   ]
  },
  {
   "cell_type": "markdown",
   "id": "c6bcad37",
   "metadata": {
    "heading_collapsed": true,
    "hidden": true
   },
   "source": [
    "## 3.2 Improved model"
   ]
  },
  {
   "cell_type": "markdown",
   "id": "fe8ece1a",
   "metadata": {
    "hidden": true
   },
   "source": [
    "For improved model, we made the structure more complicated - both with more(or more proper number of) layers and with more units for each layer:\n",
    "<li><font color='blue'>One dense layer with 64 units and the activation function is 'relu'</li>\n",
    "<li><font color='blue'>Second dense layer with 32 units and the activation function is 'relu'</li>\n",
    "<li><font color='blue'>Third dense layer with 16 units and the activation function is 'relu'</li>\n",
    "<li><font color='blue'>Final desnse layer (Output) with 5 units(5 catogories for label) and the activation function is 'softmax'</li>"
   ]
  },
  {
   "cell_type": "markdown",
   "id": "e520c157",
   "metadata": {
    "heading_collapsed": true,
    "hidden": true
   },
   "source": [
    "### 3.2.1 Model  building"
   ]
  },
  {
   "cell_type": "code",
   "execution_count": 25,
   "id": "2956cfa3",
   "metadata": {
    "hidden": true
   },
   "outputs": [],
   "source": [
    "tf.keras.backend.clear_session()\n",
    "\n",
    "model_mlp1 = tf.keras.Sequential()\n",
    "\n",
    "model_mlp1.add(tf.keras.layers.Input(shape=(2500)))\n",
    "\n",
    "model_mlp1.add(tf.keras.layers.Dense(units=64, activation='relu'))\n",
    "model_mlp1.add(tf.keras.layers.Dense(units=32, activation='relu'))\n",
    "model_mlp1.add(tf.keras.layers.Dense(units=16, activation='relu'))\n",
    "model_mlp1.add(tf.keras.layers.Dense(units=5, activation='softmax'))"
   ]
  },
  {
   "cell_type": "code",
   "execution_count": 26,
   "id": "4f45d7d6",
   "metadata": {
    "hidden": true,
    "scrolled": true
   },
   "outputs": [
    {
     "name": "stdout",
     "output_type": "stream",
     "text": [
      "Model: \"sequential\"\n",
      "_________________________________________________________________\n",
      " Layer (type)                Output Shape              Param #   \n",
      "=================================================================\n",
      " dense (Dense)               (None, 64)                160064    \n",
      "                                                                 \n",
      " dense_1 (Dense)             (None, 32)                2080      \n",
      "                                                                 \n",
      " dense_2 (Dense)             (None, 16)                528       \n",
      "                                                                 \n",
      " dense_3 (Dense)             (None, 5)                 85        \n",
      "                                                                 \n",
      "=================================================================\n",
      "Total params: 162,757\n",
      "Trainable params: 162,757\n",
      "Non-trainable params: 0\n",
      "_________________________________________________________________\n"
     ]
    }
   ],
   "source": [
    "model_mlp1.summary()"
   ]
  },
  {
   "cell_type": "code",
   "execution_count": 27,
   "id": "4512f03f",
   "metadata": {
    "hidden": true
   },
   "outputs": [
    {
     "data": {
      "image/png": "[encoded data removed]",
      "text/plain": [
       "<IPython.core.display.Image object>"
      ]
     },
     "execution_count": 27,
     "metadata": {},
     "output_type": "execute_result"
    }
   ],
   "source": [
    "tf.keras.utils.plot_model(model_mlp1)"
   ]
  },
  {
   "cell_type": "markdown",
   "id": "e62e0620",
   "metadata": {
    "heading_collapsed": true,
    "hidden": true
   },
   "source": [
    "### 3.2.2 Model compile and training"
   ]
  },
  {
   "cell_type": "code",
   "execution_count": 28,
   "id": "76be696c",
   "metadata": {
    "hidden": true
   },
   "outputs": [],
   "source": [
    "model_mlp1.compile(loss=tf.keras.losses.SparseCategoricalCrossentropy(),\n",
    "             optimizer=tf.keras.optimizers.SGD(learning_rate=0.001, momentum=0.9, decay=0, nesterov=False),\n",
    "             metrics=['accuracy'])"
   ]
  },
  {
   "cell_type": "code",
   "execution_count": 29,
   "id": "6736739d",
   "metadata": {
    "hidden": true,
    "scrolled": true
   },
   "outputs": [
    {
     "name": "stdout",
     "output_type": "stream",
     "text": [
      "Epoch 1/20\n",
      "110/110 [==============================] - 1s 3ms/step - loss: 1.3840 - accuracy: 0.4560 - val_loss: 1.0701 - val_accuracy: 0.7940\n",
      "Epoch 2/20\n",
      "110/110 [==============================] - 0s 2ms/step - loss: 0.7580 - accuracy: 0.8569 - val_loss: 0.4969 - val_accuracy: 0.9320\n",
      "Epoch 3/20\n",
      "110/110 [==============================] - 0s 2ms/step - loss: 0.3412 - accuracy: 0.9460 - val_loss: 0.2617 - val_accuracy: 0.9320\n",
      "Epoch 4/20\n",
      "110/110 [==============================] - 0s 2ms/step - loss: 0.1930 - accuracy: 0.9620 - val_loss: 0.1573 - val_accuracy: 0.9740\n",
      "Epoch 5/20\n",
      "110/110 [==============================] - 0s 2ms/step - loss: 0.1336 - accuracy: 0.9717 - val_loss: 0.1407 - val_accuracy: 0.9620\n",
      "Epoch 6/20\n",
      "110/110 [==============================] - 0s 2ms/step - loss: 0.1022 - accuracy: 0.9771 - val_loss: 0.1060 - val_accuracy: 0.9700\n",
      "Epoch 7/20\n",
      "110/110 [==============================] - 0s 2ms/step - loss: 0.0865 - accuracy: 0.9791 - val_loss: 0.0950 - val_accuracy: 0.9740\n",
      "Epoch 8/20\n",
      "110/110 [==============================] - 0s 2ms/step - loss: 0.0760 - accuracy: 0.9823 - val_loss: 0.0751 - val_accuracy: 0.9760\n",
      "Epoch 9/20\n",
      "110/110 [==============================] - 0s 2ms/step - loss: 0.0709 - accuracy: 0.9820 - val_loss: 0.0689 - val_accuracy: 0.9780\n",
      "Epoch 10/20\n",
      "110/110 [==============================] - 0s 2ms/step - loss: 0.0590 - accuracy: 0.9826 - val_loss: 0.0668 - val_accuracy: 0.9800\n",
      "Epoch 11/20\n",
      "110/110 [==============================] - 0s 2ms/step - loss: 0.0539 - accuracy: 0.9857 - val_loss: 0.0663 - val_accuracy: 0.9820\n",
      "Epoch 12/20\n",
      "110/110 [==============================] - 0s 2ms/step - loss: 0.0508 - accuracy: 0.9863 - val_loss: 0.0638 - val_accuracy: 0.9820\n",
      "Epoch 13/20\n",
      "110/110 [==============================] - 0s 2ms/step - loss: 0.0473 - accuracy: 0.9880 - val_loss: 0.0618 - val_accuracy: 0.9820\n",
      "Epoch 14/20\n",
      "110/110 [==============================] - 0s 2ms/step - loss: 0.0467 - accuracy: 0.9874 - val_loss: 0.0572 - val_accuracy: 0.9820\n",
      "Epoch 15/20\n",
      "110/110 [==============================] - 0s 2ms/step - loss: 0.0423 - accuracy: 0.9903 - val_loss: 0.0531 - val_accuracy: 0.9820\n",
      "Epoch 16/20\n",
      "110/110 [==============================] - 0s 2ms/step - loss: 0.0413 - accuracy: 0.9869 - val_loss: 0.0566 - val_accuracy: 0.9800\n",
      "Epoch 17/20\n",
      "110/110 [==============================] - 0s 2ms/step - loss: 0.0420 - accuracy: 0.9874 - val_loss: 0.0525 - val_accuracy: 0.9800\n",
      "Epoch 18/20\n",
      "110/110 [==============================] - 0s 2ms/step - loss: 0.0369 - accuracy: 0.9894 - val_loss: 0.0510 - val_accuracy: 0.9800\n",
      "Epoch 19/20\n",
      "110/110 [==============================] - 0s 2ms/step - loss: 0.0412 - accuracy: 0.9863 - val_loss: 0.0527 - val_accuracy: 0.9820\n",
      "Epoch 20/20\n",
      "110/110 [==============================] - 0s 2ms/step - loss: 0.0352 - accuracy: 0.9883 - val_loss: 0.0596 - val_accuracy: 0.9820\n"
     ]
    }
   ],
   "source": [
    "model_mlp_his1 = model_mlp1.fit(X_train, \n",
    "               y_train,\n",
    "              epochs=20,\n",
    "              batch_size=32,\n",
    "              validation_data=(X_val, y_val))"
   ]
  },
  {
   "cell_type": "code",
   "execution_count": 30,
   "id": "bc48f643",
   "metadata": {
    "hidden": true,
    "scrolled": false
   },
   "outputs": [
    {
     "data": {
      "text/plain": [
       "<matplotlib.legend.Legend at 0x7f8987487e50>"
      ]
     },
     "execution_count": 30,
     "metadata": {},
     "output_type": "execute_result"
    },
    {
     "data": {
      "image/png": "[encoded data removed]",
      "text/plain": [
       "<Figure size 1080x576 with 2 Axes>"
      ]
     },
     "metadata": {
      "needs_background": "light"
     },
     "output_type": "display_data"
    }
   ],
   "source": [
    "fig, ax = plt.subplots(1,2,figsize=(15, 8))\n",
    "\n",
    "ax[0].plot(model_mlp_his1.history['loss'], label='Loss')\n",
    "ax[0].plot(model_mlp_his1.history['val_loss'], label='Validation Loss')\n",
    "plt.xlabel('Epoch')\n",
    "plt.ylabel('Loss')\n",
    "ax[0].set_title('Loss', fontsize=15)\n",
    "\n",
    "ax[1].plot(model_mlp_his1.history['accuracy'], label='Accuracy')\n",
    "ax[1].plot(model_mlp_his1.history['val_accuracy'], label='Validation Accuracy')\n",
    "ax[1].set_title('Accuracy', fontsize=15)\n",
    "\n",
    "plt.legend(loc='best', fontsize=15)"
   ]
  },
  {
   "cell_type": "markdown",
   "id": "7912822e",
   "metadata": {
    "hidden": true
   },
   "source": [
    "We can see that both the loss and accuracy learning curve perfomed pretty well: **this model fit perfect both on training and validation datasets.** and it does not reveal any of overfitting or underfitting."
   ]
  },
  {
   "cell_type": "markdown",
   "id": "a9089c26",
   "metadata": {
    "heading_collapsed": true,
    "hidden": true
   },
   "source": [
    "### 3.2.3 Model evaluation and prediction"
   ]
  },
  {
   "cell_type": "code",
   "execution_count": 31,
   "id": "1a239b4f",
   "metadata": {
    "hidden": true,
    "scrolled": true
   },
   "outputs": [
    {
     "name": "stdout",
     "output_type": "stream",
     "text": [
      "32/32 [==============================] - 0s 982us/step - loss: 0.0555 - accuracy: 0.9830\n"
     ]
    },
    {
     "data": {
      "text/plain": [
       "[0.05551386624574661, 0.9829999804496765]"
      ]
     },
     "execution_count": 31,
     "metadata": {},
     "output_type": "execute_result"
    }
   ],
   "source": [
    "# Evalute model on test dataset\n",
    "model_mlp1.evaluate(X_test, y_test)"
   ]
  },
  {
   "cell_type": "code",
   "execution_count": 32,
   "id": "40cc2cb3",
   "metadata": {
    "hidden": true
   },
   "outputs": [
    {
     "name": "stdout",
     "output_type": "stream",
     "text": [
      "32/32 [==============================] - 0s 871us/step\n"
     ]
    }
   ],
   "source": [
    "y_mlp_pred1 = model_mlp1.predict(X_test)\n",
    "predictied_label1 = np.argmax(y_mlp_pred1, axis=1)"
   ]
  },
  {
   "cell_type": "code",
   "execution_count": 33,
   "id": "11264034",
   "metadata": {
    "hidden": true,
    "scrolled": true
   },
   "outputs": [
    {
     "name": "stdout",
     "output_type": "stream",
     "text": [
      "              precision    recall  f1-score   support\n",
      "\n",
      "     Basmati       1.00      0.99      1.00       200\n",
      "     Arborio       0.96      0.96      0.96       200\n",
      "   Karacadag       0.98      0.95      0.97       200\n",
      "     Jasmine       0.98      1.00      0.99       200\n",
      "      Ipsala       1.00      1.00      1.00       200\n",
      "\n",
      "    accuracy                           0.98      1000\n",
      "   macro avg       0.98      0.98      0.98      1000\n",
      "weighted avg       0.98      0.98      0.98      1000\n",
      "\n"
     ]
    }
   ],
   "source": [
    "report1 = classification_report(y_test, predictied_label1, target_names=type_name)\n",
    "print(report1)"
   ]
  },
  {
   "cell_type": "markdown",
   "id": "35b6c4b6",
   "metadata": {
    "hidden": true
   },
   "source": [
    "We can find that this model performs better than the basic model."
   ]
  },
  {
   "cell_type": "markdown",
   "id": "3460f3dc",
   "metadata": {
    "heading_collapsed": true
   },
   "source": [
    "# 4. CNN model"
   ]
  },
  {
   "cell_type": "markdown",
   "id": "9a42f89c",
   "metadata": {
    "hidden": true
   },
   "source": [
    "Now we do some trials with different CNN structures to test and enhance its performance on the dataset."
   ]
  },
  {
   "cell_type": "markdown",
   "id": "c2a5f788",
   "metadata": {
    "heading_collapsed": true,
    "hidden": true
   },
   "source": [
    "## 4.1 Basic model"
   ]
  },
  {
   "cell_type": "markdown",
   "id": "40b3032d",
   "metadata": {
    "heading_collapsed": true,
    "hidden": true
   },
   "source": [
    "### 4.1.1 Dataset shapping"
   ]
  },
  {
   "cell_type": "markdown",
   "id": "17d5c322",
   "metadata": {
    "hidden": true
   },
   "source": [
    "In the CNN model, we have to make the dataset (pixels on images) from **1D (2500,)** to **2D (50, 50)**, so we need to do a reshape to the features first."
   ]
  },
  {
   "cell_type": "code",
   "execution_count": 34,
   "id": "5ede1f44",
   "metadata": {
    "hidden": true
   },
   "outputs": [],
   "source": [
    "X_train_CNN = X_train.to_numpy().reshape(-1, 50, 50, 1)\n",
    "X_val_CNN = X_val.to_numpy().reshape(-1, 50, 50, 1)\n",
    "X_test_CNN = X_test.to_numpy().reshape(-1, 50, 50, 1)"
   ]
  },
  {
   "cell_type": "code",
   "execution_count": 35,
   "id": "9e3aa732",
   "metadata": {
    "hidden": true
   },
   "outputs": [
    {
     "data": {
      "text/plain": [
       "(3500, 50, 50, 1)"
      ]
     },
     "execution_count": 35,
     "metadata": {},
     "output_type": "execute_result"
    }
   ],
   "source": [
    "X_train_CNN.shape"
   ]
  },
  {
   "cell_type": "markdown",
   "id": "b98a5de9",
   "metadata": {
    "heading_collapsed": true,
    "hidden": true
   },
   "source": [
    "### 4.1.2 Model building"
   ]
  },
  {
   "cell_type": "markdown",
   "id": "680ab227",
   "metadata": {
    "hidden": true
   },
   "source": [
    "*   **<font color='blue'>One convolutional layer with 32 filters, a kernel size of 3x3 and a relu activation function**\n",
    "*   **<font color='blue'>Followed by one max pooling layer with a pool size of 2x2**\n",
    "*   **<font color='blue'>Followed by one flattening layer**\n",
    "*   **<font color='blue'>Followed by one dense layer with 32 neurons and a relu activation function**\n",
    "*   **<font color='blue'>Followed by a final dense layer for a classification task.**"
   ]
  },
  {
   "cell_type": "code",
   "execution_count": 36,
   "id": "a9660c89",
   "metadata": {
    "hidden": true
   },
   "outputs": [],
   "source": [
    "tf.keras.backend.clear_session()\n",
    "\n",
    "input_layer = tf.keras.Input(shape=(50, 50, 1))\n",
    "\n",
    "conv = tf.keras.layers.Conv2D(filters=32,\n",
    "                              kernel_size=(3, 3),\n",
    "                              activation='relu')(input_layer)\n",
    "\n",
    "maxpool = tf.keras.layers.MaxPool2D(2)(conv)\n",
    "\n",
    "flat = tf.keras.layers.Flatten()(maxpool)\n",
    "\n",
    "dense1 = tf.keras.layers.Dense(units=32,\n",
    "                             activation='relu')(flat)\n",
    "\n",
    "output = tf.keras.layers.Dense(units=5,\n",
    "                              activation='softmax')(dense1)"
   ]
  },
  {
   "cell_type": "code",
   "execution_count": 37,
   "id": "c55b1248",
   "metadata": {
    "hidden": true
   },
   "outputs": [],
   "source": [
    "model = tf.keras.Model(inputs=input_layer, outputs=output)"
   ]
  },
  {
   "cell_type": "code",
   "execution_count": 38,
   "id": "1ac1c98d",
   "metadata": {
    "hidden": true,
    "scrolled": true
   },
   "outputs": [
    {
     "name": "stdout",
     "output_type": "stream",
     "text": [
      "Model: \"model\"\n",
      "_________________________________________________________________\n",
      " Layer (type)                Output Shape              Param #   \n",
      "=================================================================\n",
      " input_1 (InputLayer)        [(None, 50, 50, 1)]       0         \n",
      "                                                                 \n",
      " conv2d (Conv2D)             (None, 48, 48, 32)        320       \n",
      "                                                                 \n",
      " max_pooling2d (MaxPooling2D  (None, 24, 24, 32)       0         \n",
      " )                                                               \n",
      "                                                                 \n",
      " flatten (Flatten)           (None, 18432)             0         \n",
      "                                                                 \n",
      " dense (Dense)               (None, 32)                589856    \n",
      "                                                                 \n",
      " dense_1 (Dense)             (None, 5)                 165       \n",
      "                                                                 \n",
      "=================================================================\n",
      "Total params: 590,341\n",
      "Trainable params: 590,341\n",
      "Non-trainable params: 0\n",
      "_________________________________________________________________\n"
     ]
    }
   ],
   "source": [
    "model.summary()"
   ]
  },
  {
   "cell_type": "code",
   "execution_count": 39,
   "id": "1580f566",
   "metadata": {
    "hidden": true,
    "scrolled": true
   },
   "outputs": [
    {
     "data": {
      "image/png": "[encoded data removed]",
      "text/plain": [
       "<IPython.core.display.Image object>"
      ]
     },
     "execution_count": 39,
     "metadata": {},
     "output_type": "execute_result"
    }
   ],
   "source": [
    "tf.keras.utils.plot_model(model)"
   ]
  },
  {
   "cell_type": "markdown",
   "id": "cd42a99a",
   "metadata": {
    "heading_collapsed": true,
    "hidden": true
   },
   "source": [
    "### 4.1.3 Model compile and training"
   ]
  },
  {
   "cell_type": "code",
   "execution_count": 40,
   "id": "6613f4a3",
   "metadata": {
    "hidden": true
   },
   "outputs": [],
   "source": [
    "model.compile(loss=tf.keras.losses.SparseCategoricalCrossentropy(),\n",
    "             optimizer=tf.keras.optimizers.Adam(learning_rate=0.001),\n",
    "             metrics=['accuracy'])"
   ]
  },
  {
   "cell_type": "code",
   "execution_count": 41,
   "id": "743b6351",
   "metadata": {
    "hidden": true
   },
   "outputs": [
    {
     "name": "stdout",
     "output_type": "stream",
     "text": [
      "Epoch 1/20\n",
      "55/55 [==============================] - 2s 29ms/step - loss: 0.5492 - accuracy: 0.8163 - val_loss: 0.1479 - val_accuracy: 0.9600\n",
      "Epoch 2/20\n",
      "55/55 [==============================] - 2s 30ms/step - loss: 0.1036 - accuracy: 0.9660 - val_loss: 0.0877 - val_accuracy: 0.9720\n",
      "Epoch 3/20\n",
      "55/55 [==============================] - 2s 30ms/step - loss: 0.0748 - accuracy: 0.9749 - val_loss: 0.1016 - val_accuracy: 0.9720\n",
      "Epoch 4/20\n",
      "55/55 [==============================] - 2s 30ms/step - loss: 0.0606 - accuracy: 0.9783 - val_loss: 0.0661 - val_accuracy: 0.9820\n",
      "Epoch 5/20\n",
      "55/55 [==============================] - 2s 30ms/step - loss: 0.0466 - accuracy: 0.9863 - val_loss: 0.0767 - val_accuracy: 0.9800\n",
      "Epoch 6/20\n",
      "55/55 [==============================] - 2s 30ms/step - loss: 0.0500 - accuracy: 0.9820 - val_loss: 0.0710 - val_accuracy: 0.9800\n",
      "Epoch 7/20\n",
      "55/55 [==============================] - 2s 33ms/step - loss: 0.0408 - accuracy: 0.9851 - val_loss: 0.0826 - val_accuracy: 0.9760\n",
      "Epoch 8/20\n",
      "55/55 [==============================] - 2s 34ms/step - loss: 0.0468 - accuracy: 0.9826 - val_loss: 0.0674 - val_accuracy: 0.9840\n",
      "Epoch 9/20\n",
      "55/55 [==============================] - 2s 33ms/step - loss: 0.0330 - accuracy: 0.9880 - val_loss: 0.0802 - val_accuracy: 0.9740\n",
      "Epoch 10/20\n",
      "55/55 [==============================] - 2s 33ms/step - loss: 0.0398 - accuracy: 0.9837 - val_loss: 0.0632 - val_accuracy: 0.9820\n",
      "Epoch 11/20\n",
      "55/55 [==============================] - 2s 31ms/step - loss: 0.0350 - accuracy: 0.9871 - val_loss: 0.1059 - val_accuracy: 0.9720\n",
      "Epoch 12/20\n",
      "55/55 [==============================] - 2s 35ms/step - loss: 0.0695 - accuracy: 0.9749 - val_loss: 0.0644 - val_accuracy: 0.9800\n",
      "Epoch 13/20\n",
      "55/55 [==============================] - 2s 34ms/step - loss: 0.0357 - accuracy: 0.9854 - val_loss: 0.0706 - val_accuracy: 0.9820\n",
      "Epoch 14/20\n",
      "55/55 [==============================] - 2s 36ms/step - loss: 0.0266 - accuracy: 0.9914 - val_loss: 0.0984 - val_accuracy: 0.9760\n",
      "Epoch 15/20\n",
      "55/55 [==============================] - 2s 32ms/step - loss: 0.0306 - accuracy: 0.9894 - val_loss: 0.0926 - val_accuracy: 0.9760\n",
      "Epoch 16/20\n",
      "55/55 [==============================] - 2s 33ms/step - loss: 0.0237 - accuracy: 0.9911 - val_loss: 0.0880 - val_accuracy: 0.9780\n",
      "Epoch 17/20\n",
      "55/55 [==============================] - 2s 36ms/step - loss: 0.0327 - accuracy: 0.9874 - val_loss: 0.0809 - val_accuracy: 0.9780\n",
      "Epoch 18/20\n",
      "55/55 [==============================] - 2s 32ms/step - loss: 0.0252 - accuracy: 0.9903 - val_loss: 0.0655 - val_accuracy: 0.9860\n",
      "Epoch 19/20\n",
      "55/55 [==============================] - 2s 30ms/step - loss: 0.0185 - accuracy: 0.9934 - val_loss: 0.0741 - val_accuracy: 0.9740\n",
      "Epoch 20/20\n",
      "55/55 [==============================] - 2s 31ms/step - loss: 0.0214 - accuracy: 0.9923 - val_loss: 0.0724 - val_accuracy: 0.9860\n"
     ]
    }
   ],
   "source": [
    "train_his = model.fit(X_train_CNN, \n",
    "                      y_train,\n",
    "                     epochs=20,\n",
    "                     batch_size=64,\n",
    "                     validation_data=(X_val_CNN, y_val))"
   ]
  },
  {
   "cell_type": "code",
   "execution_count": 42,
   "id": "d665bc27",
   "metadata": {
    "hidden": true,
    "scrolled": true
   },
   "outputs": [
    {
     "data": {
      "text/plain": [
       "{'loss': [0.5491942763328552,\n",
       "  0.1036093458533287,\n",
       "  0.07482834905385971,\n",
       "  0.06064579263329506,\n",
       "  0.04658132046461105,\n",
       "  0.05004620924592018,\n",
       "  0.04080319032073021,\n",
       "  0.046763818711042404,\n",
       "  0.032960690557956696,\n",
       "  0.0397995226085186,\n",
       "  0.03499598056077957,\n",
       "  0.06950325518846512,\n",
       "  0.03571208938956261,\n",
       "  0.026608038693666458,\n",
       "  0.030579082667827606,\n",
       "  0.023650560528039932,\n",
       "  0.032716166228055954,\n",
       "  0.025159180164337158,\n",
       "  0.018511665984988213,\n",
       "  0.021383540704846382],\n",
       " 'accuracy': [0.8162857294082642,\n",
       "  0.9660000205039978,\n",
       "  0.9748571515083313,\n",
       "  0.9782857298851013,\n",
       "  0.9862856864929199,\n",
       "  0.9819999933242798,\n",
       "  0.9851428866386414,\n",
       "  0.9825714230537415,\n",
       "  0.9879999756813049,\n",
       "  0.9837142825126648,\n",
       "  0.9871428608894348,\n",
       "  0.9748571515083313,\n",
       "  0.9854285717010498,\n",
       "  0.991428554058075,\n",
       "  0.9894285798072815,\n",
       "  0.9911428689956665,\n",
       "  0.9874285459518433,\n",
       "  0.9902856945991516,\n",
       "  0.9934285879135132,\n",
       "  0.9922857284545898],\n",
       " 'val_loss': [0.14788952469825745,\n",
       "  0.08771239221096039,\n",
       "  0.10156574845314026,\n",
       "  0.06605561822652817,\n",
       "  0.07674762606620789,\n",
       "  0.07098135352134705,\n",
       "  0.08258744329214096,\n",
       "  0.06741724163293839,\n",
       "  0.0801924616098404,\n",
       "  0.06315527111291885,\n",
       "  0.1058502048254013,\n",
       "  0.06438350677490234,\n",
       "  0.07061012834310532,\n",
       "  0.09837332367897034,\n",
       "  0.09258275479078293,\n",
       "  0.08800582587718964,\n",
       "  0.08085042983293533,\n",
       "  0.06553354859352112,\n",
       "  0.07405007630586624,\n",
       "  0.07235560566186905],\n",
       " 'val_accuracy': [0.9599999785423279,\n",
       "  0.972000002861023,\n",
       "  0.972000002861023,\n",
       "  0.9819999933242798,\n",
       "  0.9800000190734863,\n",
       "  0.9800000190734863,\n",
       "  0.9760000109672546,\n",
       "  0.984000027179718,\n",
       "  0.9739999771118164,\n",
       "  0.9819999933242798,\n",
       "  0.972000002861023,\n",
       "  0.9800000190734863,\n",
       "  0.9819999933242798,\n",
       "  0.9760000109672546,\n",
       "  0.9760000109672546,\n",
       "  0.9779999852180481,\n",
       "  0.9779999852180481,\n",
       "  0.9860000014305115,\n",
       "  0.9739999771118164,\n",
       "  0.9860000014305115]}"
      ]
     },
     "execution_count": 42,
     "metadata": {},
     "output_type": "execute_result"
    }
   ],
   "source": [
    "train_his.history"
   ]
  },
  {
   "cell_type": "code",
   "execution_count": 43,
   "id": "8f2a05f9",
   "metadata": {
    "hidden": true,
    "scrolled": true
   },
   "outputs": [
    {
     "data": {
      "image/png": "[encoded data removed]",
      "text/plain": [
       "<Figure size 1080x576 with 2 Axes>"
      ]
     },
     "metadata": {
      "needs_background": "light"
     },
     "output_type": "display_data"
    }
   ],
   "source": [
    "# Learning curves display\n",
    "fig, ax = plt.subplots(1, 2, figsize=(15,8))\n",
    "\n",
    "ax[0].plot(train_his.history['loss'], label='loss')\n",
    "ax[0].plot(train_his.history['val_loss'], label='val loss')\n",
    "ax[0].set_title('Loss learning curve', fontsize=15)\n",
    "ax[0].set_xlabel('Epoch', fontsize=15)\n",
    "ax[0].set_ylabel('Loss', fontsize=15)\n",
    "ax[0].legend(loc='best', fontsize=15)\n",
    "\n",
    "ax[1].plot(train_his.history['accuracy'], label='accuracy')\n",
    "ax[1].plot(train_his.history['val_accuracy'], label='valaccuracy')\n",
    "ax[1].set_title('Accuracy learning curve', fontsize=15)\n",
    "ax[1].set_xlabel('Epoch', fontsize=15)\n",
    "ax[1].set_ylabel('Accuracy', fontsize=15)\n",
    "ax[1].legend(loc='best', fontsize=15)\n",
    "\n",
    "plt.show()"
   ]
  },
  {
   "cell_type": "markdown",
   "id": "735004e3",
   "metadata": {
    "hidden": true
   },
   "source": [
    "According to the model training history and learning curve, we can find that:\n",
    "<li>The model performed perfectly on both training and validation datasets;</li>\n",
    "<li>The model fits well on both datasets and it did not appear to overfitting or underfitting;</li>\n",
    "<li>The accuracy of training set keeps raising continiously while for validation dataset, it declined a little after 4 epoches and keeps fluctuating afterwards.</li>"
   ]
  },
  {
   "cell_type": "markdown",
   "id": "0db55386",
   "metadata": {
    "heading_collapsed": true,
    "hidden": true
   },
   "source": [
    "### 4.1.4 Model evaluation and prediction"
   ]
  },
  {
   "cell_type": "code",
   "execution_count": 44,
   "id": "5e3dd072",
   "metadata": {
    "hidden": true,
    "scrolled": true
   },
   "outputs": [
    {
     "name": "stdout",
     "output_type": "stream",
     "text": [
      "32/32 [==============================] - 0s 4ms/step - loss: 0.0589 - accuracy: 0.9790\n"
     ]
    },
    {
     "data": {
      "text/plain": [
       "[0.05894101411104202, 0.9789999723434448]"
      ]
     },
     "execution_count": 44,
     "metadata": {},
     "output_type": "execute_result"
    }
   ],
   "source": [
    "# Evalute model on test dataset\n",
    "model.evaluate(X_test_CNN, y_test)"
   ]
  },
  {
   "cell_type": "code",
   "execution_count": 45,
   "id": "766def46",
   "metadata": {
    "hidden": true,
    "scrolled": true
   },
   "outputs": [
    {
     "name": "stdout",
     "output_type": "stream",
     "text": [
      "32/32 [==============================] - 0s 4ms/step\n"
     ]
    }
   ],
   "source": [
    "y_pred1 = model.predict(X_test_CNN)"
   ]
  },
  {
   "cell_type": "code",
   "execution_count": 46,
   "id": "839da39a",
   "metadata": {
    "hidden": true
   },
   "outputs": [],
   "source": [
    "predictied_label = np.argmax(y_pred1, axis=1)"
   ]
  },
  {
   "cell_type": "code",
   "execution_count": 47,
   "id": "e1868346",
   "metadata": {
    "hidden": true,
    "scrolled": false
   },
   "outputs": [
    {
     "name": "stdout",
     "output_type": "stream",
     "text": [
      "              precision    recall  f1-score   support\n",
      "\n",
      "     Basmati       0.99      1.00      0.99       200\n",
      "     Arborio       0.97      0.94      0.95       200\n",
      "   Karacadag       0.95      0.97      0.96       200\n",
      "     Jasmine       0.99      0.99      0.99       200\n",
      "      Ipsala       1.00      0.99      1.00       200\n",
      "\n",
      "    accuracy                           0.98      1000\n",
      "   macro avg       0.98      0.98      0.98      1000\n",
      "weighted avg       0.98      0.98      0.98      1000\n",
      "\n"
     ]
    }
   ],
   "source": [
    "report1 = classification_report(y_test, predictied_label, target_names=type_name)\n",
    "print(report1)"
   ]
  },
  {
   "cell_type": "markdown",
   "id": "7dbd580d",
   "metadata": {
    "hidden": true
   },
   "source": [
    "It shows that classification for **\"Arborio\"** and **\"Karacadag\"** these two kinds of rice has not very good performance. So we decide to complex the structure and try to change some parameters."
   ]
  },
  {
   "cell_type": "markdown",
   "id": "1ddfa5f8",
   "metadata": {
    "heading_collapsed": true,
    "hidden": true
   },
   "source": [
    "## 4.2 Improved model"
   ]
  },
  {
   "cell_type": "markdown",
   "id": "d77c89db",
   "metadata": {
    "heading_collapsed": true,
    "hidden": true
   },
   "source": [
    "### 4.2.1 Model building"
   ]
  },
  {
   "cell_type": "markdown",
   "id": "89357e9a",
   "metadata": {
    "hidden": true
   },
   "source": [
    "*   **<font color='blue'>One convolutional layer with 32 filters, a kernel size of 3x3 and a relu activation function**\n",
    "*   **<font color='blue'>Followed by one max pooling layer with a pool size of 2x2 and strides of 2**\n",
    "*   **<font color='blue'>Followed by one flattening layer**\n",
    "*   **<font color='blue'>Followed by one dense layer with 45 neurons and a relu activation function**\n",
    "*   **<font color='blue'>Followed by one dense layer with 15 neurons and a relu activation function**\n",
    "*   **<font color='blue'>Followed by one dropout layer with the rate of 0.1 and seed of 100.**\n",
    "*   **<font color='blue'>Followed by a final dense layer for a classification task.**"
   ]
  },
  {
   "cell_type": "code",
   "execution_count": 59,
   "id": "86f85411",
   "metadata": {
    "hidden": true
   },
   "outputs": [],
   "source": [
    "tf.keras.backend.clear_session()\n",
    "conv2 = tf.keras.layers.Conv2D(filters=32,\n",
    "                              kernel_size=3,\n",
    "                              activation='relu', padding='valid')(input_layer)\n",
    "\n",
    "maxpool2 = tf.keras.layers.MaxPool2D(pool_size=2,\n",
    "                                    strides=2)(conv2)\n",
    "\n",
    "flatten2 = tf.keras.layers.Flatten()(maxpool2)\n",
    "\n",
    "dense1 = tf.keras.layers.Dense(units=30,\n",
    "                              activation='relu')(flatten2)\n",
    "\n",
    "dense2 = tf.keras.layers.Dense(units=15,\n",
    "                              activation='relu')(dense1)\n",
    "\n",
    "dropout = tf.keras.layers.Dropout(rate=0.1, seed=100)(dense2)\n",
    "\n",
    "\n",
    "output = tf.keras.layers.Dense(units=5,\n",
    "                              activation='softmax')(dropout)"
   ]
  },
  {
   "cell_type": "code",
   "execution_count": 60,
   "id": "23fb3ffd",
   "metadata": {
    "hidden": true
   },
   "outputs": [],
   "source": [
    "model2 = tf.keras.Model(inputs=input_layer, outputs=output)"
   ]
  },
  {
   "cell_type": "code",
   "execution_count": 61,
   "id": "8cc47bd3",
   "metadata": {
    "hidden": true,
    "scrolled": true
   },
   "outputs": [
    {
     "name": "stdout",
     "output_type": "stream",
     "text": [
      "Model: \"model\"\n",
      "_________________________________________________________________\n",
      " Layer (type)                Output Shape              Param #   \n",
      "=================================================================\n",
      " input_1 (InputLayer)        [(None, 50, 50, 1)]       0         \n",
      "                                                                 \n",
      " conv2d (Conv2D)             (None, 48, 48, 32)        320       \n",
      "                                                                 \n",
      " max_pooling2d (MaxPooling2D  (None, 24, 24, 32)       0         \n",
      " )                                                               \n",
      "                                                                 \n",
      " flatten (Flatten)           (None, 18432)             0         \n",
      "                                                                 \n",
      " dense (Dense)               (None, 30)                552990    \n",
      "                                                                 \n",
      " dense_1 (Dense)             (None, 15)                465       \n",
      "                                                                 \n",
      " dropout (Dropout)           (None, 15)                0         \n",
      "                                                                 \n",
      " dense_2 (Dense)             (None, 5)                 80        \n",
      "                                                                 \n",
      "=================================================================\n",
      "Total params: 553,855\n",
      "Trainable params: 553,855\n",
      "Non-trainable params: 0\n",
      "_________________________________________________________________\n"
     ]
    }
   ],
   "source": [
    "model2.summary()"
   ]
  },
  {
   "cell_type": "code",
   "execution_count": 62,
   "id": "f53ae703",
   "metadata": {
    "hidden": true,
    "scrolled": true
   },
   "outputs": [
    {
     "data": {
      "image/png": "[encoded data removed]",
      "text/plain": [
       "<IPython.core.display.Image object>"
      ]
     },
     "execution_count": 62,
     "metadata": {},
     "output_type": "execute_result"
    }
   ],
   "source": [
    "tf.keras.utils.plot_model(model2)"
   ]
  },
  {
   "cell_type": "markdown",
   "id": "7dbb3c5b",
   "metadata": {
    "heading_collapsed": true,
    "hidden": true
   },
   "source": [
    "### 4.2.2 Model compile and training"
   ]
  },
  {
   "cell_type": "markdown",
   "id": "7a093f36",
   "metadata": {
    "hidden": true
   },
   "source": [
    "In this case, we use **EarlyStopping** in our model for stopping the running after 10 times."
   ]
  },
  {
   "cell_type": "code",
   "execution_count": 63,
   "id": "36979ad2",
   "metadata": {
    "hidden": true
   },
   "outputs": [],
   "source": [
    "model2.compile(loss=tf.keras.losses.SparseCategoricalCrossentropy(),\n",
    "             optimizer=tf.keras.optimizers.Adam(learning_rate=0.001),\n",
    "             metrics=['accuracy'])"
   ]
  },
  {
   "cell_type": "code",
   "execution_count": 64,
   "id": "5e10cda9",
   "metadata": {
    "hidden": true
   },
   "outputs": [
    {
     "name": "stdout",
     "output_type": "stream",
     "text": [
      "Epoch 1/20\n",
      "55/55 [==============================] - 2s 33ms/step - loss: 0.6706 - accuracy: 0.7446 - val_loss: 0.1230 - val_accuracy: 0.9800\n",
      "Epoch 2/20\n",
      "55/55 [==============================] - 2s 31ms/step - loss: 0.1583 - accuracy: 0.9460 - val_loss: 0.0820 - val_accuracy: 0.9740\n",
      "Epoch 3/20\n",
      "55/55 [==============================] - 2s 30ms/step - loss: 0.1081 - accuracy: 0.9606 - val_loss: 0.0644 - val_accuracy: 0.9780\n",
      "Epoch 4/20\n",
      "55/55 [==============================] - 2s 30ms/step - loss: 0.0936 - accuracy: 0.9646 - val_loss: 0.0659 - val_accuracy: 0.9800\n",
      "Epoch 5/20\n",
      "55/55 [==============================] - 2s 30ms/step - loss: 0.0832 - accuracy: 0.9683 - val_loss: 0.0717 - val_accuracy: 0.9780\n",
      "Epoch 6/20\n",
      "55/55 [==============================] - 2s 30ms/step - loss: 0.0838 - accuracy: 0.9717 - val_loss: 0.0562 - val_accuracy: 0.9800\n",
      "Epoch 7/20\n",
      "55/55 [==============================] - 2s 31ms/step - loss: 0.0835 - accuracy: 0.9723 - val_loss: 0.0605 - val_accuracy: 0.9760\n",
      "Epoch 8/20\n",
      "55/55 [==============================] - 2s 30ms/step - loss: 0.0738 - accuracy: 0.9706 - val_loss: 0.0701 - val_accuracy: 0.9780\n",
      "Epoch 9/20\n",
      "55/55 [==============================] - 2s 30ms/step - loss: 0.0556 - accuracy: 0.9791 - val_loss: 0.0675 - val_accuracy: 0.9700\n",
      "Epoch 10/20\n",
      "55/55 [==============================] - 2s 31ms/step - loss: 0.0480 - accuracy: 0.9817 - val_loss: 0.0462 - val_accuracy: 0.9820\n",
      "Epoch 11/20\n",
      "55/55 [==============================] - 2s 31ms/step - loss: 0.0453 - accuracy: 0.9823 - val_loss: 0.0531 - val_accuracy: 0.9780\n",
      "Epoch 12/20\n",
      "55/55 [==============================] - 2s 30ms/step - loss: 0.0495 - accuracy: 0.9797 - val_loss: 0.0508 - val_accuracy: 0.9860\n",
      "Epoch 13/20\n",
      "55/55 [==============================] - 2s 30ms/step - loss: 0.0380 - accuracy: 0.9863 - val_loss: 0.0518 - val_accuracy: 0.9840\n",
      "Epoch 14/20\n",
      "55/55 [==============================] - 2s 32ms/step - loss: 0.0361 - accuracy: 0.9869 - val_loss: 0.0470 - val_accuracy: 0.9860\n",
      "Epoch 15/20\n",
      "55/55 [==============================] - 2s 32ms/step - loss: 0.0447 - accuracy: 0.9806 - val_loss: 0.0747 - val_accuracy: 0.9740\n",
      "Epoch 16/20\n",
      "55/55 [==============================] - 2s 31ms/step - loss: 0.0414 - accuracy: 0.9849 - val_loss: 0.0550 - val_accuracy: 0.9840\n",
      "Epoch 17/20\n",
      "55/55 [==============================] - 2s 31ms/step - loss: 0.0348 - accuracy: 0.9877 - val_loss: 0.0591 - val_accuracy: 0.9840\n",
      "Epoch 18/20\n",
      "55/55 [==============================] - 2s 32ms/step - loss: 0.0281 - accuracy: 0.9903 - val_loss: 0.0549 - val_accuracy: 0.9860\n",
      "Epoch 19/20\n",
      "55/55 [==============================] - 2s 30ms/step - loss: 0.0398 - accuracy: 0.9851 - val_loss: 0.0656 - val_accuracy: 0.9820\n",
      "Epoch 20/20\n",
      "55/55 [==============================] - 2s 30ms/step - loss: 0.0298 - accuracy: 0.9886 - val_loss: 0.0526 - val_accuracy: 0.9780\n"
     ]
    }
   ],
   "source": [
    "model2_his = model2.fit(X_train_CNN,\n",
    "          y_train,\n",
    "          epochs=20,\n",
    "          shuffle=True,\n",
    "          validation_data=(X_val_CNN, y_val),\n",
    "          batch_size=64,\n",
    "          callbacks=tf.keras.callbacks.EarlyStopping(monitor='val_loss',\n",
    "                                                    patience=10))"
   ]
  },
  {
   "cell_type": "code",
   "execution_count": 65,
   "id": "9849c39c",
   "metadata": {
    "hidden": true,
    "scrolled": true
   },
   "outputs": [
    {
     "data": {
      "text/plain": [
       "{'loss': [0.6705729365348816,\n",
       "  0.15831443667411804,\n",
       "  0.10812516510486603,\n",
       "  0.09355449676513672,\n",
       "  0.08317960053682327,\n",
       "  0.08377212285995483,\n",
       "  0.08352424949407578,\n",
       "  0.07377427816390991,\n",
       "  0.05556735768914223,\n",
       "  0.04804001376032829,\n",
       "  0.045291610062122345,\n",
       "  0.04953629523515701,\n",
       "  0.03797294571995735,\n",
       "  0.03614506870508194,\n",
       "  0.04468192532658577,\n",
       "  0.0413760170340538,\n",
       "  0.03480229154229164,\n",
       "  0.0281387809664011,\n",
       "  0.03982653468847275,\n",
       "  0.029848868027329445],\n",
       " 'accuracy': [0.7445714473724365,\n",
       "  0.9459999799728394,\n",
       "  0.9605714082717896,\n",
       "  0.9645714163780212,\n",
       "  0.9682857394218445,\n",
       "  0.9717142581939697,\n",
       "  0.9722856879234314,\n",
       "  0.9705714583396912,\n",
       "  0.9791428446769714,\n",
       "  0.9817143082618713,\n",
       "  0.982285737991333,\n",
       "  0.9797142744064331,\n",
       "  0.9862856864929199,\n",
       "  0.9868571162223816,\n",
       "  0.980571448802948,\n",
       "  0.9848571419715881,\n",
       "  0.9877142906188965,\n",
       "  0.9902856945991516,\n",
       "  0.9851428866386414,\n",
       "  0.9885714054107666],\n",
       " 'val_loss': [0.12303462624549866,\n",
       "  0.08201675117015839,\n",
       "  0.06439972668886185,\n",
       "  0.06591988354921341,\n",
       "  0.07172692567110062,\n",
       "  0.05621708184480667,\n",
       "  0.06046067178249359,\n",
       "  0.07007244229316711,\n",
       "  0.06753294914960861,\n",
       "  0.04618384316563606,\n",
       "  0.05307365581393242,\n",
       "  0.0507899634540081,\n",
       "  0.05181054025888443,\n",
       "  0.046981774270534515,\n",
       "  0.07465826719999313,\n",
       "  0.055042460560798645,\n",
       "  0.05910392850637436,\n",
       "  0.05492987856268883,\n",
       "  0.06555020064115524,\n",
       "  0.05257347226142883],\n",
       " 'val_accuracy': [0.9800000190734863,\n",
       "  0.9739999771118164,\n",
       "  0.9779999852180481,\n",
       "  0.9800000190734863,\n",
       "  0.9779999852180481,\n",
       "  0.9800000190734863,\n",
       "  0.9760000109672546,\n",
       "  0.9779999852180481,\n",
       "  0.9700000286102295,\n",
       "  0.9819999933242798,\n",
       "  0.9779999852180481,\n",
       "  0.9860000014305115,\n",
       "  0.984000027179718,\n",
       "  0.9860000014305115,\n",
       "  0.9739999771118164,\n",
       "  0.984000027179718,\n",
       "  0.984000027179718,\n",
       "  0.9860000014305115,\n",
       "  0.9819999933242798,\n",
       "  0.9779999852180481]}"
      ]
     },
     "execution_count": 65,
     "metadata": {},
     "output_type": "execute_result"
    }
   ],
   "source": [
    "model2_his = model2_his.history\n",
    "model2_his"
   ]
  },
  {
   "cell_type": "code",
   "execution_count": 66,
   "id": "076971a1",
   "metadata": {
    "hidden": true,
    "scrolled": true
   },
   "outputs": [
    {
     "data": {
      "text/plain": [
       "<matplotlib.legend.Legend at 0x7f898689bfd0>"
      ]
     },
     "execution_count": 66,
     "metadata": {},
     "output_type": "execute_result"
    },
    {
     "data": {
      "image/png": "[encoded data removed]",
      "text/plain": [
       "<Figure size 1080x576 with 2 Axes>"
      ]
     },
     "metadata": {
      "needs_background": "light"
     },
     "output_type": "display_data"
    }
   ],
   "source": [
    "fig, ax = plt.subplots(1,2,figsize=(15, 8))\n",
    "\n",
    "ax[0].plot(model2_his['loss'], label='Loss')\n",
    "ax[0].plot(model2_his['val_loss'], label='Validation Loss')\n",
    "plt.xlabel('Epoch')\n",
    "plt.ylabel('Loss')\n",
    "ax[0].set_title('Loss', fontsize=15)\n",
    "\n",
    "ax[1].plot(model2_his['accuracy'], label='Accuracy')\n",
    "ax[1].plot(model2_his['val_accuracy'], label='Validation Accuracy')\n",
    "ax[1].set_title('Accuracy', fontsize=15)\n",
    "\n",
    "plt.legend(loc='best', fontsize=15)"
   ]
  },
  {
   "cell_type": "markdown",
   "id": "c1f98aaa",
   "metadata": {
    "hidden": true
   },
   "source": [
    "We can see that both loss and accuracy learning curve showed good in the previous two graphes. "
   ]
  },
  {
   "cell_type": "markdown",
   "id": "11bc6e4d",
   "metadata": {
    "heading_collapsed": true,
    "hidden": true
   },
   "source": [
    "### 4.2.3 Model evaluation and prediction"
   ]
  },
  {
   "cell_type": "code",
   "execution_count": 67,
   "id": "2dd7bec9",
   "metadata": {
    "hidden": true
   },
   "outputs": [
    {
     "name": "stdout",
     "output_type": "stream",
     "text": [
      "32/32 [==============================] - 0s 5ms/step - loss: 0.0519 - accuracy: 0.9830\n"
     ]
    },
    {
     "data": {
      "text/plain": [
       "[0.05190664902329445, 0.9829999804496765]"
      ]
     },
     "execution_count": 67,
     "metadata": {},
     "output_type": "execute_result"
    }
   ],
   "source": [
    "# Evalute model on test dataset\n",
    "model2.evaluate(X_test_CNN, y_test)"
   ]
  },
  {
   "cell_type": "code",
   "execution_count": 68,
   "id": "11e5a32b",
   "metadata": {
    "hidden": true,
    "scrolled": true
   },
   "outputs": [
    {
     "name": "stdout",
     "output_type": "stream",
     "text": [
      "32/32 [==============================] - 0s 4ms/step\n"
     ]
    }
   ],
   "source": [
    "y_pred1 = model.predict(X_test_CNN)\n",
    "predictied_label = np.argmax(y_pred1, axis=1)"
   ]
  },
  {
   "cell_type": "code",
   "execution_count": 69,
   "id": "58d9d558",
   "metadata": {
    "hidden": true,
    "scrolled": true
   },
   "outputs": [
    {
     "name": "stdout",
     "output_type": "stream",
     "text": [
      "              precision    recall  f1-score   support\n",
      "\n",
      "     Basmati       0.99      1.00      0.99       200\n",
      "     Arborio       0.97      0.94      0.95       200\n",
      "   Karacadag       0.95      0.97      0.96       200\n",
      "     Jasmine       0.99      0.99      0.99       200\n",
      "      Ipsala       1.00      0.99      1.00       200\n",
      "\n",
      "    accuracy                           0.98      1000\n",
      "   macro avg       0.98      0.98      0.98      1000\n",
      "weighted avg       0.98      0.98      0.98      1000\n",
      "\n"
     ]
    }
   ],
   "source": [
    "report1 = classification_report(y_test, predictied_label, target_names=type_name)\n",
    "print(report1)"
   ]
  },
  {
   "cell_type": "markdown",
   "id": "4ebb3ee8",
   "metadata": {
    "hidden": true
   },
   "source": [
    "This model performs better than the basic model. But for the type **\"Arborio\"** rice, it needs to improve."
   ]
  },
  {
   "cell_type": "markdown",
   "id": "cf01ae64",
   "metadata": {
    "heading_collapsed": true
   },
   "source": [
    "# 5. Model saving"
   ]
  },
  {
   "cell_type": "markdown",
   "id": "3dac42cf",
   "metadata": {
    "hidden": true
   },
   "source": [
    "In this section, we only save two models (two improved models for MLP and CNN model)"
   ]
  },
  {
   "cell_type": "code",
   "execution_count": 70,
   "id": "7cb63b05",
   "metadata": {
    "hidden": true
   },
   "outputs": [
    {
     "name": "stdout",
     "output_type": "stream",
     "text": [
      "INFO:tensorflow:Assets written to: model_MLP/assets\n"
     ]
    }
   ],
   "source": [
    "model_mlp1.save('model_MLP')"
   ]
  },
  {
   "cell_type": "code",
   "execution_count": 71,
   "id": "9f41983c",
   "metadata": {
    "hidden": true,
    "scrolled": true
   },
   "outputs": [
    {
     "name": "stderr",
     "output_type": "stream",
     "text": [
      "WARNING:absl:Found untraced functions such as _jit_compiled_convolution_op while saving (showing 1 of 1). These functions will not be directly callable after loading.\n"
     ]
    },
    {
     "name": "stdout",
     "output_type": "stream",
     "text": [
      "INFO:tensorflow:Assets written to: model_CNN/assets\n"
     ]
    },
    {
     "name": "stderr",
     "output_type": "stream",
     "text": [
      "INFO:tensorflow:Assets written to: model_CNN/assets\n"
     ]
    }
   ],
   "source": [
    "model2.save('model_CNN')"
   ]
  },
  {
   "cell_type": "markdown",
   "id": "3eea9d79",
   "metadata": {},
   "source": [
    "# "
   ]
  },
  {
   "cell_type": "markdown",
   "id": "931778f6",
   "metadata": {
    "heading_collapsed": true
   },
   "source": [
    "## <h3 align=\"center\"> © Haozhe TANG 04.2023. All rights reserved. <h3/>"
   ]
  }
 ],
 "metadata": {
  "kernelspec": {
   "display_name": "Python 3 (ipykernel)",
   "language": "python",
   "name": "python3"
  },
  "language_info": {
   "codemirror_mode": {
    "name": "ipython",
    "version": 3
   },
   "file_extension": ".py",
   "mimetype": "text/x-python",
   "name": "python",
   "nbconvert_exporter": "python",
   "pygments_lexer": "ipython3",
   "version": "3.8.13"
  }
 },
 "nbformat": 4,
 "nbformat_minor": 5
}
