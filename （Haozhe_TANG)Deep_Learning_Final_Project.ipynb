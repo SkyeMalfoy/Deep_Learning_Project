{
 "cells": [
  {
   "cell_type": "markdown",
   "id": "6a055d7a",
   "metadata": {},
   "source": [
    "<i>This notebook is made by Haozhe TANG on 24, April for the final project of Deep Learning.</i>"
   ]
  },
  {
   "cell_type": "markdown",
   "id": "182ef915",
   "metadata": {
    "heading_collapsed": true
   },
   "source": [
    "# Import packages"
   ]
  },
  {
   "cell_type": "code",
   "execution_count": 1,
   "id": "4d8d16af",
   "metadata": {
    "hidden": true
   },
   "outputs": [],
   "source": [
    "#Basic packages\n",
    "import numpy as np\n",
    "import pandas as pd\n",
    "import matplotlib.pyplot as plt\n",
    "import math\n",
    "import seaborn as sns\n",
    "import pathlib\n",
    "\n",
    "#Tensorflow\n",
    "import tensorflow as tf\n",
    "\n",
    "#Sklearn\n",
    "from sklearn.model_selection import train_test_split\n",
    "from sklearn.metrics import (accuracy_score, \n",
    "                             f1_score, \n",
    "                             confusion_matrix, \n",
    "                             classification_report,\n",
    "                            ConfusionMatrixDisplay)\n"
   ]
  },
  {
   "cell_type": "markdown",
   "id": "2b2ac8f8",
   "metadata": {
    "heading_collapsed": true
   },
   "source": [
    "# 1. Data Proprocessing"
   ]
  },
  {
   "cell_type": "markdown",
   "id": "96bc99a2",
   "metadata": {
    "heading_collapsed": true,
    "hidden": true
   },
   "source": [
    "## 1.1 Data import and discovery"
   ]
  },
  {
   "cell_type": "code",
   "execution_count": 2,
   "id": "2bb4fc80",
   "metadata": {
    "hidden": true
   },
   "outputs": [
    {
     "data": {
      "text/html": [
       "<div>\n",
       "<style scoped>\n",
       "    .dataframe tbody tr th:only-of-type {\n",
       "        vertical-align: middle;\n",
       "    }\n",
       "\n",
       "    .dataframe tbody tr th {\n",
       "        vertical-align: top;\n",
       "    }\n",
       "\n",
       "    .dataframe thead th {\n",
       "        text-align: right;\n",
       "    }\n",
       "</style>\n",
       "<table border=\"1\" class=\"dataframe\">\n",
       "  <thead>\n",
       "    <tr style=\"text-align: right;\">\n",
       "      <th></th>\n",
       "      <th>pixel0</th>\n",
       "      <th>pixel1</th>\n",
       "      <th>pixel2</th>\n",
       "      <th>pixel3</th>\n",
       "      <th>pixel4</th>\n",
       "      <th>pixel5</th>\n",
       "      <th>pixel6</th>\n",
       "      <th>pixel7</th>\n",
       "      <th>pixel8</th>\n",
       "      <th>pixel9</th>\n",
       "      <th>...</th>\n",
       "      <th>pixel2491</th>\n",
       "      <th>pixel2492</th>\n",
       "      <th>pixel2493</th>\n",
       "      <th>pixel2494</th>\n",
       "      <th>pixel2495</th>\n",
       "      <th>pixel2496</th>\n",
       "      <th>pixel2497</th>\n",
       "      <th>pixel2498</th>\n",
       "      <th>pixel2499</th>\n",
       "      <th>Rice_type</th>\n",
       "    </tr>\n",
       "  </thead>\n",
       "  <tbody>\n",
       "    <tr>\n",
       "      <th>0</th>\n",
       "      <td>0</td>\n",
       "      <td>0</td>\n",
       "      <td>0</td>\n",
       "      <td>0</td>\n",
       "      <td>0</td>\n",
       "      <td>0</td>\n",
       "      <td>0</td>\n",
       "      <td>0</td>\n",
       "      <td>0</td>\n",
       "      <td>0</td>\n",
       "      <td>...</td>\n",
       "      <td>2</td>\n",
       "      <td>2</td>\n",
       "      <td>2</td>\n",
       "      <td>2</td>\n",
       "      <td>2</td>\n",
       "      <td>0</td>\n",
       "      <td>0</td>\n",
       "      <td>0</td>\n",
       "      <td>0</td>\n",
       "      <td>Basmati</td>\n",
       "    </tr>\n",
       "    <tr>\n",
       "      <th>1</th>\n",
       "      <td>0</td>\n",
       "      <td>0</td>\n",
       "      <td>0</td>\n",
       "      <td>0</td>\n",
       "      <td>0</td>\n",
       "      <td>0</td>\n",
       "      <td>0</td>\n",
       "      <td>0</td>\n",
       "      <td>0</td>\n",
       "      <td>0</td>\n",
       "      <td>...</td>\n",
       "      <td>2</td>\n",
       "      <td>2</td>\n",
       "      <td>2</td>\n",
       "      <td>2</td>\n",
       "      <td>2</td>\n",
       "      <td>0</td>\n",
       "      <td>0</td>\n",
       "      <td>0</td>\n",
       "      <td>0</td>\n",
       "      <td>Basmati</td>\n",
       "    </tr>\n",
       "    <tr>\n",
       "      <th>2</th>\n",
       "      <td>0</td>\n",
       "      <td>0</td>\n",
       "      <td>0</td>\n",
       "      <td>0</td>\n",
       "      <td>0</td>\n",
       "      <td>0</td>\n",
       "      <td>0</td>\n",
       "      <td>0</td>\n",
       "      <td>0</td>\n",
       "      <td>0</td>\n",
       "      <td>...</td>\n",
       "      <td>2</td>\n",
       "      <td>2</td>\n",
       "      <td>2</td>\n",
       "      <td>2</td>\n",
       "      <td>2</td>\n",
       "      <td>0</td>\n",
       "      <td>0</td>\n",
       "      <td>0</td>\n",
       "      <td>0</td>\n",
       "      <td>Basmati</td>\n",
       "    </tr>\n",
       "    <tr>\n",
       "      <th>3</th>\n",
       "      <td>0</td>\n",
       "      <td>0</td>\n",
       "      <td>0</td>\n",
       "      <td>0</td>\n",
       "      <td>0</td>\n",
       "      <td>0</td>\n",
       "      <td>0</td>\n",
       "      <td>0</td>\n",
       "      <td>0</td>\n",
       "      <td>0</td>\n",
       "      <td>...</td>\n",
       "      <td>2</td>\n",
       "      <td>2</td>\n",
       "      <td>2</td>\n",
       "      <td>2</td>\n",
       "      <td>2</td>\n",
       "      <td>0</td>\n",
       "      <td>0</td>\n",
       "      <td>0</td>\n",
       "      <td>0</td>\n",
       "      <td>Basmati</td>\n",
       "    </tr>\n",
       "    <tr>\n",
       "      <th>4</th>\n",
       "      <td>0</td>\n",
       "      <td>0</td>\n",
       "      <td>0</td>\n",
       "      <td>0</td>\n",
       "      <td>0</td>\n",
       "      <td>0</td>\n",
       "      <td>0</td>\n",
       "      <td>0</td>\n",
       "      <td>0</td>\n",
       "      <td>0</td>\n",
       "      <td>...</td>\n",
       "      <td>2</td>\n",
       "      <td>2</td>\n",
       "      <td>2</td>\n",
       "      <td>2</td>\n",
       "      <td>2</td>\n",
       "      <td>0</td>\n",
       "      <td>0</td>\n",
       "      <td>0</td>\n",
       "      <td>0</td>\n",
       "      <td>Basmati</td>\n",
       "    </tr>\n",
       "  </tbody>\n",
       "</table>\n",
       "<p>5 rows × 2501 columns</p>\n",
       "</div>"
      ],
      "text/plain": [
       "   pixel0  pixel1  pixel2  pixel3  pixel4  pixel5  pixel6  pixel7  pixel8  \\\n",
       "0       0       0       0       0       0       0       0       0       0   \n",
       "1       0       0       0       0       0       0       0       0       0   \n",
       "2       0       0       0       0       0       0       0       0       0   \n",
       "3       0       0       0       0       0       0       0       0       0   \n",
       "4       0       0       0       0       0       0       0       0       0   \n",
       "\n",
       "   pixel9  ...  pixel2491  pixel2492  pixel2493  pixel2494  pixel2495  \\\n",
       "0       0  ...          2          2          2          2          2   \n",
       "1       0  ...          2          2          2          2          2   \n",
       "2       0  ...          2          2          2          2          2   \n",
       "3       0  ...          2          2          2          2          2   \n",
       "4       0  ...          2          2          2          2          2   \n",
       "\n",
       "   pixel2496  pixel2497  pixel2498  pixel2499  Rice_type  \n",
       "0          0          0          0          0    Basmati  \n",
       "1          0          0          0          0    Basmati  \n",
       "2          0          0          0          0    Basmati  \n",
       "3          0          0          0          0    Basmati  \n",
       "4          0          0          0          0    Basmati  \n",
       "\n",
       "[5 rows x 2501 columns]"
      ]
     },
     "execution_count": 2,
     "metadata": {},
     "output_type": "execute_result"
    }
   ],
   "source": [
    "df = pd.read_csv('rice_dataset_simplified.csv')\n",
    "df.head()"
   ]
  },
  {
   "cell_type": "markdown",
   "id": "bd1e723c",
   "metadata": {
    "hidden": true
   },
   "source": [
    "**Null value check: this dataset does not have any null values.**"
   ]
  },
  {
   "cell_type": "code",
   "execution_count": 3,
   "id": "94ec0637",
   "metadata": {
    "hidden": true,
    "scrolled": false
   },
   "outputs": [
    {
     "data": {
      "text/plain": [
       "0"
      ]
     },
     "execution_count": 3,
     "metadata": {},
     "output_type": "execute_result"
    }
   ],
   "source": [
    "sum(df.isna().sum() > 0)"
   ]
  },
  {
   "cell_type": "markdown",
   "id": "be10292e",
   "metadata": {
    "hidden": true
   },
   "source": [
    "**Duplicate check: this dataset does not have any duplicates.**"
   ]
  },
  {
   "cell_type": "code",
   "execution_count": 4,
   "id": "a321fa43",
   "metadata": {
    "hidden": true
   },
   "outputs": [
    {
     "data": {
      "text/plain": [
       "0"
      ]
     },
     "execution_count": 4,
     "metadata": {},
     "output_type": "execute_result"
    }
   ],
   "source": [
    "sum(df.duplicated())"
   ]
  },
  {
   "cell_type": "markdown",
   "id": "ccb20b61",
   "metadata": {
    "hidden": true
   },
   "source": [
    "**Label outliers check: the target of this dataset is equally splitted**"
   ]
  },
  {
   "cell_type": "code",
   "execution_count": 5,
   "id": "c666955b",
   "metadata": {
    "hidden": true,
    "scrolled": false
   },
   "outputs": [
    {
     "data": {
      "text/plain": [
       "Basmati      1000\n",
       "Arborio      1000\n",
       "Ipsala       1000\n",
       "Jasmine      1000\n",
       "Karacadag    1000\n",
       "Name: Rice_type, dtype: int64"
      ]
     },
     "execution_count": 5,
     "metadata": {},
     "output_type": "execute_result"
    }
   ],
   "source": [
    "#Label outliers check\n",
    "df['Rice_type'].value_counts()"
   ]
  },
  {
   "cell_type": "markdown",
   "id": "79589eed",
   "metadata": {
    "hidden": true
   },
   "source": [
    "**Features outliers check: did not find any outliers in feature columns**"
   ]
  },
  {
   "cell_type": "code",
   "execution_count": 6,
   "id": "022bd8e8",
   "metadata": {
    "hidden": true
   },
   "outputs": [],
   "source": [
    "#Features outliers check\n",
    "if ((df.iloc[:, :-1] > 255).any == True):\n",
    "    print('Outlier')"
   ]
  },
  {
   "cell_type": "markdown",
   "id": "c233099c",
   "metadata": {
    "heading_collapsed": true,
    "hidden": true
   },
   "source": [
    "## 1.2 Image preview"
   ]
  },
  {
   "cell_type": "code",
   "execution_count": 7,
   "id": "b475be63",
   "metadata": {
    "hidden": true
   },
   "outputs": [
    {
     "data": {
      "image/png": "[encoded data removed]",
      "text/plain": [
       "<Figure size 1440x1440 with 16 Axes>"
      ]
     },
     "metadata": {
      "needs_background": "light"
     },
     "output_type": "display_data"
    }
   ],
   "source": [
    "fig, axs = plt.subplots(4,4,figsize=(20,20))\n",
    "fig.suptitle('Some rice photos in gray from the dataset.', fontsize=20)\n",
    "samples = df.sample(n=16)\n",
    "imgs = samples.iloc[:, :-1].to_numpy().astype(np.int64)\n",
    "labels = samples.iloc[:, -1].to_numpy()\n",
    "\n",
    "for img, label, ax in zip(imgs, labels, axs.flatten()):\n",
    "    ax.imshow(img.reshape(50, 50), cmap='gray')\n",
    "    ax.set_title(label, fontsize=20)\n",
    "    ax.axis('off')\n",
    "    \n",
    "plt.show()"
   ]
  },
  {
   "cell_type": "code",
   "execution_count": 8,
   "id": "ab2c11bc",
   "metadata": {
    "hidden": true,
    "scrolled": true
   },
   "outputs": [
    {
     "data": {
      "image/png": "[encoded data removed]",
      "text/plain": [
       "<Figure size 1440x360 with 5 Axes>"
      ]
     },
     "metadata": {
      "needs_background": "light"
     },
     "output_type": "display_data"
    }
   ],
   "source": [
    "# Preview these five kinds of rices.\n",
    "fig, axs = plt.subplots(1, 5, figsize=(20, 5))\n",
    "fig.suptitle('Rice types', fontsize=20)\n",
    "type_name = ['Basmati', 'Arborio', 'Karacadag', 'Jasmine', \"Ipsala\"]\n",
    "\n",
    "for ax, label in zip(axs.flatten(), type_name):\n",
    "    img = df[df['Rice_type'] == label].iloc[0, :-1].to_numpy().astype(np.int64)\n",
    "    ax.imshow(img.reshape(50, 50), cmap='gray')\n",
    "    ax.set_title(label, fontsize=20)\n",
    "    ax.axis('off')\n",
    "\n",
    "plt.show()"
   ]
  },
  {
   "cell_type": "markdown",
   "id": "d3390172",
   "metadata": {
    "heading_collapsed": true,
    "hidden": true
   },
   "source": [
    "## 1.3 Preprocessing"
   ]
  },
  {
   "cell_type": "markdown",
   "id": "c5fbe96d",
   "metadata": {
    "heading_collapsed": true,
    "hidden": true
   },
   "source": [
    "### 1.3.1 Label Proprocessing"
   ]
  },
  {
   "cell_type": "markdown",
   "id": "f2514e26",
   "metadata": {
    "hidden": true
   },
   "source": [
    "As this is a **classification question**, we decide to mapping the label of the dataset into numbers."
   ]
  },
  {
   "cell_type": "code",
   "execution_count": 9,
   "id": "4ef140af",
   "metadata": {
    "hidden": true
   },
   "outputs": [
    {
     "data": {
      "text/plain": [
       "Basmati      1000\n",
       "Arborio      1000\n",
       "Ipsala       1000\n",
       "Jasmine      1000\n",
       "Karacadag    1000\n",
       "Name: Rice_type, dtype: int64"
      ]
     },
     "execution_count": 9,
     "metadata": {},
     "output_type": "execute_result"
    }
   ],
   "source": [
    "df.iloc[:, -1].value_counts()"
   ]
  },
  {
   "cell_type": "code",
   "execution_count": 10,
   "id": "5c490feb",
   "metadata": {
    "hidden": true,
    "scrolled": true
   },
   "outputs": [
    {
     "data": {
      "text/html": [
       "<div>\n",
       "<style scoped>\n",
       "    .dataframe tbody tr th:only-of-type {\n",
       "        vertical-align: middle;\n",
       "    }\n",
       "\n",
       "    .dataframe tbody tr th {\n",
       "        vertical-align: top;\n",
       "    }\n",
       "\n",
       "    .dataframe thead th {\n",
       "        text-align: right;\n",
       "    }\n",
       "</style>\n",
       "<table border=\"1\" class=\"dataframe\">\n",
       "  <thead>\n",
       "    <tr style=\"text-align: right;\">\n",
       "      <th></th>\n",
       "      <th>pixel0</th>\n",
       "      <th>pixel1</th>\n",
       "      <th>pixel2</th>\n",
       "      <th>pixel3</th>\n",
       "      <th>pixel4</th>\n",
       "      <th>pixel5</th>\n",
       "      <th>pixel6</th>\n",
       "      <th>pixel7</th>\n",
       "      <th>pixel8</th>\n",
       "      <th>pixel9</th>\n",
       "      <th>...</th>\n",
       "      <th>pixel2491</th>\n",
       "      <th>pixel2492</th>\n",
       "      <th>pixel2493</th>\n",
       "      <th>pixel2494</th>\n",
       "      <th>pixel2495</th>\n",
       "      <th>pixel2496</th>\n",
       "      <th>pixel2497</th>\n",
       "      <th>pixel2498</th>\n",
       "      <th>pixel2499</th>\n",
       "      <th>Rice_type</th>\n",
       "    </tr>\n",
       "  </thead>\n",
       "  <tbody>\n",
       "    <tr>\n",
       "      <th>0</th>\n",
       "      <td>0</td>\n",
       "      <td>0</td>\n",
       "      <td>0</td>\n",
       "      <td>0</td>\n",
       "      <td>0</td>\n",
       "      <td>0</td>\n",
       "      <td>0</td>\n",
       "      <td>0</td>\n",
       "      <td>0</td>\n",
       "      <td>0</td>\n",
       "      <td>...</td>\n",
       "      <td>2</td>\n",
       "      <td>2</td>\n",
       "      <td>2</td>\n",
       "      <td>2</td>\n",
       "      <td>2</td>\n",
       "      <td>0</td>\n",
       "      <td>0</td>\n",
       "      <td>0</td>\n",
       "      <td>0</td>\n",
       "      <td>0</td>\n",
       "    </tr>\n",
       "    <tr>\n",
       "      <th>1</th>\n",
       "      <td>0</td>\n",
       "      <td>0</td>\n",
       "      <td>0</td>\n",
       "      <td>0</td>\n",
       "      <td>0</td>\n",
       "      <td>0</td>\n",
       "      <td>0</td>\n",
       "      <td>0</td>\n",
       "      <td>0</td>\n",
       "      <td>0</td>\n",
       "      <td>...</td>\n",
       "      <td>2</td>\n",
       "      <td>2</td>\n",
       "      <td>2</td>\n",
       "      <td>2</td>\n",
       "      <td>2</td>\n",
       "      <td>0</td>\n",
       "      <td>0</td>\n",
       "      <td>0</td>\n",
       "      <td>0</td>\n",
       "      <td>0</td>\n",
       "    </tr>\n",
       "    <tr>\n",
       "      <th>2</th>\n",
       "      <td>0</td>\n",
       "      <td>0</td>\n",
       "      <td>0</td>\n",
       "      <td>0</td>\n",
       "      <td>0</td>\n",
       "      <td>0</td>\n",
       "      <td>0</td>\n",
       "      <td>0</td>\n",
       "      <td>0</td>\n",
       "      <td>0</td>\n",
       "      <td>...</td>\n",
       "      <td>2</td>\n",
       "      <td>2</td>\n",
       "      <td>2</td>\n",
       "      <td>2</td>\n",
       "      <td>2</td>\n",
       "      <td>0</td>\n",
       "      <td>0</td>\n",
       "      <td>0</td>\n",
       "      <td>0</td>\n",
       "      <td>0</td>\n",
       "    </tr>\n",
       "    <tr>\n",
       "      <th>3</th>\n",
       "      <td>0</td>\n",
       "      <td>0</td>\n",
       "      <td>0</td>\n",
       "      <td>0</td>\n",
       "      <td>0</td>\n",
       "      <td>0</td>\n",
       "      <td>0</td>\n",
       "      <td>0</td>\n",
       "      <td>0</td>\n",
       "      <td>0</td>\n",
       "      <td>...</td>\n",
       "      <td>2</td>\n",
       "      <td>2</td>\n",
       "      <td>2</td>\n",
       "      <td>2</td>\n",
       "      <td>2</td>\n",
       "      <td>0</td>\n",
       "      <td>0</td>\n",
       "      <td>0</td>\n",
       "      <td>0</td>\n",
       "      <td>0</td>\n",
       "    </tr>\n",
       "    <tr>\n",
       "      <th>4</th>\n",
       "      <td>0</td>\n",
       "      <td>0</td>\n",
       "      <td>0</td>\n",
       "      <td>0</td>\n",
       "      <td>0</td>\n",
       "      <td>0</td>\n",
       "      <td>0</td>\n",
       "      <td>0</td>\n",
       "      <td>0</td>\n",
       "      <td>0</td>\n",
       "      <td>...</td>\n",
       "      <td>2</td>\n",
       "      <td>2</td>\n",
       "      <td>2</td>\n",
       "      <td>2</td>\n",
       "      <td>2</td>\n",
       "      <td>0</td>\n",
       "      <td>0</td>\n",
       "      <td>0</td>\n",
       "      <td>0</td>\n",
       "      <td>0</td>\n",
       "    </tr>\n",
       "  </tbody>\n",
       "</table>\n",
       "<p>5 rows × 2501 columns</p>\n",
       "</div>"
      ],
      "text/plain": [
       "   pixel0  pixel1  pixel2  pixel3  pixel4  pixel5  pixel6  pixel7  pixel8  \\\n",
       "0       0       0       0       0       0       0       0       0       0   \n",
       "1       0       0       0       0       0       0       0       0       0   \n",
       "2       0       0       0       0       0       0       0       0       0   \n",
       "3       0       0       0       0       0       0       0       0       0   \n",
       "4       0       0       0       0       0       0       0       0       0   \n",
       "\n",
       "   pixel9  ...  pixel2491  pixel2492  pixel2493  pixel2494  pixel2495  \\\n",
       "0       0  ...          2          2          2          2          2   \n",
       "1       0  ...          2          2          2          2          2   \n",
       "2       0  ...          2          2          2          2          2   \n",
       "3       0  ...          2          2          2          2          2   \n",
       "4       0  ...          2          2          2          2          2   \n",
       "\n",
       "   pixel2496  pixel2497  pixel2498  pixel2499  Rice_type  \n",
       "0          0          0          0          0          0  \n",
       "1          0          0          0          0          0  \n",
       "2          0          0          0          0          0  \n",
       "3          0          0          0          0          0  \n",
       "4          0          0          0          0          0  \n",
       "\n",
       "[5 rows x 2501 columns]"
      ]
     },
     "execution_count": 10,
     "metadata": {},
     "output_type": "execute_result"
    }
   ],
   "source": [
    "df.iloc[:, -1] = df.iloc[:, -1].map({\n",
    "    'Basmati': 0,\n",
    "    \"Arborio\": 1,\n",
    "    \"Karacadag\": 2,\n",
    "    \"Jasmine\": 3,\n",
    "    \"Ipsala\": 4\n",
    "})\n",
    "df.head()\n",
    "#Or we could use sklearn.preprocessing.LabelEncoder()"
   ]
  },
  {
   "cell_type": "markdown",
   "id": "b51c0606",
   "metadata": {
    "heading_collapsed": true,
    "hidden": true
   },
   "source": [
    "### 1.3.2 Features preprocessing"
   ]
  },
  {
   "cell_type": "markdown",
   "id": "9a5e9178",
   "metadata": {
    "hidden": true
   },
   "source": [
    "As all features are pixels in the **50x50** images and this dataset does not has any outliers - we decide to divide all values by 255 to do the **normalization process** to all pixel values."
   ]
  },
  {
   "cell_type": "code",
   "execution_count": 11,
   "id": "daf904b6",
   "metadata": {
    "hidden": true
   },
   "outputs": [
    {
     "data": {
      "text/html": [
       "<div>\n",
       "<style scoped>\n",
       "    .dataframe tbody tr th:only-of-type {\n",
       "        vertical-align: middle;\n",
       "    }\n",
       "\n",
       "    .dataframe tbody tr th {\n",
       "        vertical-align: top;\n",
       "    }\n",
       "\n",
       "    .dataframe thead th {\n",
       "        text-align: right;\n",
       "    }\n",
       "</style>\n",
       "<table border=\"1\" class=\"dataframe\">\n",
       "  <thead>\n",
       "    <tr style=\"text-align: right;\">\n",
       "      <th></th>\n",
       "      <th>pixel0</th>\n",
       "      <th>pixel1</th>\n",
       "      <th>pixel2</th>\n",
       "      <th>pixel3</th>\n",
       "      <th>pixel4</th>\n",
       "      <th>pixel5</th>\n",
       "      <th>pixel6</th>\n",
       "      <th>pixel7</th>\n",
       "      <th>pixel8</th>\n",
       "      <th>pixel9</th>\n",
       "      <th>...</th>\n",
       "      <th>pixel2491</th>\n",
       "      <th>pixel2492</th>\n",
       "      <th>pixel2493</th>\n",
       "      <th>pixel2494</th>\n",
       "      <th>pixel2495</th>\n",
       "      <th>pixel2496</th>\n",
       "      <th>pixel2497</th>\n",
       "      <th>pixel2498</th>\n",
       "      <th>pixel2499</th>\n",
       "      <th>Rice_type</th>\n",
       "    </tr>\n",
       "  </thead>\n",
       "  <tbody>\n",
       "    <tr>\n",
       "      <th>0</th>\n",
       "      <td>0.0</td>\n",
       "      <td>0.0</td>\n",
       "      <td>0.0</td>\n",
       "      <td>0.0</td>\n",
       "      <td>0.0</td>\n",
       "      <td>0.0</td>\n",
       "      <td>0.0</td>\n",
       "      <td>0.0</td>\n",
       "      <td>0.0</td>\n",
       "      <td>0.0</td>\n",
       "      <td>...</td>\n",
       "      <td>0.007843</td>\n",
       "      <td>0.007843</td>\n",
       "      <td>0.007843</td>\n",
       "      <td>0.007843</td>\n",
       "      <td>0.007843</td>\n",
       "      <td>0.0</td>\n",
       "      <td>0.0</td>\n",
       "      <td>0.0</td>\n",
       "      <td>0.0</td>\n",
       "      <td>0</td>\n",
       "    </tr>\n",
       "    <tr>\n",
       "      <th>1</th>\n",
       "      <td>0.0</td>\n",
       "      <td>0.0</td>\n",
       "      <td>0.0</td>\n",
       "      <td>0.0</td>\n",
       "      <td>0.0</td>\n",
       "      <td>0.0</td>\n",
       "      <td>0.0</td>\n",
       "      <td>0.0</td>\n",
       "      <td>0.0</td>\n",
       "      <td>0.0</td>\n",
       "      <td>...</td>\n",
       "      <td>0.007843</td>\n",
       "      <td>0.007843</td>\n",
       "      <td>0.007843</td>\n",
       "      <td>0.007843</td>\n",
       "      <td>0.007843</td>\n",
       "      <td>0.0</td>\n",
       "      <td>0.0</td>\n",
       "      <td>0.0</td>\n",
       "      <td>0.0</td>\n",
       "      <td>0</td>\n",
       "    </tr>\n",
       "    <tr>\n",
       "      <th>2</th>\n",
       "      <td>0.0</td>\n",
       "      <td>0.0</td>\n",
       "      <td>0.0</td>\n",
       "      <td>0.0</td>\n",
       "      <td>0.0</td>\n",
       "      <td>0.0</td>\n",
       "      <td>0.0</td>\n",
       "      <td>0.0</td>\n",
       "      <td>0.0</td>\n",
       "      <td>0.0</td>\n",
       "      <td>...</td>\n",
       "      <td>0.007843</td>\n",
       "      <td>0.007843</td>\n",
       "      <td>0.007843</td>\n",
       "      <td>0.007843</td>\n",
       "      <td>0.007843</td>\n",
       "      <td>0.0</td>\n",
       "      <td>0.0</td>\n",
       "      <td>0.0</td>\n",
       "      <td>0.0</td>\n",
       "      <td>0</td>\n",
       "    </tr>\n",
       "    <tr>\n",
       "      <th>3</th>\n",
       "      <td>0.0</td>\n",
       "      <td>0.0</td>\n",
       "      <td>0.0</td>\n",
       "      <td>0.0</td>\n",
       "      <td>0.0</td>\n",
       "      <td>0.0</td>\n",
       "      <td>0.0</td>\n",
       "      <td>0.0</td>\n",
       "      <td>0.0</td>\n",
       "      <td>0.0</td>\n",
       "      <td>...</td>\n",
       "      <td>0.007843</td>\n",
       "      <td>0.007843</td>\n",
       "      <td>0.007843</td>\n",
       "      <td>0.007843</td>\n",
       "      <td>0.007843</td>\n",
       "      <td>0.0</td>\n",
       "      <td>0.0</td>\n",
       "      <td>0.0</td>\n",
       "      <td>0.0</td>\n",
       "      <td>0</td>\n",
       "    </tr>\n",
       "    <tr>\n",
       "      <th>4</th>\n",
       "      <td>0.0</td>\n",
       "      <td>0.0</td>\n",
       "      <td>0.0</td>\n",
       "      <td>0.0</td>\n",
       "      <td>0.0</td>\n",
       "      <td>0.0</td>\n",
       "      <td>0.0</td>\n",
       "      <td>0.0</td>\n",
       "      <td>0.0</td>\n",
       "      <td>0.0</td>\n",
       "      <td>...</td>\n",
       "      <td>0.007843</td>\n",
       "      <td>0.007843</td>\n",
       "      <td>0.007843</td>\n",
       "      <td>0.007843</td>\n",
       "      <td>0.007843</td>\n",
       "      <td>0.0</td>\n",
       "      <td>0.0</td>\n",
       "      <td>0.0</td>\n",
       "      <td>0.0</td>\n",
       "      <td>0</td>\n",
       "    </tr>\n",
       "  </tbody>\n",
       "</table>\n",
       "<p>5 rows × 2501 columns</p>\n",
       "</div>"
      ],
      "text/plain": [
       "   pixel0  pixel1  pixel2  pixel3  pixel4  pixel5  pixel6  pixel7  pixel8  \\\n",
       "0     0.0     0.0     0.0     0.0     0.0     0.0     0.0     0.0     0.0   \n",
       "1     0.0     0.0     0.0     0.0     0.0     0.0     0.0     0.0     0.0   \n",
       "2     0.0     0.0     0.0     0.0     0.0     0.0     0.0     0.0     0.0   \n",
       "3     0.0     0.0     0.0     0.0     0.0     0.0     0.0     0.0     0.0   \n",
       "4     0.0     0.0     0.0     0.0     0.0     0.0     0.0     0.0     0.0   \n",
       "\n",
       "   pixel9  ...  pixel2491  pixel2492  pixel2493  pixel2494  pixel2495  \\\n",
       "0     0.0  ...   0.007843   0.007843   0.007843   0.007843   0.007843   \n",
       "1     0.0  ...   0.007843   0.007843   0.007843   0.007843   0.007843   \n",
       "2     0.0  ...   0.007843   0.007843   0.007843   0.007843   0.007843   \n",
       "3     0.0  ...   0.007843   0.007843   0.007843   0.007843   0.007843   \n",
       "4     0.0  ...   0.007843   0.007843   0.007843   0.007843   0.007843   \n",
       "\n",
       "   pixel2496  pixel2497  pixel2498  pixel2499  Rice_type  \n",
       "0        0.0        0.0        0.0        0.0          0  \n",
       "1        0.0        0.0        0.0        0.0          0  \n",
       "2        0.0        0.0        0.0        0.0          0  \n",
       "3        0.0        0.0        0.0        0.0          0  \n",
       "4        0.0        0.0        0.0        0.0          0  \n",
       "\n",
       "[5 rows x 2501 columns]"
      ]
     },
     "execution_count": 11,
     "metadata": {},
     "output_type": "execute_result"
    }
   ],
   "source": [
    "df.iloc[:, :-1] = df.iloc[:, :-1] / 255\n",
    "df.head()"
   ]
  },
  {
   "cell_type": "markdown",
   "id": "60d9e8d2",
   "metadata": {
    "heading_collapsed": true
   },
   "source": [
    "# 2. Dataset splitting"
   ]
  },
  {
   "cell_type": "code",
   "execution_count": 12,
   "id": "3732337c",
   "metadata": {
    "hidden": true
   },
   "outputs": [],
   "source": [
    "#Split features and label\n",
    "X, y = df.iloc[:, :-1], df.iloc[:, -1]"
   ]
  },
  {
   "cell_type": "markdown",
   "id": "eb4d3f7c",
   "metadata": {
    "hidden": true
   },
   "source": [
    "In this case, the dataset will be splitted into three parts and the ratio of each part is as follows:\n",
    "<li>70% for training set;</li>\n",
    "<li>10% for validation set;</li>\n",
    "<li>20% for testing set.</li>"
   ]
  },
  {
   "cell_type": "code",
   "execution_count": 13,
   "id": "16e61148",
   "metadata": {
    "hidden": true
   },
   "outputs": [],
   "source": [
    "#Split dataset into training, validation and testing datasets.\n",
    "X_train, X_test, y_train, y_test = train_test_split(X, \n",
    "                                                    y, \n",
    "                                                    train_size= 0.7,\n",
    "                                                    stratify=y,\n",
    "                                                   random_state=42)\n",
    "\n",
    "X_val, X_test, y_val, y_test = train_test_split(X_test,\n",
    "                                               y_test,\n",
    "                                               train_size= 1/3,\n",
    "                                               stratify=y_test,\n",
    "                                               random_state=42)"
   ]
  },
  {
   "cell_type": "code",
   "execution_count": 14,
   "id": "eb916c59",
   "metadata": {
    "hidden": true,
    "scrolled": true
   },
   "outputs": [
    {
     "name": "stdout",
     "output_type": "stream",
     "text": [
      "(3500, 2500)\n",
      "(500, 2500)\n",
      "(1000, 2500)\n"
     ]
    }
   ],
   "source": [
    "print(X_train.shape)\n",
    "print(X_val.shape)\n",
    "print(X_test.shape)"
   ]
  },
  {
   "cell_type": "markdown",
   "id": "56cee938",
   "metadata": {
    "heading_collapsed": true
   },
   "source": [
    "# 3. MLP model"
   ]
  },
  {
   "cell_type": "markdown",
   "id": "0765d44f",
   "metadata": {
    "hidden": true
   },
   "source": [
    "After analysing the structure of the dataset, we found that this task **is not a binary classification task** - so that we can not choose **\"sigmoid\"** as the activation function. Instead, we choose **\"softmax\"** as the activation function."
   ]
  },
  {
   "cell_type": "markdown",
   "id": "5779eabb",
   "metadata": {
    "heading_collapsed": true,
    "hidden": true
   },
   "source": [
    "## 3.1 Basic model"
   ]
  },
  {
   "cell_type": "markdown",
   "id": "1cd2b644",
   "metadata": {
    "hidden": true
   },
   "source": [
    "For the first trial, we will use the following structure as the basic model of MLP:\n",
    "<li><font color='blue'>One dense layer with 8 units and the activation function is 'relu'</li>\n",
    "<li><font color='blue'>Another dense layer with 8 units and the activation function is 'relu'</li>\n",
    "<li><font color='blue'>Final desnse layer (Output) with 5 units(5 catogories for label) and the activation function is 'softmax'</li>"
   ]
  },
  {
   "cell_type": "markdown",
   "id": "efe8e2a3",
   "metadata": {
    "heading_collapsed": true,
    "hidden": true
   },
   "source": [
    "### 3.1.1 Model building"
   ]
  },
  {
   "cell_type": "code",
   "execution_count": 15,
   "id": "23ac12d6",
   "metadata": {
    "hidden": true
   },
   "outputs": [
    {
     "name": "stderr",
     "output_type": "stream",
     "text": [
      "2023-05-03 10:51:59.457693: I tensorflow/core/platform/cpu_feature_guard.cc:193] This TensorFlow binary is optimized with oneAPI Deep Neural Network Library (oneDNN) to use the following CPU instructions in performance-critical operations:  SSE4.1 SSE4.2\n",
      "To enable them in other operations, rebuild TensorFlow with the appropriate compiler flags.\n"
     ]
    }
   ],
   "source": [
    "tf.keras.backend.clear_session()\n",
    "\n",
    "model_mlp = tf.keras.Sequential()\n",
    "\n",
    "model_mlp.add(tf.keras.layers.Input(shape=(2500)))\n",
    "model_mlp.add(tf.keras.layers.Dense(units=8, activation='relu'))\n",
    "model_mlp.add(tf.keras.layers.Dense(units=8, activation='relu'))              \n",
    "model_mlp.add(tf.keras.layers.Dense(units=5, activation='softmax'))"
   ]
  },
  {
   "cell_type": "code",
   "execution_count": 16,
   "id": "f5661a1f",
   "metadata": {
    "hidden": true,
    "scrolled": false
   },
   "outputs": [
    {
     "name": "stdout",
     "output_type": "stream",
     "text": [
      "Model: \"sequential\"\n",
      "_________________________________________________________________\n",
      " Layer (type)                Output Shape              Param #   \n",
      "=================================================================\n",
      " dense (Dense)               (None, 8)                 20008     \n",
      "                                                                 \n",
      " dense_1 (Dense)             (None, 8)                 72        \n",
      "                                                                 \n",
      " dense_2 (Dense)             (None, 5)                 45        \n",
      "                                                                 \n",
      "=================================================================\n",
      "Total params: 20,125\n",
      "Trainable params: 20,125\n",
      "Non-trainable params: 0\n",
      "_________________________________________________________________\n"
     ]
    }
   ],
   "source": [
    "model_mlp.summary()"
   ]
  },
  {
   "cell_type": "code",
   "execution_count": 17,
   "id": "696fe0ee",
   "metadata": {
    "hidden": true,
    "scrolled": true
   },
   "outputs": [
    {
     "data": {
      "image/png": "[encoded data removed]",
      "text/plain": [
       "<IPython.core.display.Image object>"
      ]
     },
     "execution_count": 17,
     "metadata": {},
     "output_type": "execute_result"
    }
   ],
   "source": [
    "tf.keras.utils.plot_model(model_mlp)"
   ]
  },
  {
   "cell_type": "markdown",
   "id": "75a38282",
   "metadata": {
    "hidden": true
   },
   "source": [
    "### 3.1.2 Model compile and training"
   ]
  },
  {
   "cell_type": "code",
   "execution_count": 18,
   "id": "0361092e",
   "metadata": {
    "hidden": true
   },
   "outputs": [],
   "source": [
    "model_mlp.compile(loss=tf.keras.losses.SparseCategoricalCrossentropy(),\n",
    "             optimizer=tf.keras.optimizers.Adam(learning_rate=0.01),\n",
    "             metrics=['accuracy'])"
   ]
  },
  {
   "cell_type": "code",
   "execution_count": 19,
   "id": "93f2f7fc",
   "metadata": {
    "hidden": true,
    "scrolled": true
   },
   "outputs": [
    {
     "name": "stdout",
     "output_type": "stream",
     "text": [
      "Epoch 1/30\n",
      "219/219 [==============================] - 1s 2ms/step - loss: 0.5313 - accuracy: 0.7806 - val_loss: 0.3696 - val_accuracy: 0.8960\n",
      "Epoch 2/30\n",
      "219/219 [==============================] - 0s 1ms/step - loss: 0.1740 - accuracy: 0.9523 - val_loss: 0.1040 - val_accuracy: 0.9720\n",
      "Epoch 3/30\n",
      "219/219 [==============================] - 0s 1ms/step - loss: 0.1075 - accuracy: 0.9677 - val_loss: 0.0796 - val_accuracy: 0.9720\n",
      "Epoch 4/30\n",
      "219/219 [==============================] - 0s 1ms/step - loss: 0.1188 - accuracy: 0.9597 - val_loss: 0.0767 - val_accuracy: 0.9800\n",
      "Epoch 5/30\n",
      "219/219 [==============================] - 0s 1ms/step - loss: 0.0643 - accuracy: 0.9794 - val_loss: 0.0660 - val_accuracy: 0.9820\n",
      "Epoch 6/30\n",
      "219/219 [==============================] - 0s 1ms/step - loss: 0.0648 - accuracy: 0.9797 - val_loss: 0.0687 - val_accuracy: 0.9780\n",
      "Epoch 7/30\n",
      "219/219 [==============================] - 0s 1ms/step - loss: 0.0509 - accuracy: 0.9817 - val_loss: 0.0837 - val_accuracy: 0.9820\n",
      "Epoch 8/30\n",
      "219/219 [==============================] - 0s 1ms/step - loss: 0.0541 - accuracy: 0.9789 - val_loss: 0.0981 - val_accuracy: 0.9620\n",
      "Epoch 9/30\n",
      "219/219 [==============================] - 0s 1ms/step - loss: 0.0696 - accuracy: 0.9803 - val_loss: 0.1043 - val_accuracy: 0.9740\n",
      "Epoch 10/30\n",
      "219/219 [==============================] - 0s 1ms/step - loss: 0.0637 - accuracy: 0.9749 - val_loss: 0.0938 - val_accuracy: 0.9720\n",
      "Epoch 11/30\n",
      "219/219 [==============================] - 0s 1ms/step - loss: 0.0426 - accuracy: 0.9843 - val_loss: 0.1273 - val_accuracy: 0.9500\n",
      "Epoch 12/30\n",
      "219/219 [==============================] - 0s 1ms/step - loss: 0.0443 - accuracy: 0.9860 - val_loss: 0.0640 - val_accuracy: 0.9800\n",
      "Epoch 13/30\n",
      "219/219 [==============================] - 0s 1ms/step - loss: 0.0371 - accuracy: 0.9857 - val_loss: 0.0545 - val_accuracy: 0.9820\n",
      "Epoch 14/30\n",
      "219/219 [==============================] - 0s 1ms/step - loss: 0.0479 - accuracy: 0.9840 - val_loss: 0.0781 - val_accuracy: 0.9780\n",
      "Epoch 15/30\n",
      "219/219 [==============================] - 0s 1ms/step - loss: 0.0346 - accuracy: 0.9900 - val_loss: 0.0686 - val_accuracy: 0.9760\n",
      "Epoch 16/30\n",
      "219/219 [==============================] - 0s 1ms/step - loss: 0.0289 - accuracy: 0.9897 - val_loss: 0.0596 - val_accuracy: 0.9840\n",
      "Epoch 17/30\n",
      "219/219 [==============================] - 0s 1ms/step - loss: 0.0353 - accuracy: 0.9874 - val_loss: 0.0823 - val_accuracy: 0.9760\n",
      "Epoch 18/30\n",
      "219/219 [==============================] - 0s 1ms/step - loss: 0.0429 - accuracy: 0.9843 - val_loss: 0.0544 - val_accuracy: 0.9840\n",
      "Epoch 19/30\n",
      "219/219 [==============================] - 0s 1ms/step - loss: 0.0206 - accuracy: 0.9929 - val_loss: 0.0513 - val_accuracy: 0.9840\n",
      "Epoch 20/30\n",
      "219/219 [==============================] - 0s 1ms/step - loss: 0.0238 - accuracy: 0.9900 - val_loss: 0.0915 - val_accuracy: 0.9780\n",
      "Epoch 21/30\n",
      "219/219 [==============================] - 0s 1ms/step - loss: 0.0189 - accuracy: 0.9931 - val_loss: 0.0657 - val_accuracy: 0.9740\n",
      "Epoch 22/30\n",
      "219/219 [==============================] - 0s 1ms/step - loss: 0.2413 - accuracy: 0.9471 - val_loss: 0.1471 - val_accuracy: 0.9620\n",
      "Epoch 23/30\n",
      "219/219 [==============================] - 0s 1ms/step - loss: 0.0370 - accuracy: 0.9880 - val_loss: 0.0661 - val_accuracy: 0.9840\n",
      "Epoch 24/30\n",
      "219/219 [==============================] - 0s 1ms/step - loss: 0.0187 - accuracy: 0.9937 - val_loss: 0.0785 - val_accuracy: 0.9800\n",
      "Epoch 25/30\n",
      "219/219 [==============================] - 0s 1ms/step - loss: 0.0220 - accuracy: 0.9914 - val_loss: 0.0683 - val_accuracy: 0.9820\n",
      "Epoch 26/30\n",
      "219/219 [==============================] - 0s 1ms/step - loss: 0.0121 - accuracy: 0.9954 - val_loss: 0.0596 - val_accuracy: 0.9800\n",
      "Epoch 27/30\n",
      "219/219 [==============================] - 0s 1ms/step - loss: 0.0144 - accuracy: 0.9940 - val_loss: 0.1379 - val_accuracy: 0.9580\n",
      "Epoch 28/30\n",
      "219/219 [==============================] - 0s 1ms/step - loss: 0.0569 - accuracy: 0.9826 - val_loss: 0.0717 - val_accuracy: 0.9820\n",
      "Epoch 29/30\n",
      "219/219 [==============================] - 0s 1ms/step - loss: 0.0214 - accuracy: 0.9931 - val_loss: 0.1531 - val_accuracy: 0.9560\n",
      "Epoch 30/30\n",
      "219/219 [==============================] - 0s 1ms/step - loss: 0.0241 - accuracy: 0.9894 - val_loss: 0.1176 - val_accuracy: 0.9720\n"
     ]
    }
   ],
   "source": [
    "model_mlp_his = model_mlp.fit(X_train,\n",
    "                             y_train,\n",
    "                             epochs=30,\n",
    "                             batch_size=16,\n",
    "                             validation_data=(X_val, y_val)\n",
    "                             )"
   ]
  },
  {
   "cell_type": "code",
   "execution_count": 20,
   "id": "89caedf7",
   "metadata": {
    "hidden": true
   },
   "outputs": [
    {
     "data": {
      "text/plain": [
       "{'loss': [0.531326174736023,\n",
       "  0.17404769361019135,\n",
       "  0.10745901614427567,\n",
       "  0.11884418874979019,\n",
       "  0.06434890627861023,\n",
       "  0.06481479853391647,\n",
       "  0.05088840052485466,\n",
       "  0.0540841668844223,\n",
       "  0.06958280503749847,\n",
       "  0.06374240666627884,\n",
       "  0.04263005033135414,\n",
       "  0.04429585486650467,\n",
       "  0.03713033348321915,\n",
       "  0.047872547060251236,\n",
       "  0.034634727984666824,\n",
       "  0.028919510543346405,\n",
       "  0.0352649912238121,\n",
       "  0.0429016575217247,\n",
       "  0.02058945596218109,\n",
       "  0.02384890802204609,\n",
       "  0.018860239535570145,\n",
       "  0.24127255380153656,\n",
       "  0.036962006241083145,\n",
       "  0.018695803359150887,\n",
       "  0.02197641134262085,\n",
       "  0.01208133902400732,\n",
       "  0.01441136933863163,\n",
       "  0.05689617618918419,\n",
       "  0.02140195481479168,\n",
       "  0.02405567653477192],\n",
       " 'accuracy': [0.7805714011192322,\n",
       "  0.9522857069969177,\n",
       "  0.9677143096923828,\n",
       "  0.9597142934799194,\n",
       "  0.9794285893440247,\n",
       "  0.9797142744064331,\n",
       "  0.9817143082618713,\n",
       "  0.978857159614563,\n",
       "  0.9802857041358948,\n",
       "  0.9748571515083313,\n",
       "  0.9842857122421265,\n",
       "  0.9860000014305115,\n",
       "  0.9857142567634583,\n",
       "  0.984000027179718,\n",
       "  0.9900000095367432,\n",
       "  0.9897142648696899,\n",
       "  0.9874285459518433,\n",
       "  0.9842857122421265,\n",
       "  0.9928571581840515,\n",
       "  0.9900000095367432,\n",
       "  0.99314284324646,\n",
       "  0.9471428394317627,\n",
       "  0.9879999756813049,\n",
       "  0.9937142729759216,\n",
       "  0.991428554058075,\n",
       "  0.9954285621643066,\n",
       "  0.9940000176429749,\n",
       "  0.9825714230537415,\n",
       "  0.99314284324646,\n",
       "  0.9894285798072815],\n",
       " 'val_loss': [0.3695678412914276,\n",
       "  0.10402749478816986,\n",
       "  0.07955462485551834,\n",
       "  0.07666004449129105,\n",
       "  0.0660136267542839,\n",
       "  0.06870636343955994,\n",
       "  0.08367790281772614,\n",
       "  0.0980658084154129,\n",
       "  0.10431424528360367,\n",
       "  0.09384884685277939,\n",
       "  0.12726770341396332,\n",
       "  0.06398150324821472,\n",
       "  0.05447642505168915,\n",
       "  0.07813509553670883,\n",
       "  0.06862394511699677,\n",
       "  0.059622351080179214,\n",
       "  0.08232582360506058,\n",
       "  0.05440313369035721,\n",
       "  0.05131542310118675,\n",
       "  0.09151726961135864,\n",
       "  0.06572973728179932,\n",
       "  0.14705698192119598,\n",
       "  0.06607549637556076,\n",
       "  0.07854148745536804,\n",
       "  0.06825452297925949,\n",
       "  0.0596463643014431,\n",
       "  0.13790453970432281,\n",
       "  0.07165105640888214,\n",
       "  0.15313757956027985,\n",
       "  0.11755922436714172],\n",
       " 'val_accuracy': [0.8960000276565552,\n",
       "  0.972000002861023,\n",
       "  0.972000002861023,\n",
       "  0.9800000190734863,\n",
       "  0.9819999933242798,\n",
       "  0.9779999852180481,\n",
       "  0.9819999933242798,\n",
       "  0.9620000123977661,\n",
       "  0.9739999771118164,\n",
       "  0.972000002861023,\n",
       "  0.949999988079071,\n",
       "  0.9800000190734863,\n",
       "  0.9819999933242798,\n",
       "  0.9779999852180481,\n",
       "  0.9760000109672546,\n",
       "  0.984000027179718,\n",
       "  0.9760000109672546,\n",
       "  0.984000027179718,\n",
       "  0.984000027179718,\n",
       "  0.9779999852180481,\n",
       "  0.9739999771118164,\n",
       "  0.9620000123977661,\n",
       "  0.984000027179718,\n",
       "  0.9800000190734863,\n",
       "  0.9819999933242798,\n",
       "  0.9800000190734863,\n",
       "  0.9580000042915344,\n",
       "  0.9819999933242798,\n",
       "  0.9559999704360962,\n",
       "  0.972000002861023]}"
      ]
     },
     "execution_count": 20,
     "metadata": {},
     "output_type": "execute_result"
    }
   ],
   "source": [
    "model_mlp_his.history"
   ]
  },
  {
   "cell_type": "code",
   "execution_count": 21,
   "id": "f5d9653f",
   "metadata": {
    "hidden": true,
    "scrolled": true
   },
   "outputs": [
    {
     "data": {
      "image/png": "[encoded data removed]",
      "text/plain": [
       "<Figure size 1080x576 with 2 Axes>"
      ]
     },
     "metadata": {
      "needs_background": "light"
     },
     "output_type": "display_data"
    }
   ],
   "source": [
    "fig, ax = plt.subplots(1,2,figsize=(15,8))\n",
    "\n",
    "ax[0].plot(model_mlp_his.history['loss'], label='Loss')\n",
    "ax[0].plot(model_mlp_his.history['val_loss'], label='Validation Loss')\n",
    "ax[0].set_xlabel('Epoch', fontsize=15)\n",
    "ax[0].set_ylabel('Loss', fontsize=15)\n",
    "ax[0].set_title('Loss', fontsize=15)\n",
    "ax[0].legend(loc='best', fontsize=15)\n",
    "\n",
    "ax[1].plot(model_mlp_his.history['accuracy'], label='Accuracy')\n",
    "ax[1].plot(model_mlp_his.history['val_accuracy'], label='Validation Accuracy')\n",
    "ax[1].set_xlabel('Epoch', fontsize=15)\n",
    "ax[1].set_ylabel('Accuracy', fontsize=15)\n",
    "ax[1].set_title('Accuracy', fontsize=15)\n",
    "ax[1].legend(loc='best', fontsize=15)\n",
    "\n",
    "plt.show()"
   ]
  },
  {
   "cell_type": "markdown",
   "id": "11fb9fe1",
   "metadata": {
    "hidden": true
   },
   "source": [
    "As we can see from the learning curve, this model fits well on the training set, but not very stable for validation set - so we need to adjust the structure and compling method."
   ]
  },
  {
   "cell_type": "markdown",
   "id": "854331c3",
   "metadata": {
    "hidden": true
   },
   "source": [
    "### 3.1.3 Model evaluation and prediction"
   ]
  },
  {
   "cell_type": "code",
   "execution_count": 22,
   "id": "e818d8ab",
   "metadata": {
    "hidden": true
   },
   "outputs": [
    {
     "name": "stdout",
     "output_type": "stream",
     "text": [
      "32/32 [==============================] - 0s 963us/step - loss: 0.1565 - accuracy: 0.9660\n"
     ]
    },
    {
     "data": {
      "text/plain": [
       "[0.15645748376846313, 0.9660000205039978]"
      ]
     },
     "execution_count": 22,
     "metadata": {},
     "output_type": "execute_result"
    }
   ],
   "source": [
    "model_mlp.evaluate(X_test, y_test)"
   ]
  },
  {
   "cell_type": "code",
   "execution_count": 23,
   "id": "0fef7d7b",
   "metadata": {
    "hidden": true,
    "scrolled": true
   },
   "outputs": [
    {
     "name": "stdout",
     "output_type": "stream",
     "text": [
      "32/32 [==============================] - 0s 779us/step\n"
     ]
    }
   ],
   "source": [
    "y_mlp_pred = model_mlp.predict(X_test)\n",
    "y_mlp_pred = np.argmax(y_mlp_pred, axis=1)"
   ]
  },
  {
   "cell_type": "code",
   "execution_count": 24,
   "id": "6c86ca25",
   "metadata": {
    "hidden": true,
    "scrolled": true
   },
   "outputs": [
    {
     "name": "stdout",
     "output_type": "stream",
     "text": [
      "              precision    recall  f1-score   support\n",
      "\n",
      "     Basmati       0.99      0.99      0.99       200\n",
      "     Arborio       0.90      0.94      0.92       200\n",
      "   Karacadag       0.99      0.91      0.95       200\n",
      "     Jasmine       0.96      1.00      0.98       200\n",
      "      Ipsala       0.99      0.99      0.99       200\n",
      "\n",
      "    accuracy                           0.97      1000\n",
      "   macro avg       0.97      0.97      0.97      1000\n",
      "weighted avg       0.97      0.97      0.97      1000\n",
      "\n"
     ]
    }
   ],
   "source": [
    "report_mlp = classification_report(y_test, y_mlp_pred, target_names=type_name)\n",
    "print(report_mlp)"
   ]
  },
  {
   "cell_type": "code",
   "execution_count": 25,
   "id": "175b10ca",
   "metadata": {
    "hidden": true
   },
   "outputs": [
    {
     "data": {
      "image/png": "[encoded data removed]",
      "text/plain": [
       "<Figure size 720x720 with 2 Axes>"
      ]
     },
     "metadata": {
      "needs_background": "light"
     },
     "output_type": "display_data"
    }
   ],
   "source": [
    "#Confusion matrix\n",
    "\n",
    "cm = confusion_matrix(y_true=y_test, y_pred=y_mlp_pred)\n",
    "\n",
    "fig, ax = plt.subplots(figsize=(10,10))\n",
    "ConfusionMatrixDisplay.from_predictions(y_test, y_mlp_pred, \n",
    "                                        ax=ax,\n",
    "                                        display_labels=type_name,\n",
    "                                        xticks_rotation='vertical')\n",
    "plt.show()"
   ]
  },
  {
   "cell_type": "markdown",
   "id": "fe96e2af",
   "metadata": {
    "hidden": true
   },
   "source": [
    "In the next part, we will improve the model by adding more layers and control the number of units in each hidden layer."
   ]
  },
  {
   "cell_type": "markdown",
   "id": "c6bcad37",
   "metadata": {
    "heading_collapsed": true,
    "hidden": true
   },
   "source": [
    "## 3.2 Improved model"
   ]
  },
  {
   "cell_type": "markdown",
   "id": "fe8ece1a",
   "metadata": {
    "hidden": true
   },
   "source": [
    "For improved model, we made the structure more complicated - both with more(or more proper number of) layers and with more units for each layer:\n",
    "<li><font color='blue'>One dense layer with 64 units and the activation function is 'relu'</li>\n",
    "<li><font color='blue'>Second dense layer with 32 units and the activation function is 'relu'</li>\n",
    "<li><font color='blue'>Third dense layer with 16 units and the activation function is 'relu'</li>\n",
    "<li><font color='blue'>Final desnse layer (Output) with 5 units(5 catogories for label) and the activation function is 'softmax'</li>"
   ]
  },
  {
   "cell_type": "markdown",
   "id": "e520c157",
   "metadata": {
    "heading_collapsed": true,
    "hidden": true
   },
   "source": [
    "### 3.2.1 Model  building"
   ]
  },
  {
   "cell_type": "code",
   "execution_count": 26,
   "id": "2956cfa3",
   "metadata": {
    "hidden": true
   },
   "outputs": [],
   "source": [
    "tf.keras.backend.clear_session()\n",
    "\n",
    "model_mlp1 = tf.keras.Sequential()\n",
    "\n",
    "model_mlp1.add(tf.keras.layers.Input(shape=(2500)))\n",
    "\n",
    "model_mlp1.add(tf.keras.layers.Dense(units=64, activation='relu'))\n",
    "model_mlp1.add(tf.keras.layers.Dense(units=32, activation='relu'))\n",
    "model_mlp1.add(tf.keras.layers.Dense(units=16, activation='relu'))\n",
    "model_mlp1.add(tf.keras.layers.Dense(units=5, activation='softmax'))"
   ]
  },
  {
   "cell_type": "code",
   "execution_count": 27,
   "id": "4f45d7d6",
   "metadata": {
    "hidden": true,
    "scrolled": true
   },
   "outputs": [
    {
     "name": "stdout",
     "output_type": "stream",
     "text": [
      "Model: \"sequential\"\n",
      "_________________________________________________________________\n",
      " Layer (type)                Output Shape              Param #   \n",
      "=================================================================\n",
      " dense (Dense)               (None, 64)                160064    \n",
      "                                                                 \n",
      " dense_1 (Dense)             (None, 32)                2080      \n",
      "                                                                 \n",
      " dense_2 (Dense)             (None, 16)                528       \n",
      "                                                                 \n",
      " dense_3 (Dense)             (None, 5)                 85        \n",
      "                                                                 \n",
      "=================================================================\n",
      "Total params: 162,757\n",
      "Trainable params: 162,757\n",
      "Non-trainable params: 0\n",
      "_________________________________________________________________\n"
     ]
    }
   ],
   "source": [
    "model_mlp1.summary()"
   ]
  },
  {
   "cell_type": "code",
   "execution_count": 28,
   "id": "4512f03f",
   "metadata": {
    "hidden": true
   },
   "outputs": [
    {
     "data": {
      "image/png": "[encoded data removed]",
      "text/plain": [
       "<IPython.core.display.Image object>"
      ]
     },
     "execution_count": 28,
     "metadata": {},
     "output_type": "execute_result"
    }
   ],
   "source": [
    "tf.keras.utils.plot_model(model_mlp1)"
   ]
  },
  {
   "cell_type": "markdown",
   "id": "e62e0620",
   "metadata": {
    "heading_collapsed": true,
    "hidden": true
   },
   "source": [
    "### 3.2.2 Model compile and training"
   ]
  },
  {
   "cell_type": "code",
   "execution_count": 29,
   "id": "76be696c",
   "metadata": {
    "hidden": true
   },
   "outputs": [],
   "source": [
    "model_mlp1.compile(loss=tf.keras.losses.SparseCategoricalCrossentropy(),\n",
    "             optimizer=tf.keras.optimizers.SGD(learning_rate=0.001, momentum=0.9, decay=0, nesterov=False),\n",
    "             metrics=['accuracy'])"
   ]
  },
  {
   "cell_type": "code",
   "execution_count": 30,
   "id": "6736739d",
   "metadata": {
    "hidden": true,
    "scrolled": true
   },
   "outputs": [
    {
     "name": "stdout",
     "output_type": "stream",
     "text": [
      "Epoch 1/20\n",
      "110/110 [==============================] - 1s 3ms/step - loss: 1.5078 - accuracy: 0.2980 - val_loss: 1.3891 - val_accuracy: 0.5120\n",
      "Epoch 2/20\n",
      "110/110 [==============================] - 0s 2ms/step - loss: 1.2245 - accuracy: 0.5560 - val_loss: 1.0468 - val_accuracy: 0.5660\n",
      "Epoch 3/20\n",
      "110/110 [==============================] - 0s 2ms/step - loss: 0.8678 - accuracy: 0.7240 - val_loss: 0.6765 - val_accuracy: 0.8860\n",
      "Epoch 4/20\n",
      "110/110 [==============================] - 0s 2ms/step - loss: 0.4905 - accuracy: 0.9457 - val_loss: 0.3450 - val_accuracy: 0.9620\n",
      "Epoch 5/20\n",
      "110/110 [==============================] - 0s 2ms/step - loss: 0.2651 - accuracy: 0.9651 - val_loss: 0.2066 - val_accuracy: 0.9740\n",
      "Epoch 6/20\n",
      "110/110 [==============================] - 0s 2ms/step - loss: 0.1717 - accuracy: 0.9737 - val_loss: 0.1478 - val_accuracy: 0.9760\n",
      "Epoch 7/20\n",
      "110/110 [==============================] - 0s 2ms/step - loss: 0.1267 - accuracy: 0.9806 - val_loss: 0.1116 - val_accuracy: 0.9800\n",
      "Epoch 8/20\n",
      "110/110 [==============================] - 0s 2ms/step - loss: 0.1000 - accuracy: 0.9809 - val_loss: 0.0932 - val_accuracy: 0.9740\n",
      "Epoch 9/20\n",
      "110/110 [==============================] - 0s 2ms/step - loss: 0.0842 - accuracy: 0.9806 - val_loss: 0.0804 - val_accuracy: 0.9800\n",
      "Epoch 10/20\n",
      "110/110 [==============================] - 0s 2ms/step - loss: 0.0732 - accuracy: 0.9817 - val_loss: 0.0788 - val_accuracy: 0.9780\n",
      "Epoch 11/20\n",
      "110/110 [==============================] - 0s 2ms/step - loss: 0.0649 - accuracy: 0.9843 - val_loss: 0.0685 - val_accuracy: 0.9820\n",
      "Epoch 12/20\n",
      "110/110 [==============================] - 0s 2ms/step - loss: 0.0593 - accuracy: 0.9837 - val_loss: 0.0617 - val_accuracy: 0.9800\n",
      "Epoch 13/20\n",
      "110/110 [==============================] - 0s 2ms/step - loss: 0.0550 - accuracy: 0.9849 - val_loss: 0.0617 - val_accuracy: 0.9820\n",
      "Epoch 14/20\n",
      "110/110 [==============================] - 0s 2ms/step - loss: 0.0508 - accuracy: 0.9869 - val_loss: 0.0586 - val_accuracy: 0.9800\n",
      "Epoch 15/20\n",
      "110/110 [==============================] - 0s 2ms/step - loss: 0.0471 - accuracy: 0.9880 - val_loss: 0.0629 - val_accuracy: 0.9780\n",
      "Epoch 16/20\n",
      "110/110 [==============================] - 0s 2ms/step - loss: 0.0458 - accuracy: 0.9874 - val_loss: 0.0818 - val_accuracy: 0.9720\n",
      "Epoch 17/20\n",
      "110/110 [==============================] - 0s 2ms/step - loss: 0.0448 - accuracy: 0.9874 - val_loss: 0.0489 - val_accuracy: 0.9880\n",
      "Epoch 18/20\n",
      "110/110 [==============================] - 0s 2ms/step - loss: 0.0431 - accuracy: 0.9869 - val_loss: 0.0494 - val_accuracy: 0.9840\n",
      "Epoch 19/20\n",
      "110/110 [==============================] - 0s 2ms/step - loss: 0.0390 - accuracy: 0.9877 - val_loss: 0.0520 - val_accuracy: 0.9820\n",
      "Epoch 20/20\n",
      "110/110 [==============================] - 0s 2ms/step - loss: 0.0368 - accuracy: 0.9903 - val_loss: 0.0524 - val_accuracy: 0.9840\n"
     ]
    }
   ],
   "source": [
    "model_mlp_his1 = model_mlp1.fit(X_train, \n",
    "               y_train,\n",
    "              epochs=20,\n",
    "              batch_size=32,\n",
    "              validation_data=(X_val, y_val))"
   ]
  },
  {
   "cell_type": "code",
   "execution_count": 31,
   "id": "bc48f643",
   "metadata": {
    "hidden": true,
    "scrolled": false
   },
   "outputs": [
    {
     "data": {
      "text/plain": [
       "<matplotlib.legend.Legend at 0x7fc5781b3ac0>"
      ]
     },
     "execution_count": 31,
     "metadata": {},
     "output_type": "execute_result"
    },
    {
     "data": {
      "image/png": "[encoded data removed]",
      "text/plain": [
       "<Figure size 1080x576 with 2 Axes>"
      ]
     },
     "metadata": {
      "needs_background": "light"
     },
     "output_type": "display_data"
    }
   ],
   "source": [
    "fig, ax = plt.subplots(1,2,figsize=(15, 8))\n",
    "\n",
    "ax[0].plot(model_mlp_his1.history['loss'], label='Loss')\n",
    "ax[0].plot(model_mlp_his1.history['val_loss'], label='Validation Loss')\n",
    "plt.xlabel('Epoch')\n",
    "plt.ylabel('Loss')\n",
    "ax[0].set_title('Loss', fontsize=15)\n",
    "\n",
    "ax[1].plot(model_mlp_his1.history['accuracy'], label='Accuracy')\n",
    "ax[1].plot(model_mlp_his1.history['val_accuracy'], label='Validation Accuracy')\n",
    "ax[1].set_title('Accuracy', fontsize=15)\n",
    "\n",
    "plt.legend(loc='best', fontsize=15)"
   ]
  },
  {
   "cell_type": "markdown",
   "id": "7912822e",
   "metadata": {
    "hidden": true
   },
   "source": [
    "We can see that both the loss and accuracy learning curve perfomed pretty well: **this model fit perfect both on training and validation datasets.** and it does not reveal any of overfitting or underfitting."
   ]
  },
  {
   "cell_type": "markdown",
   "id": "a9089c26",
   "metadata": {
    "hidden": true
   },
   "source": [
    "### 3.2.3 Model evaluation and prediction"
   ]
  },
  {
   "cell_type": "code",
   "execution_count": 32,
   "id": "1a239b4f",
   "metadata": {
    "hidden": true,
    "scrolled": true
   },
   "outputs": [
    {
     "name": "stdout",
     "output_type": "stream",
     "text": [
      "32/32 [==============================] - 0s 1ms/step - loss: 0.0593 - accuracy: 0.9840\n"
     ]
    },
    {
     "data": {
      "text/plain": [
       "[0.05928495526313782, 0.984000027179718]"
      ]
     },
     "execution_count": 32,
     "metadata": {},
     "output_type": "execute_result"
    }
   ],
   "source": [
    "# Evalute model on test dataset\n",
    "model_mlp1.evaluate(X_test, y_test)"
   ]
  },
  {
   "cell_type": "code",
   "execution_count": 33,
   "id": "40cc2cb3",
   "metadata": {
    "hidden": true
   },
   "outputs": [
    {
     "name": "stdout",
     "output_type": "stream",
     "text": [
      "32/32 [==============================] - 0s 898us/step\n"
     ]
    }
   ],
   "source": [
    "y_mlp_pred1 = model_mlp1.predict(X_test)\n",
    "predictied_label1 = np.argmax(y_mlp_pred1, axis=1)"
   ]
  },
  {
   "cell_type": "code",
   "execution_count": 34,
   "id": "11264034",
   "metadata": {
    "hidden": true,
    "scrolled": true
   },
   "outputs": [
    {
     "name": "stdout",
     "output_type": "stream",
     "text": [
      "              precision    recall  f1-score   support\n",
      "\n",
      "     Basmati       0.99      1.00      1.00       200\n",
      "     Arborio       0.96      0.97      0.97       200\n",
      "   Karacadag       0.98      0.95      0.97       200\n",
      "     Jasmine       0.99      0.99      0.99       200\n",
      "      Ipsala       1.00      0.99      1.00       200\n",
      "\n",
      "    accuracy                           0.98      1000\n",
      "   macro avg       0.98      0.98      0.98      1000\n",
      "weighted avg       0.98      0.98      0.98      1000\n",
      "\n"
     ]
    }
   ],
   "source": [
    "report1 = classification_report(y_test, predictied_label1, target_names=type_name)\n",
    "print(report1)"
   ]
  },
  {
   "cell_type": "code",
   "execution_count": 36,
   "id": "6a11d5fb",
   "metadata": {
    "hidden": true
   },
   "outputs": [
    {
     "data": {
      "image/png": "[encoded data removed]",
      "text/plain": [
       "<Figure size 720x720 with 2 Axes>"
      ]
     },
     "metadata": {
      "needs_background": "light"
     },
     "output_type": "display_data"
    }
   ],
   "source": [
    "#Confusion matrix\n",
    "cm = confusion_matrix(y_true=y_test, y_pred=predictied_label1)\n",
    "\n",
    "fig, ax = plt.subplots(figsize=(10,10))\n",
    "ConfusionMatrixDisplay.from_predictions(y_test, predictied_label1, \n",
    "                                        ax=ax,\n",
    "                                        display_labels=type_name,\n",
    "                                        xticks_rotation='vertical')\n",
    "plt.show()"
   ]
  },
  {
   "cell_type": "markdown",
   "id": "35b6c4b6",
   "metadata": {
    "hidden": true
   },
   "source": [
    "We can find that this model performs better than the basic model. <br/>\n",
    "For test dataset, basic model has an accuracy of **96.60%** while the improved model has an accuracy of **98.10%**"
   ]
  },
  {
   "cell_type": "markdown",
   "id": "3460f3dc",
   "metadata": {
    "heading_collapsed": true
   },
   "source": [
    "# 4. CNN model"
   ]
  },
  {
   "cell_type": "markdown",
   "id": "9a42f89c",
   "metadata": {
    "hidden": true
   },
   "source": [
    "Now we do some trials with different CNN structures to test and enhance its performance on the dataset."
   ]
  },
  {
   "cell_type": "markdown",
   "id": "c2a5f788",
   "metadata": {
    "heading_collapsed": true,
    "hidden": true
   },
   "source": [
    "## 4.1 Basic model"
   ]
  },
  {
   "cell_type": "markdown",
   "id": "40b3032d",
   "metadata": {
    "hidden": true
   },
   "source": [
    "### 4.1.1 Dataset shapping"
   ]
  },
  {
   "cell_type": "markdown",
   "id": "17d5c322",
   "metadata": {
    "hidden": true
   },
   "source": [
    "In the CNN model, we have to make the dataset (pixels on images) from **1D (2500,)** to **2D (50, 50)**, so we need to do a reshape to the features first."
   ]
  },
  {
   "cell_type": "code",
   "execution_count": 37,
   "id": "5ede1f44",
   "metadata": {
    "hidden": true
   },
   "outputs": [],
   "source": [
    "X_train_CNN = X_train.to_numpy().reshape(-1, 50, 50, 1)\n",
    "X_val_CNN = X_val.to_numpy().reshape(-1, 50, 50, 1)\n",
    "X_test_CNN = X_test.to_numpy().reshape(-1, 50, 50, 1)"
   ]
  },
  {
   "cell_type": "code",
   "execution_count": 38,
   "id": "9e3aa732",
   "metadata": {
    "hidden": true
   },
   "outputs": [
    {
     "data": {
      "text/plain": [
       "(3500, 50, 50, 1)"
      ]
     },
     "execution_count": 38,
     "metadata": {},
     "output_type": "execute_result"
    }
   ],
   "source": [
    "X_train_CNN.shape"
   ]
  },
  {
   "cell_type": "markdown",
   "id": "b98a5de9",
   "metadata": {
    "heading_collapsed": true,
    "hidden": true
   },
   "source": [
    "### 4.1.2 Model building"
   ]
  },
  {
   "cell_type": "markdown",
   "id": "680ab227",
   "metadata": {
    "hidden": true
   },
   "source": [
    "*   **<font color='blue'>One convolutional layer with 32 filters, a kernel size of 3x3 and a relu activation function**\n",
    "*   **<font color='blue'>Followed by one max pooling layer with a pool size of 2x2**\n",
    "*   **<font color='blue'>Followed by one flattening layer**\n",
    "*   **<font color='blue'>Followed by one dense layer with 32 neurons and a relu activation function**\n",
    "*   **<font color='blue'>Followed by a final dense layer for a classification task.**"
   ]
  },
  {
   "cell_type": "code",
   "execution_count": 39,
   "id": "a9660c89",
   "metadata": {
    "hidden": true
   },
   "outputs": [],
   "source": [
    "tf.keras.backend.clear_session()\n",
    "\n",
    "input_layer = tf.keras.Input(shape=(50, 50, 1))\n",
    "\n",
    "conv = tf.keras.layers.Conv2D(filters=32,\n",
    "                              kernel_size=(3, 3),\n",
    "                              activation='relu')(input_layer)\n",
    "\n",
    "maxpool = tf.keras.layers.MaxPool2D(2)(conv)\n",
    "\n",
    "flat = tf.keras.layers.Flatten()(maxpool)\n",
    "\n",
    "dense1 = tf.keras.layers.Dense(units=32,\n",
    "                             activation='relu')(flat)\n",
    "\n",
    "output = tf.keras.layers.Dense(units=5,\n",
    "                              activation='softmax')(dense1)"
   ]
  },
  {
   "cell_type": "code",
   "execution_count": 40,
   "id": "c55b1248",
   "metadata": {
    "hidden": true
   },
   "outputs": [],
   "source": [
    "model = tf.keras.Model(inputs=input_layer, outputs=output)"
   ]
  },
  {
   "cell_type": "code",
   "execution_count": 41,
   "id": "1ac1c98d",
   "metadata": {
    "hidden": true,
    "scrolled": true
   },
   "outputs": [
    {
     "name": "stdout",
     "output_type": "stream",
     "text": [
      "Model: \"model\"\n",
      "_________________________________________________________________\n",
      " Layer (type)                Output Shape              Param #   \n",
      "=================================================================\n",
      " input_1 (InputLayer)        [(None, 50, 50, 1)]       0         \n",
      "                                                                 \n",
      " conv2d (Conv2D)             (None, 48, 48, 32)        320       \n",
      "                                                                 \n",
      " max_pooling2d (MaxPooling2D  (None, 24, 24, 32)       0         \n",
      " )                                                               \n",
      "                                                                 \n",
      " flatten (Flatten)           (None, 18432)             0         \n",
      "                                                                 \n",
      " dense (Dense)               (None, 32)                589856    \n",
      "                                                                 \n",
      " dense_1 (Dense)             (None, 5)                 165       \n",
      "                                                                 \n",
      "=================================================================\n",
      "Total params: 590,341\n",
      "Trainable params: 590,341\n",
      "Non-trainable params: 0\n",
      "_________________________________________________________________\n"
     ]
    }
   ],
   "source": [
    "model.summary()"
   ]
  },
  {
   "cell_type": "code",
   "execution_count": 42,
   "id": "1580f566",
   "metadata": {
    "hidden": true,
    "scrolled": true
   },
   "outputs": [
    {
     "data": {
      "image/png": "[encoded data removed]",
      "text/plain": [
       "<IPython.core.display.Image object>"
      ]
     },
     "execution_count": 42,
     "metadata": {},
     "output_type": "execute_result"
    }
   ],
   "source": [
    "tf.keras.utils.plot_model(model)"
   ]
  },
  {
   "cell_type": "markdown",
   "id": "cd42a99a",
   "metadata": {
    "heading_collapsed": true,
    "hidden": true
   },
   "source": [
    "### 4.1.3 Model compile and training"
   ]
  },
  {
   "cell_type": "code",
   "execution_count": 43,
   "id": "6613f4a3",
   "metadata": {
    "hidden": true
   },
   "outputs": [],
   "source": [
    "model.compile(loss=tf.keras.losses.SparseCategoricalCrossentropy(),\n",
    "             optimizer=tf.keras.optimizers.Adam(learning_rate=0.001),\n",
    "             metrics=['accuracy'])"
   ]
  },
  {
   "cell_type": "code",
   "execution_count": 44,
   "id": "743b6351",
   "metadata": {
    "hidden": true
   },
   "outputs": [
    {
     "name": "stdout",
     "output_type": "stream",
     "text": [
      "Epoch 1/20\n",
      "55/55 [==============================] - 2s 33ms/step - loss: 0.4695 - accuracy: 0.8454 - val_loss: 0.1162 - val_accuracy: 0.9740\n",
      "Epoch 2/20\n",
      "55/55 [==============================] - 2s 36ms/step - loss: 0.0923 - accuracy: 0.9723 - val_loss: 0.0955 - val_accuracy: 0.9580\n",
      "Epoch 3/20\n",
      "55/55 [==============================] - 2s 33ms/step - loss: 0.0644 - accuracy: 0.9766 - val_loss: 0.0590 - val_accuracy: 0.9760\n",
      "Epoch 4/20\n",
      "55/55 [==============================] - 2s 31ms/step - loss: 0.0531 - accuracy: 0.9794 - val_loss: 0.0692 - val_accuracy: 0.9780\n",
      "Epoch 5/20\n",
      "55/55 [==============================] - 2s 33ms/step - loss: 0.0410 - accuracy: 0.9849 - val_loss: 0.0655 - val_accuracy: 0.9800\n",
      "Epoch 6/20\n",
      "55/55 [==============================] - 2s 33ms/step - loss: 0.0431 - accuracy: 0.9843 - val_loss: 0.0718 - val_accuracy: 0.9820\n",
      "Epoch 7/20\n",
      "55/55 [==============================] - 2s 32ms/step - loss: 0.0331 - accuracy: 0.9886 - val_loss: 0.0654 - val_accuracy: 0.9760\n",
      "Epoch 8/20\n",
      "55/55 [==============================] - 2s 31ms/step - loss: 0.0309 - accuracy: 0.9889 - val_loss: 0.0629 - val_accuracy: 0.9780\n",
      "Epoch 9/20\n",
      "55/55 [==============================] - 2s 32ms/step - loss: 0.0291 - accuracy: 0.9897 - val_loss: 0.0880 - val_accuracy: 0.9720\n",
      "Epoch 10/20\n",
      "55/55 [==============================] - 2s 32ms/step - loss: 0.0328 - accuracy: 0.9877 - val_loss: 0.0722 - val_accuracy: 0.9800\n",
      "Epoch 11/20\n",
      "55/55 [==============================] - 2s 32ms/step - loss: 0.0337 - accuracy: 0.9877 - val_loss: 0.0563 - val_accuracy: 0.9900\n",
      "Epoch 12/20\n",
      "55/55 [==============================] - 2s 33ms/step - loss: 0.0267 - accuracy: 0.9897 - val_loss: 0.0562 - val_accuracy: 0.9840\n",
      "Epoch 13/20\n",
      "55/55 [==============================] - 2s 32ms/step - loss: 0.0244 - accuracy: 0.9900 - val_loss: 0.0562 - val_accuracy: 0.9820\n",
      "Epoch 14/20\n",
      "55/55 [==============================] - 2s 30ms/step - loss: 0.0266 - accuracy: 0.9909 - val_loss: 0.0526 - val_accuracy: 0.9840\n",
      "Epoch 15/20\n",
      "55/55 [==============================] - 2s 34ms/step - loss: 0.0258 - accuracy: 0.9880 - val_loss: 0.0582 - val_accuracy: 0.9820\n",
      "Epoch 16/20\n",
      "55/55 [==============================] - 2s 31ms/step - loss: 0.0260 - accuracy: 0.9900 - val_loss: 0.0869 - val_accuracy: 0.9780\n",
      "Epoch 17/20\n",
      "55/55 [==============================] - 2s 31ms/step - loss: 0.0191 - accuracy: 0.9934 - val_loss: 0.0613 - val_accuracy: 0.9780\n",
      "Epoch 18/20\n",
      "55/55 [==============================] - 2s 32ms/step - loss: 0.0171 - accuracy: 0.9926 - val_loss: 0.0542 - val_accuracy: 0.9820\n",
      "Epoch 19/20\n",
      "55/55 [==============================] - 2s 32ms/step - loss: 0.0162 - accuracy: 0.9946 - val_loss: 0.0600 - val_accuracy: 0.9800\n",
      "Epoch 20/20\n",
      "55/55 [==============================] - 2s 33ms/step - loss: 0.0184 - accuracy: 0.9929 - val_loss: 0.0583 - val_accuracy: 0.9820\n"
     ]
    }
   ],
   "source": [
    "train_his = model.fit(X_train_CNN, \n",
    "                      y_train,\n",
    "                     epochs=20,\n",
    "                     batch_size=64,\n",
    "                     validation_data=(X_val_CNN, y_val))"
   ]
  },
  {
   "cell_type": "code",
   "execution_count": 45,
   "id": "d665bc27",
   "metadata": {
    "hidden": true,
    "scrolled": true
   },
   "outputs": [
    {
     "data": {
      "text/plain": [
       "{'loss': [0.4694899320602417,\n",
       "  0.09227055311203003,\n",
       "  0.06444202363491058,\n",
       "  0.05314454436302185,\n",
       "  0.041029080748558044,\n",
       "  0.04312605783343315,\n",
       "  0.033139102160930634,\n",
       "  0.03085036389529705,\n",
       "  0.029085149988532066,\n",
       "  0.03279973194003105,\n",
       "  0.03370015695691109,\n",
       "  0.026673823595046997,\n",
       "  0.02439502626657486,\n",
       "  0.026569416746497154,\n",
       "  0.0258034598082304,\n",
       "  0.026047436520457268,\n",
       "  0.019126979634165764,\n",
       "  0.017083531245589256,\n",
       "  0.01624397560954094,\n",
       "  0.01841672696173191],\n",
       " 'accuracy': [0.8454285860061646,\n",
       "  0.9722856879234314,\n",
       "  0.9765714406967163,\n",
       "  0.9794285893440247,\n",
       "  0.9848571419715881,\n",
       "  0.9842857122421265,\n",
       "  0.9885714054107666,\n",
       "  0.9888571500778198,\n",
       "  0.9897142648696899,\n",
       "  0.9877142906188965,\n",
       "  0.9877142906188965,\n",
       "  0.9897142648696899,\n",
       "  0.9900000095367432,\n",
       "  0.9908571243286133,\n",
       "  0.9879999756813049,\n",
       "  0.9900000095367432,\n",
       "  0.9934285879135132,\n",
       "  0.9925714135169983,\n",
       "  0.9945714473724365,\n",
       "  0.9928571581840515],\n",
       " 'val_loss': [0.11616767942905426,\n",
       "  0.09551586210727692,\n",
       "  0.058969054371118546,\n",
       "  0.06917516142129898,\n",
       "  0.06549644470214844,\n",
       "  0.07183852046728134,\n",
       "  0.065420001745224,\n",
       "  0.06290888786315918,\n",
       "  0.08804835379123688,\n",
       "  0.07217743247747421,\n",
       "  0.056275345385074615,\n",
       "  0.05617254599928856,\n",
       "  0.05620313435792923,\n",
       "  0.05255133658647537,\n",
       "  0.05818312615156174,\n",
       "  0.08686070144176483,\n",
       "  0.06128208339214325,\n",
       "  0.05417420342564583,\n",
       "  0.06003332510590553,\n",
       "  0.05834493041038513],\n",
       " 'val_accuracy': [0.9739999771118164,\n",
       "  0.9580000042915344,\n",
       "  0.9760000109672546,\n",
       "  0.9779999852180481,\n",
       "  0.9800000190734863,\n",
       "  0.9819999933242798,\n",
       "  0.9760000109672546,\n",
       "  0.9779999852180481,\n",
       "  0.972000002861023,\n",
       "  0.9800000190734863,\n",
       "  0.9900000095367432,\n",
       "  0.984000027179718,\n",
       "  0.9819999933242798,\n",
       "  0.984000027179718,\n",
       "  0.9819999933242798,\n",
       "  0.9779999852180481,\n",
       "  0.9779999852180481,\n",
       "  0.9819999933242798,\n",
       "  0.9800000190734863,\n",
       "  0.9819999933242798]}"
      ]
     },
     "execution_count": 45,
     "metadata": {},
     "output_type": "execute_result"
    }
   ],
   "source": [
    "train_his.history"
   ]
  },
  {
   "cell_type": "code",
   "execution_count": 46,
   "id": "8f2a05f9",
   "metadata": {
    "hidden": true,
    "scrolled": true
   },
   "outputs": [
    {
     "data": {
      "image/png": "[encoded data removed]",
      "text/plain": [
       "<Figure size 1080x576 with 2 Axes>"
      ]
     },
     "metadata": {
      "needs_background": "light"
     },
     "output_type": "display_data"
    }
   ],
   "source": [
    "# Learning curves display\n",
    "fig, ax = plt.subplots(1, 2, figsize=(15,8))\n",
    "\n",
    "ax[0].plot(train_his.history['loss'], label='loss')\n",
    "ax[0].plot(train_his.history['val_loss'], label='val loss')\n",
    "ax[0].set_title('Loss learning curve', fontsize=15)\n",
    "ax[0].set_xlabel('Epoch', fontsize=15)\n",
    "ax[0].set_ylabel('Loss', fontsize=15)\n",
    "ax[0].legend(loc='best', fontsize=15)\n",
    "\n",
    "ax[1].plot(train_his.history['accuracy'], label='accuracy')\n",
    "ax[1].plot(train_his.history['val_accuracy'], label='valaccuracy')\n",
    "ax[1].set_title('Accuracy learning curve', fontsize=15)\n",
    "ax[1].set_xlabel('Epoch', fontsize=15)\n",
    "ax[1].set_ylabel('Accuracy', fontsize=15)\n",
    "ax[1].legend(loc='best', fontsize=15)\n",
    "\n",
    "plt.show()"
   ]
  },
  {
   "cell_type": "markdown",
   "id": "735004e3",
   "metadata": {
    "hidden": true
   },
   "source": [
    "According to the model training history and learning curve, we can find that:\n",
    "<li>The model performed perfectly on both training and validation datasets;</li>\n",
    "<li>The model fits well on both datasets and it did not appear to overfitting or underfitting;</li>\n",
    "<li>The accuracy of training set keeps raising continiously while for validation dataset, it declined a little after 4 epoches and keeps fluctuating afterwards.</li>"
   ]
  },
  {
   "cell_type": "markdown",
   "id": "0db55386",
   "metadata": {
    "hidden": true
   },
   "source": [
    "### 4.1.4 Model evaluation and prediction"
   ]
  },
  {
   "cell_type": "code",
   "execution_count": 47,
   "id": "5e3dd072",
   "metadata": {
    "hidden": true,
    "scrolled": true
   },
   "outputs": [
    {
     "name": "stdout",
     "output_type": "stream",
     "text": [
      "32/32 [==============================] - 0s 5ms/step - loss: 0.0519 - accuracy: 0.9810\n"
     ]
    },
    {
     "data": {
      "text/plain": [
       "[0.05190542712807655, 0.9810000061988831]"
      ]
     },
     "execution_count": 47,
     "metadata": {},
     "output_type": "execute_result"
    }
   ],
   "source": [
    "# Evalute model on test dataset\n",
    "model.evaluate(X_test_CNN, y_test)"
   ]
  },
  {
   "cell_type": "code",
   "execution_count": 48,
   "id": "766def46",
   "metadata": {
    "hidden": true,
    "scrolled": true
   },
   "outputs": [
    {
     "name": "stdout",
     "output_type": "stream",
     "text": [
      "32/32 [==============================] - 0s 5ms/step\n"
     ]
    }
   ],
   "source": [
    "y_pred1 = model.predict(X_test_CNN)"
   ]
  },
  {
   "cell_type": "code",
   "execution_count": 49,
   "id": "839da39a",
   "metadata": {
    "hidden": true
   },
   "outputs": [],
   "source": [
    "predictied_label = np.argmax(y_pred1, axis=1)"
   ]
  },
  {
   "cell_type": "code",
   "execution_count": 50,
   "id": "e1868346",
   "metadata": {
    "hidden": true,
    "scrolled": false
   },
   "outputs": [
    {
     "name": "stdout",
     "output_type": "stream",
     "text": [
      "              precision    recall  f1-score   support\n",
      "\n",
      "     Basmati       0.98      1.00      0.99       200\n",
      "     Arborio       0.96      0.97      0.96       200\n",
      "   Karacadag       0.97      0.96      0.97       200\n",
      "     Jasmine       0.99      0.97      0.98       200\n",
      "      Ipsala       1.00      1.00      1.00       200\n",
      "\n",
      "    accuracy                           0.98      1000\n",
      "   macro avg       0.98      0.98      0.98      1000\n",
      "weighted avg       0.98      0.98      0.98      1000\n",
      "\n"
     ]
    }
   ],
   "source": [
    "report1 = classification_report(y_test, predictied_label, target_names=type_name)\n",
    "print(report1)"
   ]
  },
  {
   "cell_type": "code",
   "execution_count": 51,
   "id": "2ab67b44",
   "metadata": {
    "hidden": true
   },
   "outputs": [
    {
     "data": {
      "image/png": "[encoded data removed]",
      "text/plain": [
       "<Figure size 720x720 with 2 Axes>"
      ]
     },
     "metadata": {
      "needs_background": "light"
     },
     "output_type": "display_data"
    }
   ],
   "source": [
    "#Confusion matrix\n",
    "cm = confusion_matrix(y_true=y_test, y_pred=predictied_label)\n",
    "\n",
    "fig, ax = plt.subplots(figsize=(10,10))\n",
    "ConfusionMatrixDisplay.from_predictions(y_test, predictied_label, \n",
    "                                        ax=ax,\n",
    "                                        display_labels=type_name,\n",
    "                                        xticks_rotation='vertical')\n",
    "plt.show()"
   ]
  },
  {
   "cell_type": "markdown",
   "id": "7dbd580d",
   "metadata": {
    "hidden": true
   },
   "source": [
    "It shows that classification for **\"Arborio\"** and **\"Karacadag\"** these two kinds of rice has not very good performance. So we decide to complex the structure and try to change some parameters."
   ]
  },
  {
   "cell_type": "markdown",
   "id": "1ddfa5f8",
   "metadata": {
    "heading_collapsed": true,
    "hidden": true
   },
   "source": [
    "## 4.2 Improved model"
   ]
  },
  {
   "cell_type": "markdown",
   "id": "d77c89db",
   "metadata": {
    "hidden": true
   },
   "source": [
    "### 4.2.1 Model building"
   ]
  },
  {
   "cell_type": "markdown",
   "id": "89357e9a",
   "metadata": {
    "hidden": true
   },
   "source": [
    "*   **<font color='blue'>One convolutional layer with 32 filters, a kernel size of 3x3 and a relu activation function**\n",
    "*   **<font color='blue'>Followed by one max pooling layer with a pool size of 2x2 and strides of 2**\n",
    "*   **<font color='blue'>Followed by one flattening layer**\n",
    "*   **<font color='blue'>Followed by one dense layer with 45 neurons and a relu activation function**\n",
    "*   **<font color='blue'>Followed by one dense layer with 15 neurons and a relu activation function**\n",
    "*   **<font color='blue'>Followed by one dropout layer with the rate of 0.1 and seed of 100.**\n",
    "*   **<font color='blue'>Followed by a final dense layer for a classification task.**"
   ]
  },
  {
   "cell_type": "code",
   "execution_count": 52,
   "id": "86f85411",
   "metadata": {
    "hidden": true
   },
   "outputs": [],
   "source": [
    "tf.keras.backend.clear_session()\n",
    "conv2 = tf.keras.layers.Conv2D(filters=32,\n",
    "                              kernel_size=3,\n",
    "                              activation='relu', padding='valid')(input_layer)\n",
    "\n",
    "maxpool2 = tf.keras.layers.MaxPool2D(pool_size=2,\n",
    "                                    strides=2)(conv2)\n",
    "\n",
    "flatten2 = tf.keras.layers.Flatten()(maxpool2)\n",
    "\n",
    "dense1 = tf.keras.layers.Dense(units=30,\n",
    "                              activation='relu')(flatten2)\n",
    "\n",
    "dense2 = tf.keras.layers.Dense(units=15,\n",
    "                              activation='relu')(dense1)\n",
    "\n",
    "dropout = tf.keras.layers.Dropout(rate=0.1, seed=100)(dense2)\n",
    "\n",
    "\n",
    "output = tf.keras.layers.Dense(units=5,\n",
    "                              activation='softmax')(dropout)"
   ]
  },
  {
   "cell_type": "code",
   "execution_count": 53,
   "id": "23fb3ffd",
   "metadata": {
    "hidden": true
   },
   "outputs": [],
   "source": [
    "model2 = tf.keras.Model(inputs=input_layer, outputs=output)"
   ]
  },
  {
   "cell_type": "code",
   "execution_count": 54,
   "id": "8cc47bd3",
   "metadata": {
    "hidden": true,
    "scrolled": true
   },
   "outputs": [
    {
     "name": "stdout",
     "output_type": "stream",
     "text": [
      "Model: \"model\"\n",
      "_________________________________________________________________\n",
      " Layer (type)                Output Shape              Param #   \n",
      "=================================================================\n",
      " input_1 (InputLayer)        [(None, 50, 50, 1)]       0         \n",
      "                                                                 \n",
      " conv2d (Conv2D)             (None, 48, 48, 32)        320       \n",
      "                                                                 \n",
      " max_pooling2d (MaxPooling2D  (None, 24, 24, 32)       0         \n",
      " )                                                               \n",
      "                                                                 \n",
      " flatten (Flatten)           (None, 18432)             0         \n",
      "                                                                 \n",
      " dense (Dense)               (None, 30)                552990    \n",
      "                                                                 \n",
      " dense_1 (Dense)             (None, 15)                465       \n",
      "                                                                 \n",
      " dropout (Dropout)           (None, 15)                0         \n",
      "                                                                 \n",
      " dense_2 (Dense)             (None, 5)                 80        \n",
      "                                                                 \n",
      "=================================================================\n",
      "Total params: 553,855\n",
      "Trainable params: 553,855\n",
      "Non-trainable params: 0\n",
      "_________________________________________________________________\n"
     ]
    }
   ],
   "source": [
    "model2.summary()"
   ]
  },
  {
   "cell_type": "code",
   "execution_count": 55,
   "id": "f53ae703",
   "metadata": {
    "hidden": true,
    "scrolled": true
   },
   "outputs": [
    {
     "data": {
      "image/png": "[encoded data removed]",
      "text/plain": [
       "<IPython.core.display.Image object>"
      ]
     },
     "execution_count": 55,
     "metadata": {},
     "output_type": "execute_result"
    }
   ],
   "source": [
    "tf.keras.utils.plot_model(model2)"
   ]
  },
  {
   "cell_type": "markdown",
   "id": "7dbb3c5b",
   "metadata": {
    "hidden": true
   },
   "source": [
    "### 4.2.2 Model compile and training"
   ]
  },
  {
   "cell_type": "markdown",
   "id": "7a093f36",
   "metadata": {
    "hidden": true
   },
   "source": [
    "In this case, we use **EarlyStopping** in our model for stopping the running after 10 times."
   ]
  },
  {
   "cell_type": "code",
   "execution_count": 56,
   "id": "36979ad2",
   "metadata": {
    "hidden": true
   },
   "outputs": [],
   "source": [
    "model2.compile(loss=tf.keras.losses.SparseCategoricalCrossentropy(),\n",
    "             optimizer=tf.keras.optimizers.Adam(learning_rate=0.001),\n",
    "             metrics=['accuracy'])"
   ]
  },
  {
   "cell_type": "code",
   "execution_count": 57,
   "id": "5e10cda9",
   "metadata": {
    "hidden": true
   },
   "outputs": [
    {
     "name": "stdout",
     "output_type": "stream",
     "text": [
      "Epoch 1/20\n",
      "55/55 [==============================] - 2s 31ms/step - loss: 0.6536 - accuracy: 0.7649 - val_loss: 0.1393 - val_accuracy: 0.9640\n",
      "Epoch 2/20\n",
      "55/55 [==============================] - 2s 34ms/step - loss: 0.1786 - accuracy: 0.9411 - val_loss: 0.0759 - val_accuracy: 0.9780\n",
      "Epoch 3/20\n",
      "55/55 [==============================] - 2s 31ms/step - loss: 0.1407 - accuracy: 0.9511 - val_loss: 0.0673 - val_accuracy: 0.9840\n",
      "Epoch 4/20\n",
      "55/55 [==============================] - 2s 31ms/step - loss: 0.1066 - accuracy: 0.9649 - val_loss: 0.0552 - val_accuracy: 0.9860\n",
      "Epoch 5/20\n",
      "55/55 [==============================] - 2s 33ms/step - loss: 0.0973 - accuracy: 0.9677 - val_loss: 0.0544 - val_accuracy: 0.9840\n",
      "Epoch 6/20\n",
      "55/55 [==============================] - 2s 33ms/step - loss: 0.0816 - accuracy: 0.9706 - val_loss: 0.0578 - val_accuracy: 0.9860\n",
      "Epoch 7/20\n",
      "55/55 [==============================] - 2s 31ms/step - loss: 0.0697 - accuracy: 0.9749 - val_loss: 0.0506 - val_accuracy: 0.9880\n",
      "Epoch 8/20\n",
      "55/55 [==============================] - 2s 30ms/step - loss: 0.0629 - accuracy: 0.9791 - val_loss: 0.0649 - val_accuracy: 0.9780\n",
      "Epoch 9/20\n",
      "55/55 [==============================] - 2s 31ms/step - loss: 0.0703 - accuracy: 0.9777 - val_loss: 0.0606 - val_accuracy: 0.9800\n",
      "Epoch 10/20\n",
      "55/55 [==============================] - 2s 31ms/step - loss: 0.0579 - accuracy: 0.9794 - val_loss: 0.0635 - val_accuracy: 0.9800\n",
      "Epoch 11/20\n",
      "55/55 [==============================] - 2s 31ms/step - loss: 0.0613 - accuracy: 0.9780 - val_loss: 0.0711 - val_accuracy: 0.9820\n",
      "Epoch 12/20\n",
      "55/55 [==============================] - 2s 31ms/step - loss: 0.0487 - accuracy: 0.9831 - val_loss: 0.0959 - val_accuracy: 0.9660\n",
      "Epoch 13/20\n",
      "55/55 [==============================] - 2s 31ms/step - loss: 0.0541 - accuracy: 0.9800 - val_loss: 0.0674 - val_accuracy: 0.9800\n",
      "Epoch 14/20\n",
      "55/55 [==============================] - 2s 31ms/step - loss: 0.0473 - accuracy: 0.9854 - val_loss: 0.0640 - val_accuracy: 0.9820\n",
      "Epoch 15/20\n",
      "55/55 [==============================] - 2s 31ms/step - loss: 0.0433 - accuracy: 0.9837 - val_loss: 0.0564 - val_accuracy: 0.9840\n",
      "Epoch 16/20\n",
      "55/55 [==============================] - 2s 30ms/step - loss: 0.0379 - accuracy: 0.9851 - val_loss: 0.0570 - val_accuracy: 0.9800\n",
      "Epoch 17/20\n",
      "55/55 [==============================] - 2s 31ms/step - loss: 0.0346 - accuracy: 0.9883 - val_loss: 0.0693 - val_accuracy: 0.9800\n"
     ]
    }
   ],
   "source": [
    "model2_his = model2.fit(X_train_CNN,\n",
    "          y_train,\n",
    "          epochs=20,\n",
    "          shuffle=True,\n",
    "          validation_data=(X_val_CNN, y_val),\n",
    "          batch_size=64,\n",
    "          callbacks=tf.keras.callbacks.EarlyStopping(monitor='val_loss',\n",
    "                                                    patience=10))"
   ]
  },
  {
   "cell_type": "code",
   "execution_count": 58,
   "id": "9849c39c",
   "metadata": {
    "hidden": true,
    "scrolled": true
   },
   "outputs": [
    {
     "data": {
      "text/plain": [
       "{'loss': [0.6536340117454529,\n",
       "  0.17855806648731232,\n",
       "  0.14069350063800812,\n",
       "  0.10659532248973846,\n",
       "  0.09729563444852829,\n",
       "  0.0816425159573555,\n",
       "  0.0696781724691391,\n",
       "  0.06292495131492615,\n",
       "  0.07027484476566315,\n",
       "  0.05794975534081459,\n",
       "  0.06126263365149498,\n",
       "  0.04869876056909561,\n",
       "  0.054059114307165146,\n",
       "  0.04731622338294983,\n",
       "  0.04330090060830116,\n",
       "  0.03787454590201378,\n",
       "  0.03464195877313614],\n",
       " 'accuracy': [0.7648571133613586,\n",
       "  0.9411428570747375,\n",
       "  0.9511428475379944,\n",
       "  0.9648571610450745,\n",
       "  0.9677143096923828,\n",
       "  0.9705714583396912,\n",
       "  0.9748571515083313,\n",
       "  0.9791428446769714,\n",
       "  0.9777143001556396,\n",
       "  0.9794285893440247,\n",
       "  0.9779999852180481,\n",
       "  0.9831428527832031,\n",
       "  0.9800000190734863,\n",
       "  0.9854285717010498,\n",
       "  0.9837142825126648,\n",
       "  0.9851428866386414,\n",
       "  0.9882857203483582],\n",
       " 'val_loss': [0.13934320211410522,\n",
       "  0.07590342313051224,\n",
       "  0.06727763265371323,\n",
       "  0.05515025556087494,\n",
       "  0.054446570575237274,\n",
       "  0.057825371623039246,\n",
       "  0.05061284452676773,\n",
       "  0.06493556499481201,\n",
       "  0.06059207394719124,\n",
       "  0.06348942965269089,\n",
       "  0.07110399007797241,\n",
       "  0.09593211114406586,\n",
       "  0.06735483556985855,\n",
       "  0.06403458118438721,\n",
       "  0.0563846118748188,\n",
       "  0.05704394355416298,\n",
       "  0.06925439089536667],\n",
       " 'val_accuracy': [0.9639999866485596,\n",
       "  0.9779999852180481,\n",
       "  0.984000027179718,\n",
       "  0.9860000014305115,\n",
       "  0.984000027179718,\n",
       "  0.9860000014305115,\n",
       "  0.9879999756813049,\n",
       "  0.9779999852180481,\n",
       "  0.9800000190734863,\n",
       "  0.9800000190734863,\n",
       "  0.9819999933242798,\n",
       "  0.9660000205039978,\n",
       "  0.9800000190734863,\n",
       "  0.9819999933242798,\n",
       "  0.984000027179718,\n",
       "  0.9800000190734863,\n",
       "  0.9800000190734863]}"
      ]
     },
     "execution_count": 58,
     "metadata": {},
     "output_type": "execute_result"
    }
   ],
   "source": [
    "model2_his = model2_his.history\n",
    "model2_his"
   ]
  },
  {
   "cell_type": "code",
   "execution_count": 59,
   "id": "076971a1",
   "metadata": {
    "hidden": true,
    "scrolled": true
   },
   "outputs": [
    {
     "data": {
      "text/plain": [
       "<matplotlib.legend.Legend at 0x7fc5c86b2f70>"
      ]
     },
     "execution_count": 59,
     "metadata": {},
     "output_type": "execute_result"
    },
    {
     "data": {
      "image/png": "[encoded data removed]",
      "text/plain": [
       "<Figure size 1080x576 with 2 Axes>"
      ]
     },
     "metadata": {
      "needs_background": "light"
     },
     "output_type": "display_data"
    }
   ],
   "source": [
    "fig, ax = plt.subplots(1,2,figsize=(15, 8))\n",
    "\n",
    "ax[0].plot(model2_his['loss'], label='Loss')\n",
    "ax[0].plot(model2_his['val_loss'], label='Validation Loss')\n",
    "plt.xlabel('Epoch')\n",
    "plt.ylabel('Loss')\n",
    "ax[0].set_title('Loss', fontsize=15)\n",
    "\n",
    "ax[1].plot(model2_his['accuracy'], label='Accuracy')\n",
    "ax[1].plot(model2_his['val_accuracy'], label='Validation Accuracy')\n",
    "ax[1].set_title('Accuracy', fontsize=15)\n",
    "\n",
    "plt.legend(loc='best', fontsize=15)"
   ]
  },
  {
   "cell_type": "markdown",
   "id": "c1f98aaa",
   "metadata": {
    "hidden": true
   },
   "source": [
    "We can see that both loss and accuracy learning curve showed good in the previous two graphes. "
   ]
  },
  {
   "cell_type": "markdown",
   "id": "11bc6e4d",
   "metadata": {
    "heading_collapsed": true,
    "hidden": true
   },
   "source": [
    "### 4.2.3 Model evaluation and prediction"
   ]
  },
  {
   "cell_type": "code",
   "execution_count": 60,
   "id": "2dd7bec9",
   "metadata": {
    "hidden": true
   },
   "outputs": [
    {
     "name": "stdout",
     "output_type": "stream",
     "text": [
      "32/32 [==============================] - 0s 4ms/step - loss: 0.0468 - accuracy: 0.9860\n"
     ]
    },
    {
     "data": {
      "text/plain": [
       "[0.04679132252931595, 0.9860000014305115]"
      ]
     },
     "execution_count": 60,
     "metadata": {},
     "output_type": "execute_result"
    }
   ],
   "source": [
    "# Evalute model on test dataset\n",
    "model2.evaluate(X_test_CNN, y_test)"
   ]
  },
  {
   "cell_type": "code",
   "execution_count": 61,
   "id": "11e5a32b",
   "metadata": {
    "hidden": true,
    "scrolled": true
   },
   "outputs": [
    {
     "name": "stdout",
     "output_type": "stream",
     "text": [
      "32/32 [==============================] - 0s 4ms/step\n"
     ]
    }
   ],
   "source": [
    "y_pred1 = model.predict(X_test_CNN)\n",
    "predictied_label = np.argmax(y_pred1, axis=1)"
   ]
  },
  {
   "cell_type": "code",
   "execution_count": 62,
   "id": "58d9d558",
   "metadata": {
    "hidden": true,
    "scrolled": true
   },
   "outputs": [
    {
     "name": "stdout",
     "output_type": "stream",
     "text": [
      "              precision    recall  f1-score   support\n",
      "\n",
      "     Basmati       0.98      1.00      0.99       200\n",
      "     Arborio       0.96      0.97      0.96       200\n",
      "   Karacadag       0.97      0.96      0.97       200\n",
      "     Jasmine       0.99      0.97      0.98       200\n",
      "      Ipsala       1.00      1.00      1.00       200\n",
      "\n",
      "    accuracy                           0.98      1000\n",
      "   macro avg       0.98      0.98      0.98      1000\n",
      "weighted avg       0.98      0.98      0.98      1000\n",
      "\n"
     ]
    }
   ],
   "source": [
    "report1 = classification_report(y_test, predictied_label, target_names=type_name)\n",
    "print(report1)"
   ]
  },
  {
   "cell_type": "code",
   "execution_count": 63,
   "id": "6a239b69",
   "metadata": {
    "hidden": true
   },
   "outputs": [
    {
     "data": {
      "image/png": "[encoded data removed]",
      "text/plain": [
       "<Figure size 720x720 with 2 Axes>"
      ]
     },
     "metadata": {
      "needs_background": "light"
     },
     "output_type": "display_data"
    }
   ],
   "source": [
    "#Confusion matrix\n",
    "cm = confusion_matrix(y_true=y_test, y_pred=predictied_label)\n",
    "\n",
    "fig, ax = plt.subplots(figsize=(10,10))\n",
    "ConfusionMatrixDisplay.from_predictions(y_test, predictied_label, \n",
    "                                        ax=ax,\n",
    "                                        display_labels=type_name,\n",
    "                                        xticks_rotation='vertical')\n",
    "plt.show()"
   ]
  },
  {
   "cell_type": "markdown",
   "id": "4ebb3ee8",
   "metadata": {
    "hidden": true
   },
   "source": [
    "This model performs better than the basic model. But for the type **\"Arborio\"** rice, it needs to improve. <br/>\n",
    "For test dataset, basic model has an accuracy of **98.10%** while the improved model has an accuracy of **98.60%**."
   ]
  },
  {
   "cell_type": "markdown",
   "id": "cf01ae64",
   "metadata": {
    "heading_collapsed": true
   },
   "source": [
    "# 5. Model saving"
   ]
  },
  {
   "cell_type": "markdown",
   "id": "3dac42cf",
   "metadata": {
    "hidden": true
   },
   "source": [
    "In this section, we only save two models (two improved models for MLP and CNN model)"
   ]
  },
  {
   "cell_type": "code",
   "execution_count": 64,
   "id": "7cb63b05",
   "metadata": {
    "hidden": true
   },
   "outputs": [
    {
     "name": "stdout",
     "output_type": "stream",
     "text": [
      "INFO:tensorflow:Assets written to: model_MLP/assets\n"
     ]
    }
   ],
   "source": [
    "model_mlp1.save('model_MLP')"
   ]
  },
  {
   "cell_type": "code",
   "execution_count": 65,
   "id": "9f41983c",
   "metadata": {
    "hidden": true,
    "scrolled": true
   },
   "outputs": [
    {
     "name": "stderr",
     "output_type": "stream",
     "text": [
      "WARNING:absl:Found untraced functions such as _jit_compiled_convolution_op while saving (showing 1 of 1). These functions will not be directly callable after loading.\n"
     ]
    },
    {
     "name": "stdout",
     "output_type": "stream",
     "text": [
      "INFO:tensorflow:Assets written to: model_CNN/assets\n"
     ]
    },
    {
     "name": "stderr",
     "output_type": "stream",
     "text": [
      "INFO:tensorflow:Assets written to: model_CNN/assets\n"
     ]
    }
   ],
   "source": [
    "model2.save('model_CNN')"
   ]
  },
  {
   "cell_type": "markdown",
   "id": "3eea9d79",
   "metadata": {},
   "source": [
    "# "
   ]
  },
  {
   "cell_type": "markdown",
   "id": "931778f6",
   "metadata": {
    "heading_collapsed": true
   },
   "source": [
    "## <h3 align=\"center\"> © Haozhe TANG 04.2023. All rights reserved. <h3/>"
   ]
  }
 ],
 "metadata": {
  "kernelspec": {
   "display_name": "Python 3 (ipykernel)",
   "language": "python",
   "name": "python3"
  },
  "language_info": {
   "codemirror_mode": {
    "name": "ipython",
    "version": 3
   },
   "file_extension": ".py",
   "mimetype": "text/x-python",
   "name": "python",
   "nbconvert_exporter": "python",
   "pygments_lexer": "ipython3",
   "version": "3.8.13"
  }
 },
 "nbformat": 4,
 "nbformat_minor": 5
}
